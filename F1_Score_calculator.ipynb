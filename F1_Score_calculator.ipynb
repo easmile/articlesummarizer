{
  "nbformat": 4,
  "nbformat_minor": 0,
  "metadata": {
    "kernelspec": {
      "language": "python",
      "display_name": "Python 3",
      "name": "python3"
    },
    "language_info": {
      "pygments_lexer": "ipython3",
      "nbconvert_exporter": "python",
      "version": "3.6.4",
      "file_extension": ".py",
      "codemirror_mode": {
        "name": "ipython",
        "version": 3
      },
      "name": "python",
      "mimetype": "text/x-python"
    },
    "colab": {
      "name": "F1 Score calculator.ipynb",
      "provenance": [],
      "collapsed_sections": []
    }
  },
  "cells": [
    {
      "cell_type": "markdown",
      "metadata": {
        "id": "uTjVYxuW-Sri"
      },
      "source": [
        "##F1 Score Calculator\n"
      ]
    },
    {
      "cell_type": "markdown",
      "metadata": {
        "id": "y58boxj1ggay"
      },
      "source": [
        "This code was provided by Hira Arshad and can be found here: https://ilmoirfan.com/rouge-an-evaluation-metric-for-text-summarization/\n",
        "\n",
        "The F1 score can be calculated by manually updating the summary and reference variables. The summary variable should contain the computer generated summary and the reference should contain the summary provided in the dataset."
      ]
    },
    {
      "cell_type": "code",
      "metadata": {
        "colab": {
          "base_uri": "https://localhost:8080/"
        },
        "id": "EwmJIntmfPU2",
        "outputId": "a09b8334-b0c2-4fda-e27e-130bf4423ba0"
      },
      "source": [
        "!pip install git+https://github.com/tagucci/pythonrouge.git"
      ],
      "execution_count": 24,
      "outputs": [
        {
          "output_type": "stream",
          "text": [
            "Collecting git+https://github.com/tagucci/pythonrouge.git\n",
            "  Cloning https://github.com/tagucci/pythonrouge.git to /tmp/pip-req-build-cy2q_en1\n",
            "  Running command git clone -q https://github.com/tagucci/pythonrouge.git /tmp/pip-req-build-cy2q_en1\n",
            "Requirement already satisfied (use --upgrade to upgrade): pythonrouge==0.2 from git+https://github.com/tagucci/pythonrouge.git in /usr/local/lib/python3.7/dist-packages\n",
            "Building wheels for collected packages: pythonrouge\n",
            "  Building wheel for pythonrouge (setup.py) ... \u001b[?25l\u001b[?25hdone\n",
            "  Created wheel for pythonrouge: filename=pythonrouge-0.2-cp37-none-any.whl size=285401 sha256=a42eb472f09eebb22addac09ccd4ca5652f2835e9bfec4e693d50a1dbb5a3eff\n",
            "  Stored in directory: /tmp/pip-ephem-wheel-cache-4flbjm3r/wheels/fd/ff/be/6716935d513fa8656ab185cb0aa70aed382b72dda42bf09c95\n",
            "Successfully built pythonrouge\n"
          ],
          "name": "stdout"
        }
      ]
    },
    {
      "cell_type": "code",
      "metadata": {
        "colab": {
          "base_uri": "https://localhost:8080/"
        },
        "id": "smsNDiIif5CA",
        "outputId": "15d07297-23bc-4a80-9a32-b123d1009ccc"
      },
      "source": [
        "!apt-get install -y cpanminus\n",
        "\n",
        "!cpanm --force XML::Parser"
      ],
      "execution_count": 25,
      "outputs": [
        {
          "output_type": "stream",
          "text": [
            "Reading package lists... Done\n",
            "Building dependency tree       \n",
            "Reading state information... Done\n",
            "cpanminus is already the newest version (1.7043-1).\n",
            "The following package was automatically installed and is no longer required:\n",
            "  libnvidia-common-460\n",
            "Use 'apt autoremove' to remove it.\n",
            "0 upgraded, 0 newly installed, 0 to remove and 34 not upgraded.\n",
            "--> Working on XML::Parser\n",
            "Fetching http://www.cpan.org/authors/id/T/TO/TODDR/XML-Parser-2.46.tar.gz ... OK\n",
            "Configuring XML-Parser-2.46 ... OK\n",
            "Building and testing XML-Parser-2.46 ... OK\n",
            "Successfully reinstalled XML-Parser-2.46\n",
            "1 distribution installed\n"
          ],
          "name": "stdout"
        }
      ]
    },
    {
      "cell_type": "code",
      "metadata": {
        "colab": {
          "base_uri": "https://localhost:8080/"
        },
        "id": "qaLJNKI8farg",
        "outputId": "c620a403-22d3-43b5-892f-ea212c683142"
      },
      "source": [
        "from pythonrouge.pythonrouge import Pythonrouge\n",
        "# system summary(prediction) & reference summary\n",
        "reference = [[[\"Nuts had gone bad.\"]]]\n",
        "\n",
        "summary = [[\"Maybe I got the runt of the litter, but when I opened the bag, the foul musty/moldy smell hit me in the face.\"]]\n",
        "\n",
        "# initialize setting of ROUGE to evaluate ROUGE-1, 2, W and SU4\n",
        "rouge = Pythonrouge(summary_file_exist=False,\n",
        "\n",
        "                    summary=summary, reference=reference,\n",
        "\n",
        "                    n_gram=2, ROUGE_SU4=True, ROUGE_L=True,ROUGE_W=True,ROUGE_W_Weight=1.2,\n",
        "\n",
        "                    recall_only=False, stemming=True, stopwords=True,\n",
        "\n",
        "                    word_level=True, length_limit=True, length=50,\n",
        "\n",
        "                    use_cf=False, cf=95, scoring_formula='average',\n",
        "\n",
        "                    resampling=True, samples=1000, favor=True, p=0.5)\n",
        "\n",
        "score = rouge.calc_score()\n",
        "\n",
        "print(score)"
      ],
      "execution_count": 31,
      "outputs": [
        {
          "output_type": "stream",
          "text": [
            "{'ROUGE-1-R': 0.0, 'ROUGE-1-P': 0.0, 'ROUGE-1-F': 0.0, 'ROUGE-2-R': 0.0, 'ROUGE-2-P': 0.0, 'ROUGE-2-F': 0.0, 'ROUGE-L-R': 0.0, 'ROUGE-L-P': 0.0, 'ROUGE-L-F': 0.0, 'ROUGE-W-1.2-R': 0.0, 'ROUGE-W-1.2-P': 0.0, 'ROUGE-W-1.2-F': 0.0, 'ROUGE-SU4-R': 0.0, 'ROUGE-SU4-P': 0.0, 'ROUGE-SU4-F': 0.0}\n"
          ],
          "name": "stdout"
        }
      ]
    }
  ]
}