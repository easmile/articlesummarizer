{
  "nbformat": 4,
  "nbformat_minor": 0,
  "metadata": {
    "colab": {
      "name": "Model 4.ipynb",
      "provenance": [],
      "collapsed_sections": [],
      "machine_shape": "hm"
    },
    "language_info": {
      "name": "python",
      "version": "3.6.4",
      "mimetype": "text/x-python",
      "codemirror_mode": {
        "name": "ipython",
        "version": 3
      },
      "pygments_lexer": "ipython3",
      "nbconvert_exporter": "python",
      "file_extension": ".py"
    },
    "kernelspec": {
      "display_name": "Python 3",
      "language": "python",
      "name": "python3"
    },
    "accelerator": "GPU"
  },
  "cells": [
    {
      "cell_type": "markdown",
      "metadata": {
        "id": "qFuL-RBgXqgU"
      },
      "source": [
        "This completed notebook was provided by Aravind Pai and can be found here: https://github.com/aravindpai/How-to-build-own-text-summarizer-using-deep-learning.\n",
        "\n",
        "In this notebook I will be modifying the code provided, specifically the section of code used to build the model, to explore text summarisation. The remaining sections of code will not be modified and will be used as provided.\n",
        "\n",
        "The dataset used for this model comes from Amazon Reviews and can be found here: https://www.kaggle.com/snap/amazon-fine-food-reviews"
      ]
    },
    {
      "cell_type": "markdown",
      "metadata": {
        "id": "F5dSoP8lGMZi"
      },
      "source": [
        "#Model 4 - 5 LSTM Layers,500K Samples, 512 Batch Size\n",
        "This model is the fourth model developed and has had the number of LSTM layers increased to 5. There is still alot of repetition with the produced summaries and the loss is still high, indicating underfitting.\n",
        "\n",
        "This model uses 500k reviews for the dataset and 5 LSTM input layers. The model is trained on a batch size of 512. \n",
        "\n",
        "\n"
      ]
    },
    {
      "cell_type": "markdown",
      "metadata": {
        "id": "JUValOzcHtEK"
      },
      "source": [
        "###Import the Libraries"
      ]
    },
    {
      "cell_type": "code",
      "metadata": {
        "_uuid": "8f2839f25d086af736a60e9eeb907d3b93b6e0e5",
        "_cell_guid": "b1076dfc-b9ad-4769-8c92-a6c4dae69d19",
        "trusted": true,
        "id": "_Jpu8qLEFxcY",
        "colab": {
          "base_uri": "https://localhost:8080/"
        },
        "outputId": "1a967ef9-16db-469f-f9b6-b476d2933351"
      },
      "source": [
        "import numpy as np\n",
        "import pandas as pd \n",
        "import tensorflow as tf\n",
        "import re\n",
        "from bs4 import BeautifulSoup\n",
        "from keras.preprocessing.text import Tokenizer \n",
        "from keras.preprocessing.sequence import pad_sequences\n",
        "from nltk.corpus import stopwords\n",
        "from tensorflow.keras.layers import Input, LSTM, Embedding, Dense, Concatenate, TimeDistributed\n",
        "from tensorflow.keras.models import Model\n",
        "from tensorflow.keras.callbacks import EarlyStopping\n",
        "from tensorflow.keras.utils import plot_model\n",
        "import warnings\n",
        "import os\n",
        "from tensorflow.python.keras.layers import Layer\n",
        "from tensorflow.python.keras import backend as K\n",
        "import nltk\n",
        "nltk.download('stopwords')\n",
        "pd.set_option(\"display.max_colwidth\", 200)\n",
        "warnings.filterwarnings(\"ignore\")"
      ],
      "execution_count": 1,
      "outputs": [
        {
          "output_type": "stream",
          "text": [
            "[nltk_data] Downloading package stopwords to /root/nltk_data...\n",
            "[nltk_data]   Unzipping corpora/stopwords.zip.\n"
          ],
          "name": "stdout"
        }
      ]
    },
    {
      "cell_type": "markdown",
      "metadata": {
        "id": "NjDFNQXtGl5N"
      },
      "source": [
        "###Attention Layer\n",
        "Keras does not officially support attention layer. So, we can either implement our own attention layer or use a third-party implementation. We will go with the latter option for this model. This was provided by user thushv89 on GitHub and can be found here https://github.com/thushv89/attention_keras/blob/master/src/layers/attention.py"
      ]
    },
    {
      "cell_type": "code",
      "metadata": {
        "id": "vd2HGOD2GPgT"
      },
      "source": [
        "class AttentionLayer(Layer):\n",
        "    \"\"\"\n",
        "    This class implements Bahdanau attention (https://arxiv.org/pdf/1409.0473.pdf).\n",
        "    There are three sets of weights introduced W_a, U_a, and V_a\n",
        "     \"\"\"\n",
        "\n",
        "    def __init__(self, **kwargs):\n",
        "        super(AttentionLayer, self).__init__(**kwargs)\n",
        "\n",
        "    def build(self, input_shape):\n",
        "        assert isinstance(input_shape, list)\n",
        "        # Create a trainable weight variable for this layer.\n",
        "\n",
        "        self.W_a = self.add_weight(name='W_a',\n",
        "                                   shape=tf.TensorShape((input_shape[0][2], input_shape[0][2])),\n",
        "                                   initializer='uniform',\n",
        "                                   trainable=True)\n",
        "        self.U_a = self.add_weight(name='U_a',\n",
        "                                   shape=tf.TensorShape((input_shape[1][2], input_shape[0][2])),\n",
        "                                   initializer='uniform',\n",
        "                                   trainable=True)\n",
        "        self.V_a = self.add_weight(name='V_a',\n",
        "                                   shape=tf.TensorShape((input_shape[0][2], 1)),\n",
        "                                   initializer='uniform',\n",
        "                                   trainable=True)\n",
        "\n",
        "        super(AttentionLayer, self).build(input_shape)  # Be sure to call this at the end\n",
        "\n",
        "    def call(self, inputs, verbose=False):\n",
        "        \"\"\"\n",
        "        inputs: [encoder_output_sequence, decoder_output_sequence]\n",
        "        \"\"\"\n",
        "        assert type(inputs) == list\n",
        "        encoder_out_seq, decoder_out_seq = inputs\n",
        "        if verbose:\n",
        "            print('encoder_out_seq>', encoder_out_seq.shape)\n",
        "            print('decoder_out_seq>', decoder_out_seq.shape)\n",
        "\n",
        "        def energy_step(inputs, states):\n",
        "            \"\"\" Step function for computing energy for a single decoder state\n",
        "            inputs: (batchsize * 1 * de_in_dim)\n",
        "            states: (batchsize * 1 * de_latent_dim)\n",
        "            \"\"\"\n",
        "\n",
        "            assert_msg = \"States must be an iterable. Got {} of type {}\".format(states, type(states))\n",
        "            assert isinstance(states, list) or isinstance(states, tuple), assert_msg\n",
        "\n",
        "            \"\"\" Some parameters required for shaping tensors\"\"\"\n",
        "            en_seq_len, en_hidden = encoder_out_seq.shape[1], encoder_out_seq.shape[2]\n",
        "            de_hidden = inputs.shape[-1]\n",
        "\n",
        "            \"\"\" Computing S.Wa where S=[s0, s1, ..., si]\"\"\"\n",
        "            # <= batch size * en_seq_len * latent_dim\n",
        "            W_a_dot_s = K.dot(encoder_out_seq, self.W_a)\n",
        "\n",
        "            \"\"\" Computing hj.Ua \"\"\"\n",
        "            U_a_dot_h = K.expand_dims(K.dot(inputs, self.U_a), 1)  # <= batch_size, 1, latent_dim\n",
        "            if verbose:\n",
        "                print('Ua.h>', U_a_dot_h.shape)\n",
        "\n",
        "            \"\"\" tanh(S.Wa + hj.Ua) \"\"\"\n",
        "            # <= batch_size*en_seq_len, latent_dim\n",
        "            Ws_plus_Uh = K.tanh(W_a_dot_s + U_a_dot_h)\n",
        "            if verbose:\n",
        "                print('Ws+Uh>', Ws_plus_Uh.shape)\n",
        "\n",
        "            \"\"\" softmax(va.tanh(S.Wa + hj.Ua)) \"\"\"\n",
        "            # <= batch_size, en_seq_len\n",
        "            e_i = K.squeeze(K.dot(Ws_plus_Uh, self.V_a), axis=-1)\n",
        "            # <= batch_size, en_seq_len\n",
        "            e_i = K.softmax(e_i)\n",
        "\n",
        "            if verbose:\n",
        "                print('ei>', e_i.shape)\n",
        "\n",
        "            return e_i, [e_i]\n",
        "\n",
        "        def context_step(inputs, states):\n",
        "            \"\"\" Step function for computing ci using ei \"\"\"\n",
        "\n",
        "            assert_msg = \"States must be an iterable. Got {} of type {}\".format(states, type(states))\n",
        "            assert isinstance(states, list) or isinstance(states, tuple), assert_msg\n",
        "\n",
        "            # <= batch_size, hidden_size\n",
        "            c_i = K.sum(encoder_out_seq * K.expand_dims(inputs, -1), axis=1)\n",
        "            if verbose:\n",
        "                print('ci>', c_i.shape)\n",
        "            return c_i, [c_i]\n",
        "\n",
        "        fake_state_c = K.sum(encoder_out_seq, axis=1)\n",
        "        fake_state_e = K.sum(encoder_out_seq, axis=2)  # <= (batch_size, enc_seq_len, latent_dim\n",
        "\n",
        "        \"\"\" Computing energy outputs \"\"\"\n",
        "        # e_outputs => (batch_size, de_seq_len, en_seq_len)\n",
        "        last_out, e_outputs, _ = K.rnn(\n",
        "            energy_step, decoder_out_seq, [fake_state_e],\n",
        "        )\n",
        "\n",
        "        \"\"\" Computing context vectors \"\"\"\n",
        "        last_out, c_outputs, _ = K.rnn(\n",
        "            context_step, e_outputs, [fake_state_c],\n",
        "        )\n",
        "\n",
        "        return c_outputs, e_outputs\n",
        "\n",
        "    def compute_output_shape(self, input_shape):\n",
        "        \"\"\" Outputs produced by the layer \"\"\"\n",
        "        return [\n",
        "            tf.TensorShape((input_shape[1][0], input_shape[1][1], input_shape[1][2])),\n",
        "            tf.TensorShape((input_shape[1][0], input_shape[1][1], input_shape[0][1]))\n",
        "        ]"
      ],
      "execution_count": 2,
      "outputs": []
    },
    {
      "cell_type": "markdown",
      "metadata": {
        "id": "UVakjZ3oICgx"
      },
      "source": [
        "###Import Dataset\n",
        "\n",
        "This dataset consists of 500,000 reviews of fine foods from Amazon. For this model, we will be using 100,000 of these reviews.\n",
        "\n",
        "As i am working with Google Colab, the dataset is read from the contents of my personal google drive account. To run this model on your own computer, please download the data set and import it locally."
      ]
    },
    {
      "cell_type": "code",
      "metadata": {
        "id": "o0rXPwNUnoW0"
      },
      "source": [
        "#uncomment this line to import the dataset locally from your own computer and delete the following code cell\n",
        "#data=pd.read_csv(\"../input/amazon-fine-food-reviews/Reviews.csv\",nrows=500000)"
      ],
      "execution_count": 3,
      "outputs": []
    },
    {
      "cell_type": "code",
      "metadata": {
        "colab": {
          "base_uri": "https://localhost:8080/"
        },
        "id": "oxfWuMHvJKYm",
        "outputId": "ed886065-21c9-4b7d-e60e-9dff653d6bcb"
      },
      "source": [
        "#delete this cell if running the code on your own computer\n",
        "from google.colab import drive\n",
        "drive.mount(\"/content/gdrive\")"
      ],
      "execution_count": 4,
      "outputs": [
        {
          "output_type": "stream",
          "text": [
            "Mounted at /content/gdrive\n"
          ],
          "name": "stdout"
        }
      ]
    },
    {
      "cell_type": "code",
      "metadata": {
        "trusted": true,
        "id": "wnK5o4Z1Fxcj"
      },
      "source": [
        "data=pd.read_csv('/content/gdrive/My Drive/inputdataset/Reviews.csv',nrows=500000)"
      ],
      "execution_count": 5,
      "outputs": []
    },
    {
      "cell_type": "markdown",
      "metadata": {
        "id": "kGNQKvCaISIn"
      },
      "source": [
        "### Drop Duplicates and NA values"
      ]
    },
    {
      "cell_type": "code",
      "metadata": {
        "trusted": true,
        "id": "Cjul88oOFxcr"
      },
      "source": [
        "data.drop_duplicates(subset=['Text'],inplace=True)#dropping duplicates\n",
        "data.dropna(axis=0,inplace=True)#dropping na"
      ],
      "execution_count": 6,
      "outputs": []
    },
    {
      "cell_type": "markdown",
      "metadata": {
        "id": "qi0xD6BkIWAm"
      },
      "source": [
        "### Information about dataset\n",
        "\n",
        "These are the column headers and datatypes of the dataset"
      ]
    },
    {
      "cell_type": "code",
      "metadata": {
        "trusted": true,
        "id": "__fy-JxTFxc9",
        "colab": {
          "base_uri": "https://localhost:8080/"
        },
        "outputId": "36852012-b565-4714-bb5b-77e72ce48ca9"
      },
      "source": [
        "data.info()"
      ],
      "execution_count": 7,
      "outputs": [
        {
          "output_type": "stream",
          "text": [
            "<class 'pandas.core.frame.DataFrame'>\n",
            "Int64Index: 352713 entries, 0 to 499998\n",
            "Data columns (total 10 columns):\n",
            " #   Column                  Non-Null Count   Dtype \n",
            "---  ------                  --------------   ----- \n",
            " 0   Id                      352713 non-null  int64 \n",
            " 1   ProductId               352713 non-null  object\n",
            " 2   UserId                  352713 non-null  object\n",
            " 3   ProfileName             352713 non-null  object\n",
            " 4   HelpfulnessNumerator    352713 non-null  int64 \n",
            " 5   HelpfulnessDenominator  352713 non-null  int64 \n",
            " 6   Score                   352713 non-null  int64 \n",
            " 7   Time                    352713 non-null  int64 \n",
            " 8   Summary                 352713 non-null  object\n",
            " 9   Text                    352713 non-null  object\n",
            "dtypes: int64(5), object(5)\n",
            "memory usage: 29.6+ MB\n"
          ],
          "name": "stdout"
        }
      ]
    },
    {
      "cell_type": "markdown",
      "metadata": {
        "id": "r0xLYACiFxdJ"
      },
      "source": [
        "###Preprocessing\n",
        "\n",
        "The data must be cleaned before being inputted into the model so that unwanted noise does not affect the produced summaraies of the model. \n",
        "We will perform the below preprocessing tasks for the data:\n",
        "\n",
        "1.Convert everything to lowercase\n",
        "\n",
        "2.Remove HTML tags\n",
        "\n",
        "3.Contraction mapping\n",
        "\n",
        "4.Remove apostrophes\n",
        "\n",
        "5.Remove any text inside the parenthesis ( )\n",
        "\n",
        "6.Remove punctuations and special characters\n",
        "\n",
        "7.Remove stopwords\n",
        "\n",
        "8.Remove short words"
      ]
    },
    {
      "cell_type": "code",
      "metadata": {
        "trusted": true,
        "id": "0s6IY-x2FxdL"
      },
      "source": [
        "contraction_mapping = {\"ain't\": \"is not\", \"aren't\": \"are not\",\"can't\": \"cannot\", \"'cause\": \"because\", \"could've\": \"could have\", \"couldn't\": \"could not\",\n",
        "                           \"didn't\": \"did not\",  \"doesn't\": \"does not\", \"don't\": \"do not\", \"hadn't\": \"had not\", \"hasn't\": \"has not\", \"haven't\": \"have not\",\n",
        "                           \"he'd\": \"he would\",\"he'll\": \"he will\", \"he's\": \"he is\", \"how'd\": \"how did\", \"how'd'y\": \"how do you\", \"how'll\": \"how will\", \"how's\": \"how is\",\n",
        "                           \"I'd\": \"I would\", \"I'd've\": \"I would have\", \"I'll\": \"I will\", \"I'll've\": \"I will have\",\"I'm\": \"I am\", \"I've\": \"I have\", \"i'd\": \"i would\",\n",
        "                           \"i'd've\": \"i would have\", \"i'll\": \"i will\",  \"i'll've\": \"i will have\",\"i'm\": \"i am\", \"i've\": \"i have\", \"isn't\": \"is not\", \"it'd\": \"it would\",\n",
        "                           \"it'd've\": \"it would have\", \"it'll\": \"it will\", \"it'll've\": \"it will have\",\"it's\": \"it is\", \"let's\": \"let us\", \"ma'am\": \"madam\",\n",
        "                           \"mayn't\": \"may not\", \"might've\": \"might have\",\"mightn't\": \"might not\",\"mightn't've\": \"might not have\", \"must've\": \"must have\",\n",
        "                           \"mustn't\": \"must not\", \"mustn't've\": \"must not have\", \"needn't\": \"need not\", \"needn't've\": \"need not have\",\"o'clock\": \"of the clock\",\n",
        "                           \"oughtn't\": \"ought not\", \"oughtn't've\": \"ought not have\", \"shan't\": \"shall not\", \"sha'n't\": \"shall not\", \"shan't've\": \"shall not have\",\n",
        "                           \"she'd\": \"she would\", \"she'd've\": \"she would have\", \"she'll\": \"she will\", \"she'll've\": \"she will have\", \"she's\": \"she is\",\n",
        "                           \"should've\": \"should have\", \"shouldn't\": \"should not\", \"shouldn't've\": \"should not have\", \"so've\": \"so have\",\"so's\": \"so as\",\n",
        "                           \"this's\": \"this is\",\"that'd\": \"that would\", \"that'd've\": \"that would have\", \"that's\": \"that is\", \"there'd\": \"there would\",\n",
        "                           \"there'd've\": \"there would have\", \"there's\": \"there is\", \"here's\": \"here is\",\"they'd\": \"they would\", \"they'd've\": \"they would have\",\n",
        "                           \"they'll\": \"they will\", \"they'll've\": \"they will have\", \"they're\": \"they are\", \"they've\": \"they have\", \"to've\": \"to have\",\n",
        "                           \"wasn't\": \"was not\", \"we'd\": \"we would\", \"we'd've\": \"we would have\", \"we'll\": \"we will\", \"we'll've\": \"we will have\", \"we're\": \"we are\",\n",
        "                           \"we've\": \"we have\", \"weren't\": \"were not\", \"what'll\": \"what will\", \"what'll've\": \"what will have\", \"what're\": \"what are\",\n",
        "                           \"what's\": \"what is\", \"what've\": \"what have\", \"when's\": \"when is\", \"when've\": \"when have\", \"where'd\": \"where did\", \"where's\": \"where is\",\n",
        "                           \"where've\": \"where have\", \"who'll\": \"who will\", \"who'll've\": \"who will have\", \"who's\": \"who is\", \"who've\": \"who have\",\n",
        "                           \"why's\": \"why is\", \"why've\": \"why have\", \"will've\": \"will have\", \"won't\": \"will not\", \"won't've\": \"will not have\",\n",
        "                           \"would've\": \"would have\", \"wouldn't\": \"would not\", \"wouldn't've\": \"would not have\", \"y'all\": \"you all\",\n",
        "                           \"y'all'd\": \"you all would\",\"y'all'd've\": \"you all would have\",\"y'all're\": \"you all are\",\"y'all've\": \"you all have\",\n",
        "                           \"you'd\": \"you would\", \"you'd've\": \"you would have\", \"you'll\": \"you will\", \"you'll've\": \"you will have\",\n",
        "                           \"you're\": \"you are\", \"you've\": \"you have\"}"
      ],
      "execution_count": 8,
      "outputs": []
    },
    {
      "cell_type": "code",
      "metadata": {
        "trusted": true,
        "id": "XZr-u3OEFxdT"
      },
      "source": [
        "stop_words = set(stopwords.words('english')) \n",
        "\n",
        "def text_cleaner(text,num):\n",
        "  #convert to lower case\n",
        "    newString = text.lower()\n",
        "    #extract text from html tags\n",
        "    newString = BeautifulSoup(newString, \"lxml\").text\n",
        "    #remove punctuation\n",
        "    newString = re.sub(r'\\([^)]*\\)', '', newString)\n",
        "    #remove apostrophes\n",
        "    newString = re.sub('\"','', newString)\n",
        "    #contraction mapping\n",
        "    newString = ' '.join([contraction_mapping[t] if t in contraction_mapping else t for t in newString.split(\" \")])    \n",
        "    newString = re.sub(r\"'s\\b\",\"\",newString)\n",
        "    newString = re.sub(\"[^a-zA-Z]\", \" \", newString) \n",
        "    newString = re.sub('[m]{2,}', 'mm', newString)\n",
        "    if(num==0):\n",
        "        tokens = [w for w in newString.split() if not w in stop_words]\n",
        "    else:\n",
        "        tokens=newString.split()\n",
        "    long_words=[]\n",
        "    for i in tokens:\n",
        "        if len(i)>1:                                                 \n",
        "            long_words.append(i)   \n",
        "    return (\" \".join(long_words)).strip()"
      ],
      "execution_count": 9,
      "outputs": []
    },
    {
      "cell_type": "code",
      "metadata": {
        "trusted": true,
        "id": "A2QAeCHWFxdY"
      },
      "source": [
        "#call the function\n",
        "cleaned_text = []\n",
        "for t in data['Text']:\n",
        "    cleaned_text.append(text_cleaner(t,0)) "
      ],
      "execution_count": 10,
      "outputs": []
    },
    {
      "cell_type": "markdown",
      "metadata": {
        "id": "snRZY8wjLao2"
      },
      "source": [
        "Below are some example reviews after they have been preprocessed"
      ]
    },
    {
      "cell_type": "code",
      "metadata": {
        "trusted": true,
        "id": "NCAIkhWbFxdh",
        "colab": {
          "base_uri": "https://localhost:8080/"
        },
        "outputId": "2b5ea4d2-d1b1-410c-861a-a03a9d1d8821"
      },
      "source": [
        "cleaned_text[:5]  "
      ],
      "execution_count": 11,
      "outputs": [
        {
          "output_type": "execute_result",
          "data": {
            "text/plain": [
              "['bought several vitality canned dog food products found good quality product looks like stew processed meat smells better labrador finicky appreciates product better',\n",
              " 'product arrived labeled jumbo salted peanuts peanuts actually small sized unsalted sure error vendor intended represent product jumbo',\n",
              " 'confection around centuries light pillowy citrus gelatin nuts case filberts cut tiny squares liberally coated powdered sugar tiny mouthful heaven chewy flavorful highly recommend yummy treat familiar story lewis lion witch wardrobe treat seduces edmund selling brother sisters witch',\n",
              " 'looking secret ingredient robitussin believe found got addition root beer extract ordered made cherry soda flavor medicinal',\n",
              " 'great taffy great price wide assortment yummy taffy delivery quick taffy lover deal']"
            ]
          },
          "metadata": {
            "tags": []
          },
          "execution_count": 11
        }
      ]
    },
    {
      "cell_type": "code",
      "metadata": {
        "trusted": true,
        "id": "GsRXocxoFxd-"
      },
      "source": [
        "#call the function\n",
        "cleaned_summary = []\n",
        "for t in data['Summary']:\n",
        "    cleaned_summary.append(text_cleaner(t,1))"
      ],
      "execution_count": 12,
      "outputs": []
    },
    {
      "cell_type": "markdown",
      "metadata": {
        "id": "oZeD0gs6Lnb-"
      },
      "source": [
        "Below are some example summaries that have been preprocessed"
      ]
    },
    {
      "cell_type": "code",
      "metadata": {
        "trusted": true,
        "id": "jQJdZcAzFxee",
        "colab": {
          "base_uri": "https://localhost:8080/"
        },
        "outputId": "4dbc0773-d2fd-4faa-ec93-3930a831313a"
      },
      "source": [
        "cleaned_summary[:10]"
      ],
      "execution_count": 13,
      "outputs": [
        {
          "output_type": "execute_result",
          "data": {
            "text/plain": [
              "['good quality dog food',\n",
              " 'not as advertised',\n",
              " 'delight says it all',\n",
              " 'cough medicine',\n",
              " 'great taffy',\n",
              " 'nice taffy',\n",
              " 'great just as good as the expensive brands',\n",
              " 'wonderful tasty taffy',\n",
              " 'yay barley',\n",
              " 'healthy dog food']"
            ]
          },
          "metadata": {
            "tags": []
          },
          "execution_count": 13
        }
      ]
    },
    {
      "cell_type": "code",
      "metadata": {
        "trusted": true,
        "id": "L1zLpnqsFxey"
      },
      "source": [
        "data['cleaned_text']=cleaned_text\n",
        "data['cleaned_summary']=cleaned_summary"
      ],
      "execution_count": 14,
      "outputs": []
    },
    {
      "cell_type": "markdown",
      "metadata": {
        "id": "KT_D2cLiLy77"
      },
      "source": [
        "###Drop empty rows"
      ]
    },
    {
      "cell_type": "code",
      "metadata": {
        "trusted": true,
        "id": "sYK390unFxfA"
      },
      "source": [
        "data.replace('', np.nan, inplace=True)\n",
        "data.dropna(axis=0,inplace=True)"
      ],
      "execution_count": 15,
      "outputs": []
    },
    {
      "cell_type": "markdown",
      "metadata": {
        "id": "Vm8Fk2TCL7Sp"
      },
      "source": [
        "###Understanding the distribution of the sequences\n",
        "\n",
        "Here, we will analyze the length of the reviews and the summary to get an overall idea about the distribution of length of the text. This will help us fix the maximum length of the sequence"
      ]
    },
    {
      "cell_type": "code",
      "metadata": {
        "trusted": true,
        "id": "MdF76AHHFxgw",
        "colab": {
          "base_uri": "https://localhost:8080/",
          "height": 281
        },
        "outputId": "b2643cfa-f8d3-4fa2-9c0e-d06a4d7cb739"
      },
      "source": [
        "import matplotlib.pyplot as plt\n",
        "\n",
        "text_word_count = []\n",
        "summary_word_count = []\n",
        "\n",
        "# populate the lists with sentence lengths\n",
        "for i in data['cleaned_text']:\n",
        "      text_word_count.append(len(i.split()))\n",
        "\n",
        "for i in data['cleaned_summary']:\n",
        "      summary_word_count.append(len(i.split()))\n",
        "\n",
        "length_df = pd.DataFrame({'text':text_word_count, 'summary':summary_word_count})\n",
        "\n",
        "length_df.hist(bins = 30)\n",
        "plt.show()"
      ],
      "execution_count": 16,
      "outputs": [
        {
          "output_type": "display_data",
          "data": {
            "image/png": "[encoded data removed]",
            "text/plain": [
              "<Figure size 432x288 with 2 Axes>"
            ]
          },
          "metadata": {
            "tags": [],
            "needs_background": "light"
          }
        }
      ]
    },
    {
      "cell_type": "markdown",
      "metadata": {
        "id": "QwdSGIhGMEbz"
      },
      "source": [
        "We can fix the maximum length of the summary to 8 words since that seems to be the majority summary length."
      ]
    },
    {
      "cell_type": "code",
      "metadata": {
        "trusted": true,
        "id": "7JRjwdIOFxg3",
        "colab": {
          "base_uri": "https://localhost:8080/"
        },
        "outputId": "60eab582-45c1-4c33-8cdf-3c1ab7017bf4"
      },
      "source": [
        "cnt=0\n",
        "for i in data['cleaned_summary']:\n",
        "    if(len(i.split())<=8):\n",
        "        cnt=cnt+1\n",
        "print(cnt/len(data['cleaned_summary']))"
      ],
      "execution_count": 17,
      "outputs": [
        {
          "output_type": "stream",
          "text": [
            "0.9456357955851431\n"
          ],
          "name": "stdout"
        }
      ]
    },
    {
      "cell_type": "markdown",
      "metadata": {
        "id": "yYB4Ga9KMjEu"
      },
      "source": [
        "94% of the summaries have length below 8, so we can fix maximum length of summary to 8 words and review length to 30 words."
      ]
    },
    {
      "cell_type": "code",
      "metadata": {
        "trusted": true,
        "id": "ZKD5VOWqFxhC"
      },
      "source": [
        "max_text_len=30\n",
        "max_summary_len=8"
      ],
      "execution_count": 18,
      "outputs": []
    },
    {
      "cell_type": "markdown",
      "metadata": {
        "id": "E6d48E-8M4VO"
      },
      "source": [
        "Selecting the reviews who, after preprocessing, have review and summary lengths that are withing the maximum word lengths"
      ]
    },
    {
      "cell_type": "code",
      "metadata": {
        "trusted": true,
        "id": "yY0tEJP0FxhI"
      },
      "source": [
        "cleaned_text =np.array(data['cleaned_text'])\n",
        "cleaned_summary=np.array(data['cleaned_summary'])\n",
        "\n",
        "short_text=[]\n",
        "short_summary=[]\n",
        "\n",
        "for i in range(len(cleaned_text)):\n",
        "    if(len(cleaned_summary[i].split())<=max_summary_len and len(cleaned_text[i].split())<=max_text_len):\n",
        "        short_text.append(cleaned_text[i])\n",
        "        short_summary.append(cleaned_summary[i])\n",
        "        \n",
        "df=pd.DataFrame({'text':short_text,'summary':short_summary})"
      ],
      "execution_count": 19,
      "outputs": []
    },
    {
      "cell_type": "markdown",
      "metadata": {
        "id": "tR1uh8xSNUma"
      },
      "source": [
        "\n",
        "Start and end special tokens must be added to the beggining and end of the summaries. 'sostok' will be used as the start token and 'eostok' will be used as the end token."
      ]
    },
    {
      "cell_type": "code",
      "metadata": {
        "trusted": true,
        "id": "EwLUH78CFxhg"
      },
      "source": [
        "df['summary'] = df['summary'].apply(lambda x : 'sostok '+ x + ' eostok')"
      ],
      "execution_count": 20,
      "outputs": []
    },
    {
      "cell_type": "markdown",
      "metadata": {
        "id": "1GlcX4RFOh13"
      },
      "source": [
        "The dataset is split into 2 parts, a training set and a validation set. 90% of the data will be used for training, the remaining 10% will be allocated to validation."
      ]
    },
    {
      "cell_type": "code",
      "metadata": {
        "trusted": true,
        "id": "RakakKHcFxhl"
      },
      "source": [
        "from sklearn.model_selection import train_test_split\n",
        "x_tr,x_val,y_tr,y_val=train_test_split(np.array(df['text']),np.array(df['summary']),test_size=0.1,random_state=0,shuffle=True) "
      ],
      "execution_count": 21,
      "outputs": []
    },
    {
      "cell_type": "markdown",
      "metadata": {
        "id": "Vq1mqyOHOtIl"
      },
      "source": [
        "###Preparing the Tokenizer\n",
        "\n",
        "A tokenizer builds the vocabulary and converts a word sequence to an integer sequence."
      ]
    },
    {
      "cell_type": "code",
      "metadata": {
        "trusted": true,
        "id": "oRHTgX6hFxhq"
      },
      "source": [
        "from keras.preprocessing.text import Tokenizer \n",
        "from keras.preprocessing.sequence import pad_sequences\n",
        "\n",
        "#prepare a tokenizer for reviews on training data\n",
        "x_tokenizer = Tokenizer() \n",
        "x_tokenizer.fit_on_texts(list(x_tr))"
      ],
      "execution_count": 22,
      "outputs": []
    },
    {
      "cell_type": "markdown",
      "metadata": {
        "id": "RzvLwYL_PDcx"
      },
      "source": [
        "###Review Rarewords\n",
        "Any word that appears in all reviews less than 4 times will be considered as a rare word"
      ]
    },
    {
      "cell_type": "code",
      "metadata": {
        "trusted": true,
        "id": "y8KronV2Fxhx",
        "colab": {
          "base_uri": "https://localhost:8080/"
        },
        "outputId": "3de07f98-39ad-488e-b98f-49de9286f342"
      },
      "source": [
        "thresh=4\n",
        "\n",
        "cnt=0\n",
        "tot_cnt=0\n",
        "freq=0\n",
        "tot_freq=0\n",
        "\n",
        "for key,value in x_tokenizer.word_counts.items():\n",
        "    tot_cnt=tot_cnt+1\n",
        "    tot_freq=tot_freq+value\n",
        "    if(value<thresh):\n",
        "        cnt=cnt+1\n",
        "        freq=freq+value\n",
        "    \n",
        "print(\"% of rare words in vocabulary:\",(cnt/tot_cnt)*100)\n",
        "print(\"Total Coverage of rare words:\",(freq/tot_freq)*100)"
      ],
      "execution_count": 23,
      "outputs": [
        {
          "output_type": "stream",
          "text": [
            "% of rare words in vocabulary: 67.68920907893717\n",
            "Total Coverage of rare words: 1.5090593294873658\n"
          ],
          "name": "stdout"
        }
      ]
    },
    {
      "cell_type": "markdown",
      "metadata": {
        "id": "So-J-5kzQIeO"
      },
      "source": [
        "Define the tokenizer with top most common words for reviews."
      ]
    },
    {
      "cell_type": "code",
      "metadata": {
        "trusted": true,
        "id": "J2giEsF3Fxh3"
      },
      "source": [
        "#prepare a tokenizer for reviews on training data\n",
        "x_tokenizer = Tokenizer(num_words=tot_cnt-cnt) \n",
        "x_tokenizer.fit_on_texts(list(x_tr))\n",
        "\n",
        "#convert text sequences into integer sequences\n",
        "x_tr_seq    =   x_tokenizer.texts_to_sequences(x_tr) \n",
        "x_val_seq   =   x_tokenizer.texts_to_sequences(x_val)\n",
        "\n",
        "#padding zero upto maximum length\n",
        "x_tr    =   pad_sequences(x_tr_seq,  maxlen=max_text_len, padding='post')\n",
        "x_val   =   pad_sequences(x_val_seq, maxlen=max_text_len, padding='post')\n",
        "\n",
        "#size of vocabulary ( +1 for padding token)\n",
        "x_voc   =  x_tokenizer.num_words + 1"
      ],
      "execution_count": 24,
      "outputs": []
    },
    {
      "cell_type": "code",
      "metadata": {
        "trusted": true,
        "id": "DCbGMsm4FxiA",
        "colab": {
          "base_uri": "https://localhost:8080/"
        },
        "outputId": "309eaa2e-b760-489a-c8ff-95450fa04fb9"
      },
      "source": [
        "x_voc"
      ],
      "execution_count": 25,
      "outputs": [
        {
          "output_type": "execute_result",
          "data": {
            "text/plain": [
              "16685"
            ]
          },
          "metadata": {
            "tags": []
          },
          "execution_count": 25
        }
      ]
    },
    {
      "cell_type": "markdown",
      "metadata": {
        "id": "uQfKP3sqRxi9"
      },
      "source": [
        "###Summary Tokenizer"
      ]
    },
    {
      "cell_type": "code",
      "metadata": {
        "trusted": true,
        "id": "eRHqyBkBFxiJ"
      },
      "source": [
        "#prepare a tokenizer for reviews on training data\n",
        "y_tokenizer = Tokenizer()   \n",
        "y_tokenizer.fit_on_texts(list(y_tr))"
      ],
      "execution_count": 26,
      "outputs": []
    },
    {
      "cell_type": "markdown",
      "metadata": {
        "id": "KInA6O6ZSkJz"
      },
      "source": [
        "###Summary Rarewords\n",
        "Words that appear in all of the summaries less than 6 times will be considered as rare."
      ]
    },
    {
      "cell_type": "code",
      "metadata": {
        "trusted": true,
        "id": "yzE5OiRLFxiM",
        "colab": {
          "base_uri": "https://localhost:8080/"
        },
        "outputId": "d54e00a4-f4eb-4722-9882-b5b697caeee3"
      },
      "source": [
        "thresh=6\n",
        "\n",
        "cnt=0\n",
        "tot_cnt=0\n",
        "freq=0\n",
        "tot_freq=0\n",
        "\n",
        "for key,value in y_tokenizer.word_counts.items():\n",
        "    tot_cnt=tot_cnt+1\n",
        "    tot_freq=tot_freq+value\n",
        "    if(value<thresh):\n",
        "        cnt=cnt+1\n",
        "        freq=freq+value\n",
        "    \n",
        "print(\"% of rare words in vocabulary:\",(cnt/tot_cnt)*100)\n",
        "print(\"Total Coverage of rare words:\",(freq/tot_freq)*100)"
      ],
      "execution_count": 27,
      "outputs": [
        {
          "output_type": "stream",
          "text": [
            "% of rare words in vocabulary: 76.1792934449663\n",
            "Total Coverage of rare words: 2.735001836169195\n"
          ],
          "name": "stdout"
        }
      ]
    },
    {
      "cell_type": "markdown",
      "metadata": {
        "id": "0PBhzKuRSw_9"
      },
      "source": [
        "Define the tokenizer with top most common words for summary."
      ]
    },
    {
      "cell_type": "code",
      "metadata": {
        "trusted": true,
        "id": "-fswLvIgFxiR"
      },
      "source": [
        "#prepare a tokenizer for reviews on training data\n",
        "y_tokenizer = Tokenizer(num_words=tot_cnt-cnt) \n",
        "y_tokenizer.fit_on_texts(list(y_tr))\n",
        "\n",
        "#convert text sequences into integer sequences\n",
        "y_tr_seq    =   y_tokenizer.texts_to_sequences(y_tr) \n",
        "y_val_seq   =   y_tokenizer.texts_to_sequences(y_val) \n",
        "\n",
        "#padding zero upto maximum length\n",
        "y_tr    =   pad_sequences(y_tr_seq, maxlen=max_summary_len, padding='post')\n",
        "y_val   =   pad_sequences(y_val_seq, maxlen=max_summary_len, padding='post')\n",
        "\n",
        "#size of vocabulary\n",
        "y_voc  =   y_tokenizer.num_words +1"
      ],
      "execution_count": 28,
      "outputs": []
    },
    {
      "cell_type": "markdown",
      "metadata": {
        "id": "qqwDUT5oTFmn"
      },
      "source": [
        "Check whether word count of start token is equal to length of the training data"
      ]
    },
    {
      "cell_type": "code",
      "metadata": {
        "trusted": true,
        "id": "pR8IX9FRFxiY",
        "colab": {
          "base_uri": "https://localhost:8080/"
        },
        "outputId": "41131929-6a24-41eb-b3f2-4c68c8eedbd2"
      },
      "source": [
        "y_tokenizer.word_counts['sostok'],len(y_tr)   "
      ],
      "execution_count": 29,
      "outputs": [
        {
          "output_type": "execute_result",
          "data": {
            "text/plain": [
              "(172082, 172082)"
            ]
          },
          "metadata": {
            "tags": []
          },
          "execution_count": 29
        }
      ]
    },
    {
      "cell_type": "markdown",
      "metadata": {
        "id": "LVFhFVguTTtw"
      },
      "source": [
        "Deleting reviews that only contain start and end tokens, and do not have any text between the tokens."
      ]
    },
    {
      "cell_type": "code",
      "metadata": {
        "trusted": true,
        "id": "kZ-vW82sFxih"
      },
      "source": [
        "ind=[]\n",
        "for i in range(len(y_tr)):\n",
        "    cnt=0\n",
        "    for j in y_tr[i]:\n",
        "        if j!=0:\n",
        "            cnt=cnt+1\n",
        "    if(cnt==2):\n",
        "        ind.append(i)\n",
        "\n",
        "y_tr=np.delete(y_tr,ind, axis=0)\n",
        "x_tr=np.delete(x_tr,ind, axis=0)"
      ],
      "execution_count": 30,
      "outputs": []
    },
    {
      "cell_type": "code",
      "metadata": {
        "trusted": true,
        "id": "cx5NISuMFxik"
      },
      "source": [
        "ind=[]\n",
        "for i in range(len(y_val)):\n",
        "    cnt=0\n",
        "    for j in y_val[i]:\n",
        "        if j!=0:\n",
        "            cnt=cnt+1\n",
        "    if(cnt==2):\n",
        "        ind.append(i)\n",
        "\n",
        "y_val=np.delete(y_val,ind, axis=0)\n",
        "x_val=np.delete(x_val,ind, axis=0)"
      ],
      "execution_count": 31,
      "outputs": []
    },
    {
      "cell_type": "markdown",
      "metadata": {
        "id": "wOtlDcthFxip"
      },
      "source": [
        "### Model building\n",
        "Building a model containg 5 encoder LSTM layers as input."
      ]
    },
    {
      "cell_type": "code",
      "metadata": {
        "trusted": true,
        "id": "zXef38nBFxir",
        "colab": {
          "base_uri": "https://localhost:8080/",
          "height": 1000
        },
        "outputId": "d911faa6-a6f6-4f3c-ccac-90b6f8a8b9c1"
      },
      "source": [
        "from keras import backend as K \n",
        "K.clear_session()\n",
        "\n",
        "latent_dim = 300\n",
        "embedding_dim=100\n",
        "\n",
        "# Encoder\n",
        "encoder_inputs = Input(shape=(max_text_len,))\n",
        "\n",
        "#embedding layer\n",
        "enc_emb =  Embedding(x_voc, embedding_dim,trainable=True)(encoder_inputs)\n",
        "\n",
        "#encoder lstm 1\n",
        "encoder_lstm1 = LSTM(latent_dim,return_sequences=True,return_state=True,dropout=0.4,recurrent_dropout=0.4)\n",
        "encoder_output1, state_h1, state_c1 = encoder_lstm1(enc_emb)\n",
        "\n",
        "#encoder lstm 2\n",
        "encoder_lstm2 = LSTM(latent_dim,return_sequences=True,return_state=True,dropout=0.4,recurrent_dropout=0.4)\n",
        "encoder_output2, state_h2, state_c2 = encoder_lstm2(encoder_output1)\n",
        "\n",
        "#encoder lstm 3\n",
        "encoder_lstm3=LSTM(latent_dim, return_state=True, return_sequences=True,dropout=0.4,recurrent_dropout=0.4)\n",
        "encoder_output3, state_h3, state_c3= encoder_lstm3(encoder_output2)\n",
        "\n",
        "#encoder lstm 4\n",
        "encoder_lstm4=LSTM(latent_dim, return_state=True, return_sequences=True,dropout=0.4,recurrent_dropout=0.4)\n",
        "encoder_output4, state_h4, state_c4= encoder_lstm4(encoder_output3)\n",
        "\n",
        "#encoder lstm 5\n",
        "encoder_lstm5=LSTM(latent_dim, return_state=True, return_sequences=True,dropout=0.4,recurrent_dropout=0.4)\n",
        "encoder_outputs, state_h, state_c= encoder_lstm5(encoder_output4)\n",
        "\n",
        "# Set up the decoder, using `encoder_states` as initial state.\n",
        "decoder_inputs = Input(shape=(None,))\n",
        "\n",
        "#embedding layer\n",
        "dec_emb_layer = Embedding(y_voc, embedding_dim,trainable=True)\n",
        "dec_emb = dec_emb_layer(decoder_inputs)\n",
        "\n",
        "decoder_lstm = LSTM(latent_dim, return_sequences=True, return_state=True,dropout=0.4,recurrent_dropout=0.2)\n",
        "decoder_outputs,decoder_fwd_state, decoder_back_state = decoder_lstm(dec_emb,initial_state=[state_h, state_c])\n",
        "\n",
        "# Attention layer\n",
        "attn_layer = AttentionLayer(name='attention_layer')\n",
        "attn_out, attn_states = attn_layer([encoder_outputs, decoder_outputs])\n",
        "\n",
        "# Concat attention input and decoder LSTM output\n",
        "decoder_concat_input = Concatenate(axis=-1, name='concat_layer')([decoder_outputs, attn_out])\n",
        "\n",
        "#dense layer\n",
        "decoder_dense =  TimeDistributed(Dense(y_voc, activation='softmax'))\n",
        "decoder_outputs = decoder_dense(decoder_concat_input)\n",
        "\n",
        "# Define the model \n",
        "model = Model([encoder_inputs, decoder_inputs], decoder_outputs)\n",
        "\n",
        "model.summary()\n",
        "plot_model(model,show_shapes=True) "
      ],
      "execution_count": 32,
      "outputs": [
        {
          "output_type": "stream",
          "text": [
            "WARNING:tensorflow:Layer lstm will not use cuDNN kernel since it doesn't meet the cuDNN kernel criteria. It will use generic GPU kernel as fallback when running on GPU\n",
            "WARNING:tensorflow:Layer lstm_1 will not use cuDNN kernel since it doesn't meet the cuDNN kernel criteria. It will use generic GPU kernel as fallback when running on GPU\n",
            "WARNING:tensorflow:Layer lstm_2 will not use cuDNN kernel since it doesn't meet the cuDNN kernel criteria. It will use generic GPU kernel as fallback when running on GPU\n",
            "WARNING:tensorflow:Layer lstm_3 will not use cuDNN kernel since it doesn't meet the cuDNN kernel criteria. It will use generic GPU kernel as fallback when running on GPU\n",
            "WARNING:tensorflow:Layer lstm_4 will not use cuDNN kernel since it doesn't meet the cuDNN kernel criteria. It will use generic GPU kernel as fallback when running on GPU\n",
            "WARNING:tensorflow:Layer lstm_5 will not use cuDNN kernel since it doesn't meet the cuDNN kernel criteria. It will use generic GPU kernel as fallback when running on GPU\n",
            "Model: \"model\"\n",
            "__________________________________________________________________________________________________\n",
            "Layer (type)                    Output Shape         Param #     Connected to                     \n",
            "==================================================================================================\n",
            "input_1 (InputLayer)            [(None, 30)]         0                                            \n",
            "__________________________________________________________________________________________________\n",
            "embedding (Embedding)           (None, 30, 100)      1668500     input_1[0][0]                    \n",
            "__________________________________________________________________________________________________\n",
            "lstm (LSTM)                     [(None, 30, 300), (N 481200      embedding[0][0]                  \n",
            "__________________________________________________________________________________________________\n",
            "lstm_1 (LSTM)                   [(None, 30, 300), (N 721200      lstm[0][0]                       \n",
            "__________________________________________________________________________________________________\n",
            "lstm_2 (LSTM)                   [(None, 30, 300), (N 721200      lstm_1[0][0]                     \n",
            "__________________________________________________________________________________________________\n",
            "input_2 (InputLayer)            [(None, None)]       0                                            \n",
            "__________________________________________________________________________________________________\n",
            "lstm_3 (LSTM)                   [(None, 30, 300), (N 721200      lstm_2[0][0]                     \n",
            "__________________________________________________________________________________________________\n",
            "embedding_1 (Embedding)         (None, None, 100)    466700      input_2[0][0]                    \n",
            "__________________________________________________________________________________________________\n",
            "lstm_4 (LSTM)                   [(None, 30, 300), (N 721200      lstm_3[0][0]                     \n",
            "__________________________________________________________________________________________________\n",
            "lstm_5 (LSTM)                   [(None, None, 300),  481200      embedding_1[0][0]                \n",
            "                                                                 lstm_4[0][1]                     \n",
            "                                                                 lstm_4[0][2]                     \n",
            "__________________________________________________________________________________________________\n",
            "attention_layer (AttentionLayer ((None, None, 300),  180300      lstm_4[0][0]                     \n",
            "                                                                 lstm_5[0][0]                     \n",
            "__________________________________________________________________________________________________\n",
            "concat_layer (Concatenate)      (None, None, 600)    0           lstm_5[0][0]                     \n",
            "                                                                 attention_layer[0][0]            \n",
            "__________________________________________________________________________________________________\n",
            "time_distributed (TimeDistribut (None, None, 4667)   2804867     concat_layer[0][0]               \n",
            "==================================================================================================\n",
            "Total params: 8,967,567\n",
            "Trainable params: 8,967,567\n",
            "Non-trainable params: 0\n",
            "__________________________________________________________________________________________________\n"
          ],
          "name": "stdout"
        },
        {
          "output_type": "execute_result",
          "data": {
            "image/png": "[encoded data removed]",
            "text/plain": [
              "<IPython.core.display.Image object>"
            ]
          },
          "metadata": {
            "tags": []
          },
          "execution_count": 32
        }
      ]
    },
    {
      "cell_type": "markdown",
      "metadata": {
        "id": "0ZVlfRuMUcoP"
      },
      "source": [
        "Sparse categorical cross-entropy is used as the loss function as it converts the integer sequence to a one-hot vector, overcoming any memory issues."
      ]
    },
    {
      "cell_type": "code",
      "metadata": {
        "trusted": true,
        "id": "Lwfi1Fm8Fxiz"
      },
      "source": [
        "model.compile(optimizer='rmsprop', loss='sparse_categorical_crossentropy')"
      ],
      "execution_count": 33,
      "outputs": []
    },
    {
      "cell_type": "markdown",
      "metadata": {
        "id": "p0ykDbxfUhyw"
      },
      "source": [
        "The model will stop training at an early number of epochs once the validation loss increases for 2 consecutive epochs\n"
      ]
    },
    {
      "cell_type": "code",
      "metadata": {
        "id": "s-A3J92MUljB"
      },
      "source": [
        "es = EarlyStopping(monitor='val_loss', mode='min', verbose=1,patience=2)"
      ],
      "execution_count": 34,
      "outputs": []
    },
    {
      "cell_type": "markdown",
      "metadata": {
        "id": "Mw6CVECaUq5b"
      },
      "source": [
        "The model is trained on a batch size of 512 and validated on the holdout set"
      ]
    },
    {
      "cell_type": "code",
      "metadata": {
        "trusted": true,
        "id": "ETnPzA4OFxi3",
        "colab": {
          "base_uri": "https://localhost:8080/"
        },
        "outputId": "0f1ab4d6-ae1a-4b2f-d659-28aa439480c0"
      },
      "source": [
        "history=model.fit([x_tr,y_tr[:,:-1]], y_tr.reshape(y_tr.shape[0],y_tr.shape[1], 1)[:,1:] ,epochs=25,callbacks=[es],batch_size=512, validation_data=([x_val,y_val[:,:-1]], y_val.reshape(y_val.shape[0],y_val.shape[1], 1)[:,1:]))"
      ],
      "execution_count": 35,
      "outputs": [
        {
          "output_type": "stream",
          "text": [
            "Epoch 1/25\n",
            "331/331 [==============================] - 195s 544ms/step - loss: 3.4199 - val_loss: 2.7342\n",
            "Epoch 2/25\n",
            "331/331 [==============================] - 179s 540ms/step - loss: 2.6636 - val_loss: 2.4742\n",
            "Epoch 3/25\n",
            "331/331 [==============================] - 177s 536ms/step - loss: 2.4456 - val_loss: 2.3450\n",
            "Epoch 4/25\n",
            "331/331 [==============================] - 176s 533ms/step - loss: 2.3107 - val_loss: 2.2719\n",
            "Epoch 5/25\n",
            "331/331 [==============================] - 177s 534ms/step - loss: 2.2147 - val_loss: 2.1976\n",
            "Epoch 6/25\n",
            "331/331 [==============================] - 176s 530ms/step - loss: 2.1485 - val_loss: 2.1516\n",
            "Epoch 7/25\n",
            "331/331 [==============================] - 176s 531ms/step - loss: 2.0829 - val_loss: 2.1215\n",
            "Epoch 8/25\n",
            "331/331 [==============================] - 175s 530ms/step - loss: 2.0356 - val_loss: 2.0830\n",
            "Epoch 9/25\n",
            "331/331 [==============================] - 178s 537ms/step - loss: 1.9896 - val_loss: 2.0649\n",
            "Epoch 10/25\n",
            "331/331 [==============================] - 177s 534ms/step - loss: 1.9530 - val_loss: 2.0459\n",
            "Epoch 11/25\n",
            "331/331 [==============================] - 176s 532ms/step - loss: 1.9240 - val_loss: 2.0382\n",
            "Epoch 12/25\n",
            "331/331 [==============================] - 177s 534ms/step - loss: 1.9004 - val_loss: 2.0214\n",
            "Epoch 13/25\n",
            "331/331 [==============================] - 176s 533ms/step - loss: 1.8750 - val_loss: 2.0164\n",
            "Epoch 14/25\n",
            "331/331 [==============================] - 178s 539ms/step - loss: 1.8497 - val_loss: 2.0151\n",
            "Epoch 15/25\n",
            "331/331 [==============================] - 178s 539ms/step - loss: 1.8375 - val_loss: 2.0065\n",
            "Epoch 16/25\n",
            "331/331 [==============================] - 177s 535ms/step - loss: 1.8111 - val_loss: 2.0030\n",
            "Epoch 17/25\n",
            "331/331 [==============================] - 176s 532ms/step - loss: 1.7884 - val_loss: 1.9968\n",
            "Epoch 18/25\n",
            "331/331 [==============================] - 177s 535ms/step - loss: 1.7757 - val_loss: 1.9952\n",
            "Epoch 19/25\n",
            "331/331 [==============================] - 176s 532ms/step - loss: 1.7636 - val_loss: 1.9976\n",
            "Epoch 20/25\n",
            "331/331 [==============================] - 174s 526ms/step - loss: 1.7443 - val_loss: 1.9941\n",
            "Epoch 21/25\n",
            "331/331 [==============================] - 175s 528ms/step - loss: 1.7291 - val_loss: 2.0048\n",
            "Epoch 22/25\n",
            "331/331 [==============================] - 175s 529ms/step - loss: 1.7154 - val_loss: 1.9959\n",
            "Epoch 00022: early stopping\n"
          ],
          "name": "stdout"
        }
      ]
    },
    {
      "cell_type": "markdown",
      "metadata": {
        "id": "0ezKYOp2UxG5"
      },
      "source": [
        "###Plotting results"
      ]
    },
    {
      "cell_type": "code",
      "metadata": {
        "trusted": true,
        "id": "tDTNLAURFxjE",
        "colab": {
          "base_uri": "https://localhost:8080/",
          "height": 295
        },
        "outputId": "3b4722a3-5f1a-49fd-ea20-f7879e58d129"
      },
      "source": [
        "from matplotlib import pyplot\n",
        "pyplot.plot(history.history['loss'], label='train')\n",
        "pyplot.plot(history.history['val_loss'], label='test')\n",
        "pyplot.title('Results')\n",
        "pyplot.xlabel('Epochs')\n",
        "pyplot.ylabel('Validation Loss')\n",
        "pyplot.legend()\n",
        "pyplot.show()"
      ],
      "execution_count": 36,
      "outputs": [
        {
          "output_type": "display_data",
          "data": {
            "image/png": "[encoded data removed]",
            "text/plain": [
              "<Figure size 432x288 with 1 Axes>"
            ]
          },
          "metadata": {
            "tags": [],
            "needs_background": "light"
          }
        }
      ]
    },
    {
      "cell_type": "markdown",
      "metadata": {
        "id": "HSyx-HvpUz2o"
      },
      "source": [
        "Building the dictionary to convert the index to word for target and source vocabulary:"
      ]
    },
    {
      "cell_type": "code",
      "metadata": {
        "trusted": true,
        "id": "sBX0zZnOFxjW"
      },
      "source": [
        "reverse_target_word_index=y_tokenizer.index_word\n",
        "reverse_source_word_index=x_tokenizer.index_word\n",
        "target_word_index=y_tokenizer.word_index"
      ],
      "execution_count": 37,
      "outputs": []
    },
    {
      "cell_type": "markdown",
      "metadata": {
        "id": "eM_nU_VvFxjq"
      },
      "source": [
        "### Inference\n",
        "Setting up the inference for the encoder and decoder"
      ]
    },
    {
      "cell_type": "code",
      "metadata": {
        "trusted": true,
        "id": "9QkrNV-4Fxjt"
      },
      "source": [
        "# Encode the input sequence to get the feature vector\n",
        "encoder_model = Model(inputs=encoder_inputs,outputs=[encoder_outputs, state_h, state_c])\n",
        "\n",
        "# Decoder setup\n",
        "# Below tensors will hold the states of the previous time step\n",
        "decoder_state_input_h = Input(shape=(latent_dim,))\n",
        "decoder_state_input_c = Input(shape=(latent_dim,))\n",
        "decoder_hidden_state_input = Input(shape=(max_text_len,latent_dim))\n",
        "\n",
        "# Get the embeddings of the decoder sequence\n",
        "dec_emb2= dec_emb_layer(decoder_inputs) \n",
        "# To predict the next word in the sequence, set the initial states to the states from the previous time step\n",
        "decoder_outputs2, state_h2, state_c2 = decoder_lstm(dec_emb2, initial_state=[decoder_state_input_h, decoder_state_input_c])\n",
        "\n",
        "#attention inference\n",
        "attn_out_inf, attn_states_inf = attn_layer([decoder_hidden_state_input, decoder_outputs2])\n",
        "decoder_inf_concat = Concatenate(axis=-1, name='concat')([decoder_outputs2, attn_out_inf])\n",
        "\n",
        "# A dense softmax layer to generate prob dist. over the target vocabulary\n",
        "decoder_outputs2 = decoder_dense(decoder_inf_concat) \n",
        "\n",
        "# Final decoder model\n",
        "decoder_model = Model(\n",
        "    [decoder_inputs] + [decoder_hidden_state_input,decoder_state_input_h, decoder_state_input_c],\n",
        "    [decoder_outputs2] + [state_h2, state_c2])"
      ],
      "execution_count": 38,
      "outputs": []
    },
    {
      "cell_type": "markdown",
      "metadata": {
        "id": "ZH1SxZTvyaYI"
      },
      "source": [
        "Encoder model summary and diagram"
      ]
    },
    {
      "cell_type": "code",
      "metadata": {
        "colab": {
          "base_uri": "https://localhost:8080/",
          "height": 1000
        },
        "id": "gT3_rFBMydMD",
        "outputId": "c2b31643-624e-42f8-d765-fe672766eee5"
      },
      "source": [
        "encoder_model.summary()\n",
        "plot_model(encoder_model,show_shapes=True)"
      ],
      "execution_count": 39,
      "outputs": [
        {
          "output_type": "stream",
          "text": [
            "Model: \"model_1\"\n",
            "_________________________________________________________________\n",
            "Layer (type)                 Output Shape              Param #   \n",
            "=================================================================\n",
            "input_1 (InputLayer)         [(None, 30)]              0         \n",
            "_________________________________________________________________\n",
            "embedding (Embedding)        (None, 30, 100)           1668500   \n",
            "_________________________________________________________________\n",
            "lstm (LSTM)                  [(None, 30, 300), (None,  481200    \n",
            "_________________________________________________________________\n",
            "lstm_1 (LSTM)                [(None, 30, 300), (None,  721200    \n",
            "_________________________________________________________________\n",
            "lstm_2 (LSTM)                [(None, 30, 300), (None,  721200    \n",
            "_________________________________________________________________\n",
            "lstm_3 (LSTM)                [(None, 30, 300), (None,  721200    \n",
            "_________________________________________________________________\n",
            "lstm_4 (LSTM)                [(None, 30, 300), (None,  721200    \n",
            "=================================================================\n",
            "Total params: 5,034,500\n",
            "Trainable params: 5,034,500\n",
            "Non-trainable params: 0\n",
            "_________________________________________________________________\n"
          ],
          "name": "stdout"
        },
        {
          "output_type": "execute_result",
          "data": {
            "image/png": "[encoded data removed]",
            "text/plain": [
              "<IPython.core.display.Image object>"
            ]
          },
          "metadata": {
            "tags": []
          },
          "execution_count": 39
        }
      ]
    },
    {
      "cell_type": "markdown",
      "metadata": {
        "id": "ja2e7aw2yei-"
      },
      "source": [
        "Decoder model summary and diagram"
      ]
    },
    {
      "cell_type": "code",
      "metadata": {
        "colab": {
          "base_uri": "https://localhost:8080/",
          "height": 947
        },
        "id": "vY6Dg-Wcyh3u",
        "outputId": "324490cc-7062-4dc7-ce68-af0f06bccbb0"
      },
      "source": [
        "decoder_model.summary()\n",
        "plot_model(decoder_model,show_shapes=True)"
      ],
      "execution_count": 40,
      "outputs": [
        {
          "output_type": "stream",
          "text": [
            "Model: \"model_2\"\n",
            "__________________________________________________________________________________________________\n",
            "Layer (type)                    Output Shape         Param #     Connected to                     \n",
            "==================================================================================================\n",
            "input_2 (InputLayer)            [(None, None)]       0                                            \n",
            "__________________________________________________________________________________________________\n",
            "embedding_1 (Embedding)         (None, None, 100)    466700      input_2[0][0]                    \n",
            "__________________________________________________________________________________________________\n",
            "input_3 (InputLayer)            [(None, 300)]        0                                            \n",
            "__________________________________________________________________________________________________\n",
            "input_4 (InputLayer)            [(None, 300)]        0                                            \n",
            "__________________________________________________________________________________________________\n",
            "lstm_5 (LSTM)                   [(None, None, 300),  481200      embedding_1[1][0]                \n",
            "                                                                 input_3[0][0]                    \n",
            "                                                                 input_4[0][0]                    \n",
            "__________________________________________________________________________________________________\n",
            "input_5 (InputLayer)            [(None, 30, 300)]    0                                            \n",
            "__________________________________________________________________________________________________\n",
            "attention_layer (AttentionLayer ((None, None, 300),  180300      input_5[0][0]                    \n",
            "                                                                 lstm_5[1][0]                     \n",
            "__________________________________________________________________________________________________\n",
            "concat (Concatenate)            (None, None, 600)    0           lstm_5[1][0]                     \n",
            "                                                                 attention_layer[1][0]            \n",
            "__________________________________________________________________________________________________\n",
            "time_distributed (TimeDistribut (None, None, 4667)   2804867     concat[0][0]                     \n",
            "==================================================================================================\n",
            "Total params: 3,933,067\n",
            "Trainable params: 3,933,067\n",
            "Non-trainable params: 0\n",
            "__________________________________________________________________________________________________\n"
          ],
          "name": "stdout"
        },
        {
          "output_type": "execute_result",
          "data": {
            "image/png": "[encoded data removed]",
            "text/plain": [
              "<IPython.core.display.Image object>"
            ]
          },
          "metadata": {
            "tags": []
          },
          "execution_count": 40
        }
      ]
    },
    {
      "cell_type": "markdown",
      "metadata": {
        "id": "pLdFYfUo25NQ"
      },
      "source": [
        "Implementing inference"
      ]
    },
    {
      "cell_type": "code",
      "metadata": {
        "trusted": true,
        "id": "6f6TTFnBFxj6"
      },
      "source": [
        "def decode_sequence(input_seq):\n",
        "    # Encode the input as state vectors.\n",
        "    e_out, e_h, e_c = encoder_model.predict(input_seq)\n",
        "    \n",
        "    # Generate empty target sequence of length 1.\n",
        "    target_seq = np.zeros((1,1))\n",
        "    \n",
        "    # Populate the first word of target sequence with the start word.\n",
        "    target_seq[0, 0] = target_word_index['sostok']\n",
        "\n",
        "    stop_condition = False\n",
        "    decoded_sentence = ''\n",
        "    while not stop_condition:\n",
        "      \n",
        "        output_tokens, h, c = decoder_model.predict([target_seq] + [e_out, e_h, e_c])\n",
        "\n",
        "        # Sample a token\n",
        "        sampled_token_index = np.argmax(output_tokens[0, -1, :])\n",
        "        sampled_token = reverse_target_word_index[sampled_token_index]\n",
        "        \n",
        "        if(sampled_token!='eostok'):\n",
        "            decoded_sentence += ' '+sampled_token\n",
        "\n",
        "        # Exit condition: either hit max length or find stop word.\n",
        "        if (sampled_token == 'eostok'  or len(decoded_sentence.split()) >= (max_summary_len-1)):\n",
        "            stop_condition = True\n",
        "\n",
        "        # Update the target sequence (of length 1).\n",
        "        target_seq = np.zeros((1,1))\n",
        "        target_seq[0, 0] = sampled_token_index\n",
        "\n",
        "        # Update internal states\n",
        "        e_h, e_c = h, c\n",
        "\n",
        "    return decoded_sentence"
      ],
      "execution_count": 41,
      "outputs": []
    },
    {
      "cell_type": "markdown",
      "metadata": {
        "id": "6GuDf4TPWt6_"
      },
      "source": [
        "Defining the functions to convert an integer sequence to a word sequence for the summary as well as the reviews"
      ]
    },
    {
      "cell_type": "code",
      "metadata": {
        "trusted": true,
        "id": "aAUntznIFxj9"
      },
      "source": [
        "def seq2summary(input_seq):\n",
        "    newString=''\n",
        "    for i in input_seq:\n",
        "        if((i!=0 and i!=target_word_index['sostok']) and i!=target_word_index['eostok']):\n",
        "            newString=newString+reverse_target_word_index[i]+' '\n",
        "    return newString\n",
        "\n",
        "def seq2text(input_seq):\n",
        "    newString=''\n",
        "    for i in input_seq:\n",
        "        if(i!=0):\n",
        "            newString=newString+reverse_source_word_index[i]+' '\n",
        "    return newString"
      ],
      "execution_count": 42,
      "outputs": []
    },
    {
      "cell_type": "markdown",
      "metadata": {
        "id": "9gM4ALyfWwA9"
      },
      "source": [
        "Here are some summaries produced by this model"
      ]
    },
    {
      "cell_type": "code",
      "metadata": {
        "trusted": true,
        "id": "BUtQmQTmFxkI",
        "colab": {
          "base_uri": "https://localhost:8080/"
        },
        "outputId": "35e41188-156e-4952-bca9-185a55b90119"
      },
      "source": [
        "for i in range(0,100):\n",
        "    print(\"Cleaned Review:\",seq2text(x_tr[i]))\n",
        "    print(\"Original Summary:\",seq2summary(y_tr[i]))\n",
        "    print(\"Predicted Summary:\",decode_sequence(x_tr[i].reshape(1,max_text_len)))\n",
        "    print(\"\\n\")"
      ],
      "execution_count": 43,
      "outputs": [
        {
          "output_type": "stream",
          "text": [
            "Cleaned Review: always loved devil food cookies ounce boxes weight watchers one point favorite \n",
            "Original Summary: have always loved these \n",
            "Predicted Summary:  cookies\n",
            "\n",
            "\n",
            "Cleaned Review: grandson freinds daughter loves applesauce make mess take \n",
            "Original Summary: applesauce on the go \n",
            "Predicted Summary:  great for kids\n",
            "\n",
            "\n",
            "Cleaned Review: first got gulped ziplock work well dosage one two treats day like bag says gotten kind dried like much anymore also noticed real improvement stiffness \n",
            "Original Summary: have not results \n",
            "Predicted Summary:  not worth the money\n",
            "\n",
            "\n",
            "Cleaned Review: loved candy would liked candy individually wrapped bought give children candy individually wrapped bought candy give great taste \n",
            "Original Summary: sweet treat \n",
            "Predicted Summary:  candy\n",
            "\n",
            "\n",
            "Cleaned Review: receive tryed great mine came sealed pcs large need fill order \n",
            "Original Summary: great beef sticks \n",
            "Predicted Summary:  great\n",
            "\n",
            "\n",
            "Cleaned Review: technical issue occurred seller contacted apologized inconvenience full refund purchased product girlfriend thrilled bouquet stunning thanks falcon farms \n",
            "Original Summary: great service and flowers \n",
            "Predicted Summary:  great\n",
            "\n",
            "\n",
            "Cleaned Review: bought bread several others test hooked making pizza crust bread friends also become enamored little strong bread us plenty bread types use \n",
            "Original Summary: perfect pizza crust \n",
            "Predicted Summary:  great bread\n",
            "\n",
            "\n",
            "Cleaned Review: arrived disappointed find bonus bag contains ring pops \n",
            "Original Summary: very small package \n",
            "Predicted Summary:  great product\n",
            "\n",
            "\n",
            "Cleaned Review: um awesome tasty treat house guests addicted husband stopped smoking awhile back saved lives \n",
            "Original Summary: yumm \n",
            "Predicted Summary:  addictive\n",
            "\n",
            "\n",
            "Cleaned Review: never fan black licorice tried perfect balance licorice flavor sweetness also like firm suck awhile chew little black cats \n",
            "Original Summary: have been won over \n",
            "Predicted Summary:  best licorice ever\n",
            "\n",
            "\n",
            "Cleaned Review: fully satisfied brisket two reasons would like better fat meat pastrami fat taste like pastrami broth could make pastrami dip \n",
            "Original Summary: smoked beef \n",
            "Predicted Summary:  not good\n",
            "\n",
            "\n",
            "Cleaned Review: great set better rest amazon get bunch flowering tea tea pot add hot water thanks \n",
            "Original Summary: awesome gift for the price \n",
            "Predicted Summary:  tea\n",
            "\n",
            "\n",
            "Cleaned Review: even finicky kitties enjoy pounce pouch added benefit ziplock freshness \n",
            "Original Summary: feline favorite \n",
            "Predicted Summary:  my cats love these\n",
            "\n",
            "\n",
            "Cleaned Review: use everything put spaghetti sauce use garlic bread made steak day great \n",
            "Original Summary: use this on everything \n",
            "Predicted Summary:  great sauce\n",
            "\n",
            "\n",
            "Cleaned Review: ordered bags happy hips approximately change charged bag shipping approximately order shipping disappointed called store put blame amazon shipping charges sellers combined shipping product gets stars seller \n",
            "Original Summary: extremely high shipping \n",
            "Predicted Summary:  great product but overpriced\n",
            "\n",
            "\n",
            "Cleaned Review: crisps good never bought pack looking try new healthy snack problem expiration date packs considering arrived leave much time consume best wonder younger product would taste better fresh \n",
            "Original Summary: delicious but old product \n",
            "Predicted Summary:  great chips\n",
            "\n",
            "\n",
            "Cleaned Review: bought whim store near able find area stuff fabulous good french vanilla ice cream heaven \n",
            "Original Summary: this is great \n",
            "Predicted Summary:  delicious\n",
            "\n",
            "\n",
            "Cleaned Review: guess expecting authentic beef jerky texture flavor terrible reminds parts parts commercial used run tv bad pieces pressed together make totally unpalatable piece food disappointed never purchase \n",
            "Original Summary: should be beef yucky \n",
            "Predicted Summary:  not good\n",
            "\n",
            "\n",
            "Cleaned Review: one best morning items kashi golean crunch cereal great price point beats going store \n",
            "Original Summary: love this stuff \n",
            "Predicted Summary:  great cereal\n",
            "\n",
            "\n",
            "Cleaned Review: first paul newman product tried taste good product nicely packaged goes downhill pretty quickly healthy licorice tasted much better product really really really disapointed \n",
            "Original Summary: very nicely packaged but huge disappointment \n",
            "Predicted Summary:  good but not great\n",
            "\n",
            "\n",
            "Cleaned Review: prefer lighter blends love senseo \n",
            "Original Summary: too much for my taste \n",
            "Predicted Summary:  senseo pods\n",
            "\n",
            "\n",
            "Cleaned Review: best treat ever cat begs day long best noticed hairballs since started eating treats happy give crunchy treats tartar control absolutely favorites \n",
            "Original Summary: cat cannot get enough \n",
            "Predicted Summary:  best cat treat ever\n",
            "\n",
            "\n",
            "Cleaned Review: dried cherries tasty set deliver every two month first right need make deliver every month yes good \n",
            "Original Summary: very nice \n",
            "Predicted Summary:  great for the money\n",
            "\n",
            "\n",
            "Cleaned Review: product arrived within week settled another brand since could find one local stores thrilled taste enjoy great variety fruits included satisfied purchase \n",
            "Original Summary: tropical medley \n",
            "Predicted Summary:  great\n",
            "\n",
            "\n",
            "Cleaned Review: got influenster voxbox awesome products inside one products inside quaker oaks soft banana nut bar thoroughly enjoyed bar great snack one enjoy eating without worry unhealthy would definitely purchase \n",
            "Original Summary: quaker soft baked cereal banana nut bread \n",
            "Predicted Summary:  delicious\n",
            "\n",
            "\n",
            "Cleaned Review: every rust spots bad dents factory reject supply inside stamped expiration dates confidence generally care kind thing given condition fact badly damaged china makes question health codes passed fruit \n",
            "Original Summary: and badly dented cans all of them \n",
            "Predicted Summary:  expired\n",
            "\n",
            "\n",
            "Cleaned Review: buy year old dog weighs pounds loves soft chew easy even though tends scarf fast sure even tastes like natural healthy \n",
            "Original Summary: my little dog loves these \n",
            "Predicted Summary:  my dog loves these\n",
            "\n",
            "\n",
            "Cleaned Review: excited receive christmas present way disappointed bitter tastes like dark hot chocolate gross waste money excited tin came gonna use store christmas ornaments \n",
            "Original Summary: gross \n",
            "Predicted Summary:  not as good as the original\n",
            "\n",
            "\n",
            "Cleaned Review: took abused mature cat shelter sick throwing almost everything vet recommended felidae years ago weighs healthy happy may cost little worth every penny \n",
            "Original Summary: great food \n",
            "Predicted Summary:  my cat loves this\n",
            "\n",
            "\n",
            "Cleaned Review: love coffee flavor smooth low acidic rich flavor might much pumpkin flavor others tasted good would get bags huge last long time \n",
            "Original Summary: great smooth flavor \n",
            "Predicted Summary:  great coffee\n",
            "\n",
            "\n",
            "Cleaned Review: cannot believe good sure beats manwich sauce husband even like sloppy joe sandwiches loved would highly recommend anyone needs make quick meal sweet side like sloppy joes used eat growing \n",
            "Original Summary: great sloppy joe sauce \n",
            "Predicted Summary:  great sauce\n",
            "\n",
            "\n",
            "Cleaned Review: honey wonderful reminds honey mom gave kid gmos ruined crops usa honey strong need use much cheaper honeys flavor mild wonderful \n",
            "Original Summary: best honey ever \n",
            "Predicted Summary:  the best honey\n",
            "\n",
            "\n",
            "Cleaned Review: got knowing like crunchy snacks happy product happen really like peeling left apple esp since organic cinnamon subtle enhances taste nicely highly recommended apple snack lovers \n",
            "Original Summary: yummy \n",
            "Predicted Summary:  great snack\n",
            "\n",
            "\n",
            "Cleaned Review: dog loves probably bit much mind giving smell great pumpkin pie spice cinnamon improvement dog breath \n",
            "Original Summary: delicious and my dog likes them too \n",
            "Predicted Summary:  dog likes it\n",
            "\n",
            "\n",
            "Cleaned Review: trident white best tasting mint gum managed find fact comes multi packs nothing annoying standing drugstore counter line nothing pack gum never without one \n",
            "Original Summary: gum simple and best \n",
            "Predicted Summary:  best gum ever\n",
            "\n",
            "\n",
            "Cleaned Review: stuff fantastic sure else could say like taste concord grape juice hesitate try brand \n",
            "Original Summary: mm mm good \n",
            "Predicted Summary:  great\n",
            "\n",
            "\n",
            "Cleaned Review: looking fruit snacks nuts fits bill everything little sweet small amounts fine apples crunchy whole slices like expecting cut slices soft probably raisins fine well craisins whole slices good mix \n",
            "Original Summary: great snack \n",
            "Predicted Summary:  good snack\n",
            "\n",
            "\n",
            "Cleaned Review: daughter celiac cannot gluten easy use mix taste great especially warm scoop ice cream top \n",
            "Original Summary: great brownie mix \n",
            "Predicted Summary:  great for gluten free baking\n",
            "\n",
            "\n",
            "Cleaned Review: husband drinks tea daily happy tea recommends others \n",
            "Original Summary: tea the drink \n",
            "Predicted Summary:  great tea\n",
            "\n",
            "\n",
            "Cleaned Review: geriatric mini poodle cannot chew biscuits rawhide textures treats soft enough still provide workout gums remaining teeth appreciate fact ingredients domestic manufactured us \n",
            "Original Summary: safe easy to chew tasty \n",
            "Predicted Summary:  my dog loves these\n",
            "\n",
            "\n",
            "Cleaned Review: service dog puppy really satisfied happy food life \n",
            "Original Summary: the best \n",
            "Predicted Summary:  great product\n",
            "\n",
            "\n",
            "Cleaned Review: herbal tea really works increase breast milk supply hard time keeping big boy helped best still drink day may taste greatest would anything make sure baby gets best \n",
            "Original Summary: really works \n",
            "Predicted Summary:  it works\n",
            "\n",
            "\n",
            "Cleaned Review: great dog favorite seem healthy snack easy cut half want give smaller portion \n",
            "Original Summary: dog is nuts about \n",
            "Predicted Summary:  my dog loves these\n",
            "\n",
            "\n",
            "Cleaned Review: use coffee home espresso machine work using regular coffee maker taste excellent product truly deserves stars rich taste time beats starbucks dunkin coffee highly recommended fair price excellent product \n",
            "Original Summary: very tasty \n",
            "Predicted Summary:  lavazza crema espresso espresso\n",
            "\n",
            "\n",
            "Cleaned Review: looking hot spicy came green bag pictures changed formula kept name husband likes new stuff spices good luck \n",
            "Original Summary: not the pictured item \n",
            "Predicted Summary:  hot hot hot\n",
            "\n",
            "\n",
            "Cleaned Review: children love pasta life thought stuff weird fake tasting excessively salty bought two boxes since grocery throw box pretty inedible \n",
            "Original Summary: artificial and way too salty \n",
            "Predicted Summary:  not good\n",
            "\n",
            "\n",
            "Cleaned Review: needs bit rhubarb overall tasty really like jams company \n",
            "Original Summary: good jam \n",
            "Predicted Summary:  good jam\n",
            "\n",
            "\n",
            "Cleaned Review: cannot find maxwell house decaf french roast anywhere los angeles looked glad found shipped promptly expiration date nice months away definitely order thanks \n",
            "Original Summary: it is coffee \n",
            "Predicted Summary:  great coffee\n",
            "\n",
            "\n",
            "Cleaned Review: one year old loves product eats one every day never gives problem trust ingredients eating something thats good \n",
            "Original Summary: great product \n",
            "Predicted Summary:  my daughter loves these\n",
            "\n",
            "\n",
            "Cleaned Review: initially purchased item dog bit nervous given food smelled walked away however heat eats reason heated preferred past wet food obviously better room temperature \n",
            "Original Summary: food for my dog \n",
            "Predicted Summary:  dog food\n",
            "\n",
            "\n",
            "Cleaned Review: great treats fact thing use dog price seem way wrong far possibly incorrect local petsmart \n",
            "Original Summary: seems expensive \n",
            "Predicted Summary:  dog treats\n",
            "\n",
            "\n",
            "Cleaned Review: purchased health benefits unfortunately could get past taste oily grassy taste much ruined flavor anything put \n",
            "Original Summary: tastes like grass \n",
            "Predicted Summary:  not good\n",
            "\n",
            "\n",
            "Cleaned Review: dogs eat love beneful end happy healthy happy food \n",
            "Original Summary: my dogs love this food \n",
            "Predicted Summary:  my dogs love it\n",
            "\n",
            "\n",
            "Cleaned Review: soda refreshing overpowering sweetness sodas carbonation helped give nice little kick gripe may fruit punch sort flavor cherry flavor pronounced \n",
            "Original Summary: nice refreshing light taste \n",
            "Predicted Summary:  refreshing\n",
            "\n",
            "\n",
            "Cleaned Review: gave gift parents past christmas holiday flavor mix spices breading sold would recommend product anyone loves home southern fish fry flavor \n",
            "Original Summary: christmas gift gone great \n",
            "Predicted Summary:  great gift\n",
            "\n",
            "\n",
            "Cleaned Review: thank flavoring came time mother law make really nice cake christmas great tasting thanks \n",
            "Original Summary: just what ordered \n",
            "Predicted Summary:  perfect\n",
            "\n",
            "\n",
            "Cleaned Review: excellent price great item gluten free great taste one every afternoon clock blob time works great \n",
            "Original Summary: kind bars variety pack \n",
            "Predicted Summary:  great product\n",
            "\n",
            "\n",
            "Cleaned Review: different coconut juice one taste closes real thing \n",
            "Original Summary: juice that taste like the real thing \n",
            "Predicted Summary:  coconut water\n",
            "\n",
            "\n",
            "Cleaned Review: use make belgium waffles mini pancakes son daughter love tried waffles even though really like waffles general tasty \n",
            "Original Summary: very good \n",
            "Predicted Summary:  great waffle mix\n",
            "\n",
            "\n",
            "Cleaned Review: month old loves yogurt melts super easy dissolve taste amazing fact organic support project peanut butter africa plus \n",
            "Original Summary: yummy snack \n",
            "Predicted Summary:  great for kids\n",
            "\n",
            "\n",
            "Cleaned Review: cats love food go crazy every day also feel good feeding product \n",
            "Original Summary: excellent cat food \n",
            "Predicted Summary:  my cats love it\n",
            "\n",
            "\n",
            "Cleaned Review: disapointed flavor lack slightly burned microwave popcorn taste sometimes going without better going organic \n",
            "Original Summary: none of the and even less taste \n",
            "Predicted Summary:  not so much\n",
            "\n",
            "\n",
            "Cleaned Review: sort carmelized taste milk cannot get fresh next best alternative even kids want chocolate milk \n",
            "Original Summary: you cannot get fresh it is ok \n",
            "Predicted Summary:  good stuff\n",
            "\n",
            "\n",
            "Cleaned Review: product excellent cooking shipped quickly perfect condition definitely great product highly recommend \n",
            "Original Summary: great product \n",
            "Predicted Summary:  excellent product\n",
            "\n",
            "\n",
            "Cleaned Review: ranch dressing sweet salad keep throwing unless perfer sweet ranch buy product total waste money \n",
            "Original Summary: yuck \n",
            "Predicted Summary:  too sweet\n",
            "\n",
            "\n",
            "Cleaned Review: quick work noodles add water milk boil comparable kraft mac cheese taste anything amazing fine \n",
            "Original Summary: good \n",
            "Predicted Summary:  great for lunch\n",
            "\n",
            "\n",
            "Cleaned Review: puppy loves could previously find vet office broken pieces training well much economical purchase packages time \n",
            "Original Summary: hard to find puppy treats \n",
            "Predicted Summary:  puppy loves these\n",
            "\n",
            "\n",
            "Cleaned Review: ordered lb bag twice receive oats quickly within days shipping cost jumped months probably purchase cheaper buy smaller bulk local health food store shipping oats per lb whereas months ago \n",
            "Original Summary: good product but for shipping cost \n",
            "Predicted Summary:  great product\n",
            "\n",
            "\n",
            "Cleaned Review: yr old loves things special treat chocolate candy pour directly mouth arent messy wouldnt give younger child though pieces small tasted arent cup tea son sure love \n",
            "Original Summary: my kid loves them \n",
            "Predicted Summary:  my daughter loves these\n",
            "\n",
            "\n",
            "Cleaned Review: matcha awesome cannot beat price drink iced also mix vanilla protein shakes buy \n",
            "Original Summary: great \n",
            "Predicted Summary:  great product\n",
            "\n",
            "\n",
            "Cleaned Review: cups easy use flavor amazing usually get two large cups coffee one cup far favorite flavor \n",
            "Original Summary: delicious \n",
            "Predicted Summary:  best coffee ever\n",
            "\n",
            "\n",
            "Cleaned Review: received record time good order happy service white hot chocolate excellent cup product \n",
            "Original Summary: white hot chocolate cups from amazon \n",
            "Predicted Summary:  hot cocoa\n",
            "\n",
            "\n",
            "Cleaned Review: ordered several times candy always fresh thank much \n",
            "Original Summary: always fresh \n",
            "Predicted Summary:  candy\n",
            "\n",
            "\n",
            "Cleaned Review: reason buy amazon price cannot find product anywhere else cheaper good job shipping service product life general \n",
            "Original Summary: hartz \n",
            "Predicted Summary:  great product\n",
            "\n",
            "\n",
            "Cleaned Review: sorry dog would touch anything discard delivered timely manner however may product know work \n",
            "Original Summary: sorry did not work \n",
            "Predicted Summary:  not for dogs\n",
            "\n",
            "\n",
            "Cleaned Review: like texture bread lot like spongy cardboard vendor however responsive complaint issued full credit three unopened loaves \n",
            "Original Summary: california lifestyle flax soy bread oz \n",
            "Predicted Summary:  not good\n",
            "\n",
            "\n",
            "Cleaned Review: normally purchase bulk retailer find vitamin type specialty items amazon com best price prime member shipping quick cost effective like orange lemonade best grape pretty good well \n",
            "Original Summary: great taste great price \n",
            "Predicted Summary:  great product\n",
            "\n",
            "\n",
            "Cleaned Review: absolutely delicious got banana nut bread flavor huge fan banana nut bread general pleasantly surprised tasted super fresh almonds kicked notch plus healthy complain \n",
            "Original Summary: delicious \n",
            "Predicted Summary:  delicious\n",
            "\n",
            "\n",
            "Cleaned Review: granola great taste texture one favorite desserts bakery main granolas wonderful flavor \n",
            "Original Summary: great taste \n",
            "Predicted Summary:  great granola\n",
            "\n",
            "\n",
            "Cleaned Review: searched site gluten free items item came selection choices celiac totally gf item always read find print cannot completely trust website \n",
            "Original Summary: warning this item is not gf \n",
            "Predicted Summary:  not gluten free\n",
            "\n",
            "\n",
            "Cleaned Review: illy brand always one favorite beans price comparable grocery stores matter much tin smashed dented bit every beans unharmed \n",
            "Original Summary: always good choice \n",
            "Predicted Summary:  great coffee\n",
            "\n",
            "\n",
            "Cleaned Review: tiny packets bought thinking regular size kids love product particular package outrageously expensive tiny packages sent back \n",
            "Original Summary: mini mini is right \n",
            "Predicted Summary:  not worth the price\n",
            "\n",
            "\n",
            "Cleaned Review: tried brought local asian store fell love thought buy whole box love spicy tastes lot better ones sold grocery store \n",
            "Original Summary: spicy goodness \n",
            "Predicted Summary:  love these\n",
            "\n",
            "\n",
            "Cleaned Review: grew eating product always loved really creamy sweet enough think another packaged rice pudding compares \n",
            "Original Summary: extremely creamy \n",
            "Predicted Summary:  the best\n",
            "\n",
            "\n",
            "Cleaned Review: really like hemp seeds manitoba got last year repeat order use green smoothies \n",
            "Original Summary: hemp seeds \n",
            "Predicted Summary:  great product\n",
            "\n",
            "\n",
            "Cleaned Review: bought wok products one hit bought high fructose corn syrup hydrogenated oils oyster sauce made stir fry marinades rich added bit flavor run stir fry \n",
            "Original Summary: good sauce \n",
            "Predicted Summary:  great sauce\n",
            "\n",
            "\n",
            "Cleaned Review: grat tasting cup coffee great price also like design kcup les plastic get item subscription brings price even \n",
            "Original Summary: great cup \n",
            "Predicted Summary:  great coffee\n",
            "\n",
            "\n",
            "Cleaned Review: family loves flavor tastes lot like buffalo chicken wings stingy size though family four need make least two packets add family dinner also keep mind mix pasta rice rice \n",
            "Original Summary: knorr buffalo chicken pasta rice side \n",
            "Predicted Summary:  great for the price\n",
            "\n",
            "\n",
            "Cleaned Review: formulation original version sugar sugar first ingredient chocolate version making like nestles quick using place cannot add chocolate original version sugar first ingredient still good mochas though \n",
            "Original Summary: not like the regular malted milk \n",
            "Predicted Summary:  not sugar free\n",
            "\n",
            "\n",
            "Cleaned Review: excellent taste excellent nutritional benefits turned rather picky nutritionally people onto product another aspect product seems suppress hunger maybe \n",
            "Original Summary: excellent \n",
            "Predicted Summary:  great product\n",
            "\n",
            "\n",
            "Cleaned Review: love tea chance buy bulk good pass \n",
            "Original Summary: perfect any time \n",
            "Predicted Summary:  great tea\n",
            "\n",
            "\n",
            "Cleaned Review: golden retriever loves food allergies work great bit hard takes time chew helped replaced rawhides highly recommend \n",
            "Original Summary: great buy \n",
            "Predicted Summary:  my dog loves these\n",
            "\n",
            "\n",
            "Cleaned Review: must order fresh delish ordered st bag gone yum thanks still order \n",
            "Original Summary: delicious \n",
            "Predicted Summary:  delicious\n",
            "\n",
            "\n",
            "Cleaned Review: sensitive sugar alcohols beware product although says sweetened splenda really partially sweetened splenda regardless quite good bit softer texture quite sour full sugar ones good none less \n",
            "Original Summary: contain sugar alcohol \n",
            "Predicted Summary:  sugar free\n",
            "\n",
            "\n",
            "Cleaned Review: cup brooklyn coffee may little taller know work keurig machine buy save money \n",
            "Original Summary: wont work in keurig coffee machine \n",
            "Predicted Summary:  not worth it\n",
            "\n",
            "\n",
            "Cleaned Review: nice mild cup coffee strong good flavor \n",
            "Original Summary: nice mild brew \n",
            "Predicted Summary:  good coffee\n",
            "\n",
            "\n",
            "Cleaned Review: tried whim eating jiffy brand ones time taste better quick easy make add water definitely buy \n",
            "Original Summary: great taste fast and easy \n",
            "Predicted Summary:  great tasting\n",
            "\n",
            "\n",
            "Cleaned Review: great dressing well good marinate make lite add cup water bottle adding oil hard find local stores resorted buying line \n",
            "Original Summary: good seasons basil dressing made lite \n",
            "Predicted Summary:  great salad dressing\n",
            "\n",
            "\n",
            "Cleaned Review: one best products market promotes healthy gums white teeth dog loves things happy likes much keeps happy teeth sparkling \n",
            "Original Summary: hextra oral hygiene chews great product \n",
            "Predicted Summary:  great product\n",
            "\n",
            "\n",
            "Cleaned Review: good bargain depending whether sale came packed well taste oil reviewers mentioned great snack addition salads \n",
            "Original Summary: tasty \n",
            "Predicted Summary:  good stuff\n",
            "\n",
            "\n"
          ],
          "name": "stdout"
        }
      ]
    },
    {
      "cell_type": "markdown",
      "metadata": {
        "id": "BKX_TmLZOgYK"
      },
      "source": [
        "### Model Evaluation"
      ]
    },
    {
      "cell_type": "code",
      "metadata": {
        "colab": {
          "base_uri": "https://localhost:8080/"
        },
        "id": "EaMfkIfmMbG0",
        "outputId": "b47be99f-9058-4ac3-c05d-faa35e017a1e"
      },
      "source": [
        "results = model.evaluate([x_val,y_val[:,:-1]], y_val.reshape(y_val.shape[0],y_val.shape[1], 1)[:,1:])\n",
        "results"
      ],
      "execution_count": 44,
      "outputs": [
        {
          "output_type": "stream",
          "text": [
            "588/588 [==============================] - 32s 55ms/step - loss: 1.9959\n"
          ],
          "name": "stdout"
        },
        {
          "output_type": "execute_result",
          "data": {
            "text/plain": [
              "1.9959068298339844"
            ]
          },
          "metadata": {
            "tags": []
          },
          "execution_count": 44
        }
      ]
    },
    {
      "cell_type": "markdown",
      "metadata": {
        "id": "wPjuZ1euUb7s"
      },
      "source": [
        "### Example Summaries"
      ]
    },
    {
      "cell_type": "code",
      "metadata": {
        "colab": {
          "base_uri": "https://localhost:8080/"
        },
        "id": "9TO1YMPHUfEI",
        "outputId": "8770e82d-0ac7-4286-d6cb-66da9468d2c1"
      },
      "source": [
        "for i in range(0,100):\n",
        "    print(\"Cleaned Review:\",seq2text(x_val[i]))\n",
        "    print(\"Original Summary:\",seq2summary(y_val[i]))\n",
        "    print(\"Predicted Summary:\",decode_sequence(x_val[i].reshape(1,max_text_len)))\n",
        "    print(\"\\n\")"
      ],
      "execution_count": 45,
      "outputs": [
        {
          "output_type": "stream",
          "text": [
            "Cleaned Review: first time ordered palm sugar amazon order arrived broken pack inside box sent email customer service handled quickly week later got replacement palm sugar awesome definitely business merchant thank \n",
            "Original Summary: great product and fantastic customer service \n",
            "Predicted Summary:  great product\n",
            "\n",
            "\n",
            "Cleaned Review: got month old lab puppy keep occupied leave awhile got works fantastically loves \n",
            "Original Summary: new puppy loves this \n",
            "Predicted Summary:  my dog loves these\n",
            "\n",
            "\n",
            "Cleaned Review: love flavor davinci sugar free syrup use almost every day making morning coffee mix caramel butterscotch also great flavors \n",
            "Original Summary: one of my favorites \n",
            "Predicted Summary:  great syrup\n",
            "\n",
            "\n",
            "Cleaned Review: use smoothies cover taste kale peppers mustard greens etc even husband drink green drink chocolate flavor \n",
            "Original Summary: great flavor \n",
            "Predicted Summary:  great for making cider\n",
            "\n",
            "\n",
            "Cleaned Review: item way overpriced compared prices nespresso com provided outstanding customer service \n",
            "Original Summary: overpriced item \n",
            "Predicted Summary:  rip off\n",
            "\n",
            "\n",
            "Cleaned Review: wish pack dried fruit flavors intense nd bag sitting pantry assortment pack expensive \n",
            "Original Summary: no tastes like dried cherry only \n",
            "Predicted Summary:  yummy\n",
            "\n",
            "\n",
            "Cleaned Review: creamy feel high cocoa percentage definitely best dark chocolate \n",
            "Original Summary: excellent \n",
            "Predicted Summary:  great cocoa\n",
            "\n",
            "\n",
            "Cleaned Review: product arrived stated even undamaged dog loves stuff sensitive stomach eat certain foods \n",
            "Original Summary: iams food \n",
            "Predicted Summary:  dog loves it\n",
            "\n",
            "\n",
            "Cleaned Review: great tasting product terrific price cost per box stores much higher \n",
            "Original Summary: great product \n",
            "Predicted Summary:  great product\n",
            "\n",
            "\n",
            "Cleaned Review: somewhat useful stash flu season fall near husband desk finishing \n",
            "Original Summary: yum but salty \n",
            "Predicted Summary:  great for the price\n",
            "\n",
            "\n",
            "Cleaned Review: good chocolate bit pricey texture consistency easy work friends raved flavor \n",
            "Original Summary: good chocolate \n",
            "Predicted Summary:  good stuff\n",
            "\n",
            "\n",
            "Cleaned Review: perfect coffee everyday use wife uses cup second time discard price paid along free shipping made best deal going \n",
            "Original Summary: keurig cup \n",
            "Predicted Summary:  great coffee\n",
            "\n",
            "\n",
            "Cleaned Review: oscar cat tried many fancy feast varities picky eater finally found favorites chicken turkey beef combination amazon happy great price free shipping waiting long lines checkout yeah \n",
            "Original Summary: picky eater finally satisfied \n",
            "Predicted Summary:  my cat loves this\n",
            "\n",
            "\n",
            "Cleaned Review: friend germany introduced husband vinegar fabulous used sauteed brussels sprouts salad dressing also make cole slaw potato salad also wonderful use marinate thinly sliced cucumbers onions refreshing salad addicted \n",
            "Original Summary: delish \n",
            "Predicted Summary:  best salad dressing ever\n",
            "\n",
            "\n",
            "Cleaned Review: daughter like much first day two ate without problem seem give constipation gas etc much better bland tasteless rice oatmeal etc cereals find store smells good tastes good similar nutrients \n",
            "Original Summary: great tasting infant cereal \n",
            "Predicted Summary:  good for the price\n",
            "\n",
            "\n",
            "Cleaned Review: absolutely love stuff right amount flavor kick put everything cannot get enough \n",
            "Original Summary: love this stuff \n",
            "Predicted Summary:  love it\n",
            "\n",
            "\n",
            "Cleaned Review: loved natural flavor sweetner anything alter yummy earthy flavor ginseng also drink cold grate bikram \n",
            "Original Summary: great natural flavor \n",
            "Predicted Summary:  refreshing\n",
            "\n",
            "\n",
            "Cleaned Review: summer introduced crackers long island bought boxes never bought wine healthy addicting enjoy \n",
            "Original Summary: great with wine \n",
            "Predicted Summary:  best crackers ever\n",
            "\n",
            "\n",
            "Cleaned Review: mix cocktail friend pinch lemon peel powder guest saying delicious attempt using item expand use dedicated product great find amazon farm taken time produce \n",
            "Original Summary: what great find \n",
            "Predicted Summary:  great product\n",
            "\n",
            "\n",
            "Cleaned Review: try using facial rather consuming makes skin feel amazing honey naturally might even help acne pesky skin conditions \n",
            "Original Summary: tastes great even better on skin \n",
            "Predicted Summary:  love it\n",
            "\n",
            "\n",
            "Cleaned Review: love much space saves sturdy design cups fit perfectly drawer special edition keurig brewer sits nicely platform \n",
            "Original Summary: very pleased \n",
            "Predicted Summary:  great idea\n",
            "\n",
            "\n",
            "Cleaned Review: convenient keep diaper bag case loves snacks love organic far concerned must \n",
            "Original Summary: love these \n",
            "Predicted Summary:  great for school lunches\n",
            "\n",
            "\n",
            "Cleaned Review: bought several cases brand several competitor amazon tastes better kids prefer prefer much better chocolate flavor much funny taste get type packaging love \n",
            "Original Summary: kid favorite snack drink for the summer \n",
            "Predicted Summary:  not bad\n",
            "\n",
            "\n",
            "Cleaned Review: ordered family members delicious one person even told best jerky would ever would definitely buy make wonderful gift person everything \n",
            "Original Summary: review \n",
            "Predicted Summary:  best beef jerky ever\n",
            "\n",
            "\n",
            "Cleaned Review: good brownie mix little flavor consistency cardboard lot better mixes market would recommend one \n",
            "Original Summary: not good mix \n",
            "Predicted Summary:  good brownie mix\n",
            "\n",
            "\n",
            "Cleaned Review: used sauce many dishes yes good oriental stir fry use base many sauces cooking steak pork chops richly flavored high sodium wonderful product \n",
            "Original Summary: great flavor \n",
            "Predicted Summary:  great sauce\n",
            "\n",
            "\n",
            "Cleaned Review: hoping would ones grocery store olive bar look flavor close bit tinny flavor able use ingredient bit eat \n",
            "Original Summary: little \n",
            "Predicted Summary:  not what expected\n",
            "\n",
            "\n",
            "Cleaned Review: bought got reading fantastic star reviews stuff terrible could take bites threw rest garbage stuck soups left donate homeless \n",
            "Original Summary: this stuff is terrible \n",
            "Predicted Summary:  awful\n",
            "\n",
            "\n",
            "Cleaned Review: great drink like cocoa mix probably like ever made home rich excessively sweet find make cup want sit savor rather gulping \n",
            "Original Summary: yummy \n",
            "Predicted Summary:  great cocoa\n",
            "\n",
            "\n",
            "Cleaned Review: bag last forever use tiny scoop mix wet dog food dog doesnt seem like eat dry may like dry dog food buying amazon \n",
            "Original Summary: big bag great price \n",
            "Predicted Summary:  not for my dog\n",
            "\n",
            "\n",
            "Cleaned Review: excited find cannot believe amazing taste literally cannot tell difference regular chocolate chips price willing buy eat \n",
            "Original Summary: oh happy day \n",
            "Predicted Summary:  the best\n",
            "\n",
            "\n",
            "Cleaned Review: passed test made dad happy pleased amount quality pistachios \n",
            "Original Summary: success \n",
            "Predicted Summary:  great gift\n",
            "\n",
            "\n",
            "Cleaned Review: impressed line products packaging could improved adding shaker top particular seasoning could use garlic opinion \n",
            "Original Summary: am \n",
            "Predicted Summary:  great seasoning\n",
            "\n",
            "\n",
            "Cleaned Review: always liked oberto sausage short bite sized links handy \n",
            "Original Summary: oberto sausage sticks \n",
            "Predicted Summary:  good beef jerky\n",
            "\n",
            "\n",
            "Cleaned Review: blends pretty easy liquids like adding coffee yogurt lemonade girlfriend uses baking since replaces oil great product organic natural \n",
            "Original Summary: delicious organic sugar with smooth flavor \n",
            "Predicted Summary:  great for smoothies\n",
            "\n",
            "\n",
            "Cleaned Review: love tea drink every morning suppose benefits lowering blood pressure sure put little agave enjoy coffee get heart burn upset stomach \n",
            "Original Summary: love this tea \n",
            "Predicted Summary:  great for diabetics\n",
            "\n",
            "\n",
            "Cleaned Review: purchased treats dog food first time unfortunately dogs touch dog food however loved treats even within one bag noticed healthy shinier coat dogs \n",
            "Original Summary: dogs love these \n",
            "Predicted Summary:  my dog loves these\n",
            "\n",
            "\n",
            "Cleaned Review: bitter pinch salt calms nicely good full flavor would noticeable burnt \n",
            "Original Summary: out of \n",
            "Predicted Summary:  too salty\n",
            "\n",
            "\n",
            "Cleaned Review: love coffee drink mud drink coffee drink alot best tasting light brew found \n",
            "Original Summary: great light brew \n",
            "Predicted Summary:  best coffee ever\n",
            "\n",
            "\n",
            "Cleaned Review: terra amazing olive oil greece italy flavorful italian oils americans associated olive oils cook magazine ranks number one \n",
            "Original Summary: terra delicious olive oil from \n",
            "Predicted Summary:  best olive oil\n",
            "\n",
            "\n",
            "Cleaned Review: quick easy snack consistently tasty good quality however require different cook times different microwaves actually healthier potato chips \n",
            "Original Summary: lowrey microwave pork rinds original \n",
            "Predicted Summary:  great snack\n",
            "\n",
            "\n",
            "Cleaned Review: reading lot would increase milk production taking two capsules times day really made difference product arrive quickly trick would recommended \n",
            "Original Summary: loved these capsules worked for me \n",
            "Predicted Summary:  benecol chews\n",
            "\n",
            "\n",
            "Cleaned Review: dragonwell tea leaves brown unlike brands dragonwell tea purchased flavor good buy tea \n",
            "Original Summary: disappointing \n",
            "Predicted Summary:  tea\n",
            "\n",
            "\n",
            "Cleaned Review: dog loves lamb ultramix hates formula never purchase may even switch brands food kinda likes lamb pup loves grain free ultramix formula stay may take loss get rid food \n",
            "Original Summary: picky puppy \n",
            "Predicted Summary:  my dog loves it\n",
            "\n",
            "\n",
            "Cleaned Review: get comes snacks like dip almond butter added protein would rate five like mary products fragile end many small pieces bottom bag \n",
            "Original Summary: after the first case \n",
            "Predicted Summary:  great snack\n",
            "\n",
            "\n",
            "Cleaned Review: excited receive chocolate caramel marshmallow mail sampled three threw trash edible \n",
            "Original Summary: walden farms taste terrible \n",
            "Predicted Summary:  do not waste your money\n",
            "\n",
            "\n",
            "Cleaned Review: tea barely taste requires two three times typical amount loose leaves brew cup even result something barely tastes like tea certainly like earl grey \n",
            "Original Summary: disappointing \n",
            "Predicted Summary:  not good\n",
            "\n",
            "\n",
            "Cleaned Review: used pods several years great quality cup brewed every time pod machine best much better results senseo store brand pods \n",
            "Original Summary: great coffee easy to brew pod \n",
            "Predicted Summary:  senseo pods\n",
            "\n",
            "\n",
            "Cleaned Review: used mustard bath well ten years wonderful aching muscles much many similar products happy amazon \n",
            "Original Summary: the best bath \n",
            "Predicted Summary:  great mustard\n",
            "\n",
            "\n",
            "Cleaned Review: everything expected product good quality two containers promised amount product package came time good condition \n",
            "Original Summary: everything as expected \n",
            "Predicted Summary:  good product\n",
            "\n",
            "\n",
            "Cleaned Review: found tea many groceries stores northeast moved nc could find anywhere along vast amount every kind food love cinnamon taste without fruit normally see bought cases happy \n",
            "Original Summary: best tea ever \n",
            "Predicted Summary:  best tea ever\n",
            "\n",
            "\n",
            "Cleaned Review: nothing better fresh cardamom pods make bread quality price product thank amazon quality sellers \n",
            "Original Summary: great price for cardamom at amazon \n",
            "Predicted Summary:  great product\n",
            "\n",
            "\n",
            "Cleaned Review: agree previous reviewer welcome present older laws need stuff always energy shopping fresh fruit price reasonable especially free shipping \n",
            "Original Summary: nice present for in \n",
            "Predicted Summary:  great product\n",
            "\n",
            "\n",
            "Cleaned Review: recently tried milk chocolate cup amazon thing drink common chocolate color items listed ingredients cocoa number chemical smell chemical taste buy junk say warned deserve stars \n",
            "Original Summary: chocolate lovers beware \n",
            "Predicted Summary:  tastes like mocha\n",
            "\n",
            "\n",
            "Cleaned Review: coffee bean direct co coffee provides good strong cup decaf coffee decaf coffee weak ones espresso roast expensive coffee reasonably priced good rich flavor \n",
            "Original Summary: good brew for fair price \n",
            "Predicted Summary:  good coffee\n",
            "\n",
            "\n",
            "Cleaned Review: dried bananas bag suger heavy laden unhealthy junk need sugar fruit sweet already thought buying healthy snack read lines fault fool twice bag candy much cheaper \n",
            "Original Summary: bag of candy is cheaper \n",
            "Predicted Summary:  not too sweet\n",
            "\n",
            "\n",
            "Cleaned Review: bought waffle mix make waffles three breakfasts family reunion waffles delicious waffles lasted two days yummy everyone wanted one \n",
            "Original Summary: family hit \n",
            "Predicted Summary:  waffle mix\n",
            "\n",
            "\n",
            "Cleaned Review: postum brought back market available online anyone interested original recipe postum available web moment back market long live postum \n",
            "Original Summary: postum is back on the market \n",
            "Predicted Summary:  great product\n",
            "\n",
            "\n",
            "Cleaned Review: staple house teenager takes whenever goes fit easily small purse crumbly nice flavor especially nice place lacks gluten free options filling well \n",
            "Original Summary: favorite \n",
            "Predicted Summary:  great for gluten free diets\n",
            "\n",
            "\n",
            "Cleaned Review: sweet like eating candied meat savory item hoping would skip option go original \n",
            "Original Summary: meh yucky \n",
            "Predicted Summary:  not so good\n",
            "\n",
            "\n",
            "Cleaned Review: gluten free milk free product awesome able use almond milk instead regular milk great delicious easy breakfast make stomach hurt \n",
            "Original Summary: gluten free is delicious \n",
            "Predicted Summary:  great for gluten free baking\n",
            "\n",
            "\n",
            "Cleaned Review: great morning treats filling layer thin wish bit totally recommend sweet tooth fix \n",
            "Original Summary: yummy with coffee \n",
            "Predicted Summary:  great treat\n",
            "\n",
            "\n",
            "Cleaned Review: purchased product bad experience another flavor better selection original pralines taste like \n",
            "Original Summary: better \n",
            "Predicted Summary:  not what expected\n",
            "\n",
            "\n",
            "Cleaned Review: ordered lbs bag date expiration order expensive product get something thats almost expired disappointed would recommend buy seller anymore \n",
            "Original Summary: would not recommend to buy from here \n",
            "Predicted Summary:  expired\n",
            "\n",
            "\n",
            "Cleaned Review: sparkling lemon beverage refreshing delicious tasted better bottled canned lemonade difficult find local stores happy buy case amazon \n",
            "Original Summary: my favorite beverage \n",
            "Predicted Summary:  crystal light grapefruit\n",
            "\n",
            "\n",
            "Cleaned Review: dogs month old goldendoodle month old chocolate labrador retriever love toy cannot buy cheap plastic toys devour within minutes one lasted months buying another one \n",
            "Original Summary: great toy \n",
            "Predicted Summary:  my dog loves it\n",
            "\n",
            "\n",
            "Cleaned Review: delicious able try job went clearance cents since holiday item seen sense know purchase online im happy taste great even without fattening items cant wait mm \n",
            "Original Summary: delicious and not missing anything \n",
            "Predicted Summary:  love these\n",
            "\n",
            "\n",
            "Cleaned Review: orijen truly amazing like giving dogs crack love allergies longer bother taste wild year bad taste wild owned diamond past recalls dog foods \n",
            "Original Summary: fish sea veg \n",
            "Predicted Summary:  my dogs love these\n",
            "\n",
            "\n",
            "Cleaned Review: excellent clean taste honey flavor lasting throughout pallet taste worth money delivery timely packaged product protection \n",
            "Original Summary: honey \n",
            "Predicted Summary:  excellent honey\n",
            "\n",
            "\n",
            "Cleaned Review: received organic catnip christmas races catnip seen reaction wondering make comparable product humans \n",
            "Original Summary: my cat just did not like catnip \n",
            "Predicted Summary:  plants\n",
            "\n",
            "\n",
            "Cleaned Review: read reviews said bowling pin lollipop upside stick hoped fluke unfortunately mine way ball lollipops slightly cracked usable cute sure kids enjoy goody bags \n",
            "Original Summary: disappointed \n",
            "Predicted Summary:  my kids love it\n",
            "\n",
            "\n",
            "Cleaned Review: pumpkin spice weak spice flavors brewed second cup used less water much better buy \n",
            "Original Summary: pumpkin spice much to be \n",
            "Predicted Summary:  not bad\n",
            "\n",
            "\n",
            "Cleaned Review: thing mixed nuts doubt best deluxe mixed nut assortment found quality value purchased excellent prices supermarket recently paying oz container market basket raised pay plus shipping absurd \n",
            "Original Summary: great nuts ridiculous price \n",
            "Predicted Summary:  great value\n",
            "\n",
            "\n",
            "Cleaned Review: puppy chewing bud item keeps chewer busy long periods time mess smell \n",
            "Original Summary: bully sticks \n",
            "Predicted Summary:  dog loves it\n",
            "\n",
            "\n",
            "Cleaned Review: tasted product purchased price free shipping cannot beat \n",
            "Original Summary: vita coco \n",
            "Predicted Summary:  great product\n",
            "\n",
            "\n",
            "Cleaned Review: whole family loves chips go fast great get case \n",
            "Original Summary: the best chips ever \n",
            "Predicted Summary:  great chips\n",
            "\n",
            "\n",
            "Cleaned Review: ordered love crunch dark chocolate red berries yet received aloha blend well sweetheart likes happy received wrong item \n",
            "Original Summary: wrong item \n",
            "Predicted Summary:  great product\n",
            "\n",
            "\n",
            "Cleaned Review: like old choco lite bars favorite candy back air delights new favorite candy bar \n",
            "Original Summary: just like choco lite \n",
            "Predicted Summary:  best candy bar ever\n",
            "\n",
            "\n",
            "Cleaned Review: ordered large amount corporate contest arrived quickly separate shipments product fresh tasty however two packages cellophane broken cookies box make lots purchases amazon make food purchase \n",
            "Original Summary: may not get all your cookies \n",
            "Predicted Summary:  great product\n",
            "\n",
            "\n",
            "Cleaned Review: good cant low fat ordered one order case next \n",
            "Original Summary: amazing \n",
            "Predicted Summary:  good stuff\n",
            "\n",
            "\n",
            "Cleaned Review: best decaf tea found close taste brand regular tea pleased \n",
            "Original Summary: best decaf ever \n",
            "Predicted Summary:  best tea ever\n",
            "\n",
            "\n",
            "Cleaned Review: kettle chip crisp crunchy good although somewhat greasy coated flavoring causing mouth burn expected chip rosemary flavoring leaves greasy gritty residue fingers two three chips \n",
            "Original Summary: flavor too strong coating too messy \n",
            "Predicted Summary:  not so great\n",
            "\n",
            "\n",
            "Cleaned Review: friend give liked much order nice pumpkin taste strong smooth good fall get togethers \n",
            "Original Summary: love this coffee \n",
            "Predicted Summary:  good coffee\n",
            "\n",
            "\n",
            "Cleaned Review: virginia cannot find adequate onion powder everything ounces tastes exactly like onion powder exactly states label bit costly hate going back store every month traffic horrible \n",
            "Original Summary: tastes like onion powder \n",
            "Predicted Summary:  great product\n",
            "\n",
            "\n",
            "Cleaned Review: super shocked come porch find package days early love speedy time freshness oldest daughter getting braces wants super bubble chew way home thank \n",
            "Original Summary: awesome service \n",
            "Predicted Summary:  great product\n",
            "\n",
            "\n",
            "Cleaned Review: cat loves things fish flavored refused anything product would even tolerate food dish pulled shoved side floor \n",
            "Original Summary: kitty would not touch it \n",
            "Predicted Summary:  my cat hated it\n",
            "\n",
            "\n",
            "Cleaned Review: bad better find moist enough rate stars moistness packaged prunes priority nice sweet average size whole dried plums must refrigerate opening tells package think got fair price got \n",
            "Original Summary: newman own organics prunes ounce bags \n",
            "Predicted Summary:  good but not great\n",
            "\n",
            "\n",
            "Cleaned Review: ordered two bags carmel like coating little jalapeno seasoning tasted awful reorder \n",
            "Original Summary: sweet jalapeno popcorn \n",
            "Predicted Summary:  not what expected\n",
            "\n",
            "\n",
            "Cleaned Review: years cafe francais favorite flavor powdered coffee mix never tire buying bulk price made day \n",
            "Original Summary: favorite coffee \n",
            "Predicted Summary:  best coffee ever\n",
            "\n",
            "\n",
            "Cleaned Review: say catsup pete sake thick tomatoey run middle good burger chips also seems lower acidity organic annies brand sell amazon guess catsup equal \n",
            "Original Summary: is \n",
            "Predicted Summary:  way too expensive\n",
            "\n",
            "\n",
            "Cleaned Review: great long periods physical like rock climbing ultimate frisbee \n",
            "Original Summary: great product \n",
            "Predicted Summary:  great product\n",
            "\n",
            "\n",
            "Cleaned Review: product makes great gift cookies delicious tin attractive good quality highly recommended \n",
            "Original Summary: great gift \n",
            "Predicted Summary:  great cookies\n",
            "\n",
            "\n",
            "Cleaned Review: love tea like bitter betty honest tea diabetes bottle snapple white tea mango faves \n",
            "Original Summary: not too sweet not too bitter \n",
            "Predicted Summary:  great tea\n",
            "\n",
            "\n",
            "Cleaned Review: one best sauce condiments world try mixing little bit catsup extend mellow taste bit \n",
            "Original Summary: delicioso \n",
            "Predicted Summary:  the best sauce ever\n",
            "\n",
            "\n",
            "Cleaned Review: delicious lentils keep firmness flavor enhancing recipe use cost little worth looking really good taste texture \n",
            "Original Summary: perfect little lentils \n",
            "Predicted Summary:  great taste\n",
            "\n",
            "\n",
            "Cleaned Review: plant dead arrived leaves burned brown appeared subjected much heat something seller refunding money would preferred received another plant \n",
            "Original Summary: plant was dead when it arrived \n",
            "Predicted Summary:  not what expected\n",
            "\n",
            "\n",
            "Cleaned Review: spring roll wrapper rice exactly looking \n",
            "Original Summary: spring roll wrappers \n",
            "Predicted Summary:  rice\n",
            "\n",
            "\n",
            "Cleaned Review: product arrived promised described oat bran ground little finer previous packages tried makes easier mix yogurt food \n",
            "Original Summary: as promised \n",
            "Predicted Summary:  great product\n",
            "\n",
            "\n",
            "Cleaned Review: really enjoy soup salty makes good lunch homemade good \n",
            "Original Summary: sicilian chicken soup \n",
            "Predicted Summary:  great soup\n",
            "\n",
            "\n",
            "Cleaned Review: originally purchased item town grocer could find locally found licorice scottie dogs amazon price right plus postage cannot better still enjoying purchase thanks amazon \n",
            "Original Summary: excellent choice \n",
            "Predicted Summary:  best licorice ever\n",
            "\n",
            "\n"
          ],
          "name": "stdout"
        }
      ]
    }
  ]
}