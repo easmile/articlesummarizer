{
  "nbformat": 4,
  "nbformat_minor": 0,
  "metadata": {
    "colab": {
      "name": "Model 3.ipynb",
      "provenance": [],
      "collapsed_sections": [],
      "machine_shape": "hm"
    },
    "language_info": {
      "name": "python",
      "version": "3.6.4",
      "mimetype": "text/x-python",
      "codemirror_mode": {
        "name": "ipython",
        "version": 3
      },
      "pygments_lexer": "ipython3",
      "nbconvert_exporter": "python",
      "file_extension": ".py"
    },
    "kernelspec": {
      "display_name": "Python 3",
      "language": "python",
      "name": "python3"
    },
    "accelerator": "GPU"
  },
  "cells": [
    {
      "cell_type": "markdown",
      "metadata": {
        "id": "qFuL-RBgXqgU"
      },
      "source": [
        "This completed notebook was provided by Aravind Pai and can be found here: https://github.com/aravindpai/How-to-build-own-text-summarizer-using-deep-learning.\n",
        "\n",
        "In this notebook I will be modifying the code provided, specifically the section of code used to build the model, to explore text summarisation. The remaining sections of code will not be modified and will be used as provided.\n",
        "\n",
        "The dataset used for this model comes from Amazon Reviews and can be found here: https://www.kaggle.com/snap/amazon-fine-food-reviews"
      ]
    },
    {
      "cell_type": "markdown",
      "metadata": {
        "id": "F5dSoP8lGMZi"
      },
      "source": [
        "#Model 3 - 3 LSTM Layers,500K Samples, 512 Batch Size\n",
        "This model is the third model developed and has had the dataset size increased to 500,000. This is because the models produced summaries where still quite generic and some of the summaries where also still repeated many times e.g. 'great product'.\n",
        "\n",
        "This model uses 500k reviews for the dataset and 3 LSTM input layers. The model is trained on a batch size of 512. \n",
        "\n",
        "\n"
      ]
    },
    {
      "cell_type": "markdown",
      "metadata": {
        "id": "JUValOzcHtEK"
      },
      "source": [
        "###Import the Libraries"
      ]
    },
    {
      "cell_type": "code",
      "metadata": {
        "_uuid": "8f2839f25d086af736a60e9eeb907d3b93b6e0e5",
        "_cell_guid": "b1076dfc-b9ad-4769-8c92-a6c4dae69d19",
        "trusted": true,
        "id": "_Jpu8qLEFxcY",
        "colab": {
          "base_uri": "https://localhost:8080/"
        },
        "outputId": "26a3872f-10cc-4075-bfeb-bbc8de9a3f7d"
      },
      "source": [
        "import numpy as np\n",
        "import pandas as pd \n",
        "import tensorflow as tf\n",
        "import re\n",
        "from bs4 import BeautifulSoup\n",
        "from keras.preprocessing.text import Tokenizer \n",
        "from keras.preprocessing.sequence import pad_sequences\n",
        "from nltk.corpus import stopwords\n",
        "from tensorflow.keras.layers import Input, LSTM, Embedding, Dense, Concatenate, TimeDistributed\n",
        "from tensorflow.keras.models import Model\n",
        "from tensorflow.keras.callbacks import EarlyStopping\n",
        "import warnings\n",
        "import os\n",
        "from tensorflow.python.keras.layers import Layer\n",
        "from tensorflow.python.keras import backend as K\n",
        "import nltk\n",
        "nltk.download('stopwords')\n",
        "pd.set_option(\"display.max_colwidth\", 200)\n",
        "warnings.filterwarnings(\"ignore\")"
      ],
      "execution_count": 2,
      "outputs": [
        {
          "output_type": "stream",
          "text": [
            "[nltk_data] Downloading package stopwords to /root/nltk_data...\n",
            "[nltk_data]   Unzipping corpora/stopwords.zip.\n"
          ],
          "name": "stdout"
        }
      ]
    },
    {
      "cell_type": "markdown",
      "metadata": {
        "id": "NjDFNQXtGl5N"
      },
      "source": [
        "###Attention Layer\n",
        "Keras does not officially support attention layer. So, we can either implement our own attention layer or use a third-party implementation. We will go with the latter option for this model. This was provided by user thushv89 on GitHub and can be found here https://github.com/thushv89/attention_keras/blob/master/src/layers/attention.py"
      ]
    },
    {
      "cell_type": "code",
      "metadata": {
        "id": "vd2HGOD2GPgT"
      },
      "source": [
        "class AttentionLayer(Layer):\n",
        "    \"\"\"\n",
        "    This class implements Bahdanau attention (https://arxiv.org/pdf/1409.0473.pdf).\n",
        "    There are three sets of weights introduced W_a, U_a, and V_a\n",
        "     \"\"\"\n",
        "\n",
        "    def __init__(self, **kwargs):\n",
        "        super(AttentionLayer, self).__init__(**kwargs)\n",
        "\n",
        "    def build(self, input_shape):\n",
        "        assert isinstance(input_shape, list)\n",
        "        # Create a trainable weight variable for this layer.\n",
        "\n",
        "        self.W_a = self.add_weight(name='W_a',\n",
        "                                   shape=tf.TensorShape((input_shape[0][2], input_shape[0][2])),\n",
        "                                   initializer='uniform',\n",
        "                                   trainable=True)\n",
        "        self.U_a = self.add_weight(name='U_a',\n",
        "                                   shape=tf.TensorShape((input_shape[1][2], input_shape[0][2])),\n",
        "                                   initializer='uniform',\n",
        "                                   trainable=True)\n",
        "        self.V_a = self.add_weight(name='V_a',\n",
        "                                   shape=tf.TensorShape((input_shape[0][2], 1)),\n",
        "                                   initializer='uniform',\n",
        "                                   trainable=True)\n",
        "\n",
        "        super(AttentionLayer, self).build(input_shape)  # Be sure to call this at the end\n",
        "\n",
        "    def call(self, inputs, verbose=False):\n",
        "        \"\"\"\n",
        "        inputs: [encoder_output_sequence, decoder_output_sequence]\n",
        "        \"\"\"\n",
        "        assert type(inputs) == list\n",
        "        encoder_out_seq, decoder_out_seq = inputs\n",
        "        if verbose:\n",
        "            print('encoder_out_seq>', encoder_out_seq.shape)\n",
        "            print('decoder_out_seq>', decoder_out_seq.shape)\n",
        "\n",
        "        def energy_step(inputs, states):\n",
        "            \"\"\" Step function for computing energy for a single decoder state\n",
        "            inputs: (batchsize * 1 * de_in_dim)\n",
        "            states: (batchsize * 1 * de_latent_dim)\n",
        "            \"\"\"\n",
        "\n",
        "            assert_msg = \"States must be an iterable. Got {} of type {}\".format(states, type(states))\n",
        "            assert isinstance(states, list) or isinstance(states, tuple), assert_msg\n",
        "\n",
        "            \"\"\" Some parameters required for shaping tensors\"\"\"\n",
        "            en_seq_len, en_hidden = encoder_out_seq.shape[1], encoder_out_seq.shape[2]\n",
        "            de_hidden = inputs.shape[-1]\n",
        "\n",
        "            \"\"\" Computing S.Wa where S=[s0, s1, ..., si]\"\"\"\n",
        "            # <= batch size * en_seq_len * latent_dim\n",
        "            W_a_dot_s = K.dot(encoder_out_seq, self.W_a)\n",
        "\n",
        "            \"\"\" Computing hj.Ua \"\"\"\n",
        "            U_a_dot_h = K.expand_dims(K.dot(inputs, self.U_a), 1)  # <= batch_size, 1, latent_dim\n",
        "            if verbose:\n",
        "                print('Ua.h>', U_a_dot_h.shape)\n",
        "\n",
        "            \"\"\" tanh(S.Wa + hj.Ua) \"\"\"\n",
        "            # <= batch_size*en_seq_len, latent_dim\n",
        "            Ws_plus_Uh = K.tanh(W_a_dot_s + U_a_dot_h)\n",
        "            if verbose:\n",
        "                print('Ws+Uh>', Ws_plus_Uh.shape)\n",
        "\n",
        "            \"\"\" softmax(va.tanh(S.Wa + hj.Ua)) \"\"\"\n",
        "            # <= batch_size, en_seq_len\n",
        "            e_i = K.squeeze(K.dot(Ws_plus_Uh, self.V_a), axis=-1)\n",
        "            # <= batch_size, en_seq_len\n",
        "            e_i = K.softmax(e_i)\n",
        "\n",
        "            if verbose:\n",
        "                print('ei>', e_i.shape)\n",
        "\n",
        "            return e_i, [e_i]\n",
        "\n",
        "        def context_step(inputs, states):\n",
        "            \"\"\" Step function for computing ci using ei \"\"\"\n",
        "\n",
        "            assert_msg = \"States must be an iterable. Got {} of type {}\".format(states, type(states))\n",
        "            assert isinstance(states, list) or isinstance(states, tuple), assert_msg\n",
        "\n",
        "            # <= batch_size, hidden_size\n",
        "            c_i = K.sum(encoder_out_seq * K.expand_dims(inputs, -1), axis=1)\n",
        "            if verbose:\n",
        "                print('ci>', c_i.shape)\n",
        "            return c_i, [c_i]\n",
        "\n",
        "        fake_state_c = K.sum(encoder_out_seq, axis=1)\n",
        "        fake_state_e = K.sum(encoder_out_seq, axis=2)  # <= (batch_size, enc_seq_len, latent_dim\n",
        "\n",
        "        \"\"\" Computing energy outputs \"\"\"\n",
        "        # e_outputs => (batch_size, de_seq_len, en_seq_len)\n",
        "        last_out, e_outputs, _ = K.rnn(\n",
        "            energy_step, decoder_out_seq, [fake_state_e],\n",
        "        )\n",
        "\n",
        "        \"\"\" Computing context vectors \"\"\"\n",
        "        last_out, c_outputs, _ = K.rnn(\n",
        "            context_step, e_outputs, [fake_state_c],\n",
        "        )\n",
        "\n",
        "        return c_outputs, e_outputs\n",
        "\n",
        "    def compute_output_shape(self, input_shape):\n",
        "        \"\"\" Outputs produced by the layer \"\"\"\n",
        "        return [\n",
        "            tf.TensorShape((input_shape[1][0], input_shape[1][1], input_shape[1][2])),\n",
        "            tf.TensorShape((input_shape[1][0], input_shape[1][1], input_shape[0][1]))\n",
        "        ]"
      ],
      "execution_count": 3,
      "outputs": []
    },
    {
      "cell_type": "markdown",
      "metadata": {
        "id": "UVakjZ3oICgx"
      },
      "source": [
        "###Import Dataset\n",
        "\n",
        "This dataset consists of 500,000 reviews of fine foods from Amazon. For this model, we will be using 100,000 of these reviews.\n",
        "\n",
        "As i am working with Google Colab, the dataset is read from the contents of my personal google drive account. To run this model on your own computer, please download the data set and import it locally."
      ]
    },
    {
      "cell_type": "code",
      "metadata": {
        "id": "o0rXPwNUnoW0"
      },
      "source": [
        "#uncomment this line to import the dataset locally from your own computer and delete the following code cell\n",
        "#data=pd.read_csv(\"../input/amazon-fine-food-reviews/Reviews.csv\",nrows=500000)"
      ],
      "execution_count": 4,
      "outputs": []
    },
    {
      "cell_type": "code",
      "metadata": {
        "colab": {
          "base_uri": "https://localhost:8080/"
        },
        "id": "oxfWuMHvJKYm",
        "outputId": "bdc038d8-96df-45a2-e879-190e815f3058"
      },
      "source": [
        "#delete this cell if running the code on your own computer\n",
        "from google.colab import drive\n",
        "drive.mount(\"/content/gdrive\")"
      ],
      "execution_count": 5,
      "outputs": [
        {
          "output_type": "stream",
          "text": [
            "Mounted at /content/gdrive\n"
          ],
          "name": "stdout"
        }
      ]
    },
    {
      "cell_type": "code",
      "metadata": {
        "trusted": true,
        "id": "wnK5o4Z1Fxcj"
      },
      "source": [
        "data=pd.read_csv('/content/gdrive/My Drive/inputdataset/Reviews.csv',nrows=500000)"
      ],
      "execution_count": 6,
      "outputs": []
    },
    {
      "cell_type": "markdown",
      "metadata": {
        "id": "kGNQKvCaISIn"
      },
      "source": [
        "### Drop Duplicates and NA values"
      ]
    },
    {
      "cell_type": "code",
      "metadata": {
        "trusted": true,
        "id": "Cjul88oOFxcr"
      },
      "source": [
        "data.drop_duplicates(subset=['Text'],inplace=True)#dropping duplicates\n",
        "data.dropna(axis=0,inplace=True)#dropping na"
      ],
      "execution_count": 7,
      "outputs": []
    },
    {
      "cell_type": "markdown",
      "metadata": {
        "id": "qi0xD6BkIWAm"
      },
      "source": [
        "### Information about dataset\n",
        "\n",
        "These are the column headers and datatypes of the dataset"
      ]
    },
    {
      "cell_type": "code",
      "metadata": {
        "trusted": true,
        "id": "__fy-JxTFxc9",
        "colab": {
          "base_uri": "https://localhost:8080/"
        },
        "outputId": "dfc62235-2e80-4685-c7b1-24467752cdaa"
      },
      "source": [
        "data.info()"
      ],
      "execution_count": 8,
      "outputs": [
        {
          "output_type": "stream",
          "text": [
            "<class 'pandas.core.frame.DataFrame'>\n",
            "Int64Index: 352713 entries, 0 to 499998\n",
            "Data columns (total 10 columns):\n",
            " #   Column                  Non-Null Count   Dtype \n",
            "---  ------                  --------------   ----- \n",
            " 0   Id                      352713 non-null  int64 \n",
            " 1   ProductId               352713 non-null  object\n",
            " 2   UserId                  352713 non-null  object\n",
            " 3   ProfileName             352713 non-null  object\n",
            " 4   HelpfulnessNumerator    352713 non-null  int64 \n",
            " 5   HelpfulnessDenominator  352713 non-null  int64 \n",
            " 6   Score                   352713 non-null  int64 \n",
            " 7   Time                    352713 non-null  int64 \n",
            " 8   Summary                 352713 non-null  object\n",
            " 9   Text                    352713 non-null  object\n",
            "dtypes: int64(5), object(5)\n",
            "memory usage: 29.6+ MB\n"
          ],
          "name": "stdout"
        }
      ]
    },
    {
      "cell_type": "markdown",
      "metadata": {
        "id": "r0xLYACiFxdJ"
      },
      "source": [
        "###Preprocessing\n",
        "\n",
        "The data must be cleaned before being inputted into the model so that unwanted noise does not affect the produced summaraies of the model. \n",
        "We will perform the below preprocessing tasks for the data:\n",
        "\n",
        "1.Convert everything to lowercase\n",
        "\n",
        "2.Remove HTML tags\n",
        "\n",
        "3.Contraction mapping\n",
        "\n",
        "4.Remove apostrophes\n",
        "\n",
        "5.Remove any text inside the parenthesis ( )\n",
        "\n",
        "6.Remove punctuations and special characters\n",
        "\n",
        "7.Remove stopwords\n",
        "\n",
        "8.Remove short words"
      ]
    },
    {
      "cell_type": "code",
      "metadata": {
        "trusted": true,
        "id": "0s6IY-x2FxdL"
      },
      "source": [
        "contraction_mapping = {\"ain't\": \"is not\", \"aren't\": \"are not\",\"can't\": \"cannot\", \"'cause\": \"because\", \"could've\": \"could have\", \"couldn't\": \"could not\",\n",
        "                           \"didn't\": \"did not\",  \"doesn't\": \"does not\", \"don't\": \"do not\", \"hadn't\": \"had not\", \"hasn't\": \"has not\", \"haven't\": \"have not\",\n",
        "                           \"he'd\": \"he would\",\"he'll\": \"he will\", \"he's\": \"he is\", \"how'd\": \"how did\", \"how'd'y\": \"how do you\", \"how'll\": \"how will\", \"how's\": \"how is\",\n",
        "                           \"I'd\": \"I would\", \"I'd've\": \"I would have\", \"I'll\": \"I will\", \"I'll've\": \"I will have\",\"I'm\": \"I am\", \"I've\": \"I have\", \"i'd\": \"i would\",\n",
        "                           \"i'd've\": \"i would have\", \"i'll\": \"i will\",  \"i'll've\": \"i will have\",\"i'm\": \"i am\", \"i've\": \"i have\", \"isn't\": \"is not\", \"it'd\": \"it would\",\n",
        "                           \"it'd've\": \"it would have\", \"it'll\": \"it will\", \"it'll've\": \"it will have\",\"it's\": \"it is\", \"let's\": \"let us\", \"ma'am\": \"madam\",\n",
        "                           \"mayn't\": \"may not\", \"might've\": \"might have\",\"mightn't\": \"might not\",\"mightn't've\": \"might not have\", \"must've\": \"must have\",\n",
        "                           \"mustn't\": \"must not\", \"mustn't've\": \"must not have\", \"needn't\": \"need not\", \"needn't've\": \"need not have\",\"o'clock\": \"of the clock\",\n",
        "                           \"oughtn't\": \"ought not\", \"oughtn't've\": \"ought not have\", \"shan't\": \"shall not\", \"sha'n't\": \"shall not\", \"shan't've\": \"shall not have\",\n",
        "                           \"she'd\": \"she would\", \"she'd've\": \"she would have\", \"she'll\": \"she will\", \"she'll've\": \"she will have\", \"she's\": \"she is\",\n",
        "                           \"should've\": \"should have\", \"shouldn't\": \"should not\", \"shouldn't've\": \"should not have\", \"so've\": \"so have\",\"so's\": \"so as\",\n",
        "                           \"this's\": \"this is\",\"that'd\": \"that would\", \"that'd've\": \"that would have\", \"that's\": \"that is\", \"there'd\": \"there would\",\n",
        "                           \"there'd've\": \"there would have\", \"there's\": \"there is\", \"here's\": \"here is\",\"they'd\": \"they would\", \"they'd've\": \"they would have\",\n",
        "                           \"they'll\": \"they will\", \"they'll've\": \"they will have\", \"they're\": \"they are\", \"they've\": \"they have\", \"to've\": \"to have\",\n",
        "                           \"wasn't\": \"was not\", \"we'd\": \"we would\", \"we'd've\": \"we would have\", \"we'll\": \"we will\", \"we'll've\": \"we will have\", \"we're\": \"we are\",\n",
        "                           \"we've\": \"we have\", \"weren't\": \"were not\", \"what'll\": \"what will\", \"what'll've\": \"what will have\", \"what're\": \"what are\",\n",
        "                           \"what's\": \"what is\", \"what've\": \"what have\", \"when's\": \"when is\", \"when've\": \"when have\", \"where'd\": \"where did\", \"where's\": \"where is\",\n",
        "                           \"where've\": \"where have\", \"who'll\": \"who will\", \"who'll've\": \"who will have\", \"who's\": \"who is\", \"who've\": \"who have\",\n",
        "                           \"why's\": \"why is\", \"why've\": \"why have\", \"will've\": \"will have\", \"won't\": \"will not\", \"won't've\": \"will not have\",\n",
        "                           \"would've\": \"would have\", \"wouldn't\": \"would not\", \"wouldn't've\": \"would not have\", \"y'all\": \"you all\",\n",
        "                           \"y'all'd\": \"you all would\",\"y'all'd've\": \"you all would have\",\"y'all're\": \"you all are\",\"y'all've\": \"you all have\",\n",
        "                           \"you'd\": \"you would\", \"you'd've\": \"you would have\", \"you'll\": \"you will\", \"you'll've\": \"you will have\",\n",
        "                           \"you're\": \"you are\", \"you've\": \"you have\"}"
      ],
      "execution_count": 9,
      "outputs": []
    },
    {
      "cell_type": "code",
      "metadata": {
        "trusted": true,
        "id": "XZr-u3OEFxdT"
      },
      "source": [
        "stop_words = set(stopwords.words('english')) \n",
        "\n",
        "def text_cleaner(text,num):\n",
        "  #convert to lower case\n",
        "    newString = text.lower()\n",
        "    #extract text from html tags\n",
        "    newString = BeautifulSoup(newString, \"lxml\").text\n",
        "    #remove punctuation\n",
        "    newString = re.sub(r'\\([^)]*\\)', '', newString)\n",
        "    #remove apostrophes\n",
        "    newString = re.sub('\"','', newString)\n",
        "    #contraction mapping\n",
        "    newString = ' '.join([contraction_mapping[t] if t in contraction_mapping else t for t in newString.split(\" \")])    \n",
        "    newString = re.sub(r\"'s\\b\",\"\",newString)\n",
        "    newString = re.sub(\"[^a-zA-Z]\", \" \", newString) \n",
        "    newString = re.sub('[m]{2,}', 'mm', newString)\n",
        "    if(num==0):\n",
        "        tokens = [w for w in newString.split() if not w in stop_words]\n",
        "    else:\n",
        "        tokens=newString.split()\n",
        "    long_words=[]\n",
        "    for i in tokens:\n",
        "        if len(i)>1:                                                 \n",
        "            long_words.append(i)   \n",
        "    return (\" \".join(long_words)).strip()"
      ],
      "execution_count": 10,
      "outputs": []
    },
    {
      "cell_type": "code",
      "metadata": {
        "trusted": true,
        "id": "A2QAeCHWFxdY"
      },
      "source": [
        "#call the function\n",
        "cleaned_text = []\n",
        "for t in data['Text']:\n",
        "    cleaned_text.append(text_cleaner(t,0)) "
      ],
      "execution_count": 11,
      "outputs": []
    },
    {
      "cell_type": "markdown",
      "metadata": {
        "id": "snRZY8wjLao2"
      },
      "source": [
        "Below are some example reviews after they have been preprocessed"
      ]
    },
    {
      "cell_type": "code",
      "metadata": {
        "trusted": true,
        "id": "NCAIkhWbFxdh",
        "colab": {
          "base_uri": "https://localhost:8080/"
        },
        "outputId": "446c7fcb-3b93-4203-ac43-79d69a848049"
      },
      "source": [
        "cleaned_text[:5]  "
      ],
      "execution_count": 12,
      "outputs": [
        {
          "output_type": "execute_result",
          "data": {
            "text/plain": [
              "['bought several vitality canned dog food products found good quality product looks like stew processed meat smells better labrador finicky appreciates product better',\n",
              " 'product arrived labeled jumbo salted peanuts peanuts actually small sized unsalted sure error vendor intended represent product jumbo',\n",
              " 'confection around centuries light pillowy citrus gelatin nuts case filberts cut tiny squares liberally coated powdered sugar tiny mouthful heaven chewy flavorful highly recommend yummy treat familiar story lewis lion witch wardrobe treat seduces edmund selling brother sisters witch',\n",
              " 'looking secret ingredient robitussin believe found got addition root beer extract ordered made cherry soda flavor medicinal',\n",
              " 'great taffy great price wide assortment yummy taffy delivery quick taffy lover deal']"
            ]
          },
          "metadata": {
            "tags": []
          },
          "execution_count": 12
        }
      ]
    },
    {
      "cell_type": "code",
      "metadata": {
        "trusted": true,
        "id": "GsRXocxoFxd-"
      },
      "source": [
        "#call the function\n",
        "cleaned_summary = []\n",
        "for t in data['Summary']:\n",
        "    cleaned_summary.append(text_cleaner(t,1))"
      ],
      "execution_count": 13,
      "outputs": []
    },
    {
      "cell_type": "markdown",
      "metadata": {
        "id": "oZeD0gs6Lnb-"
      },
      "source": [
        "Below are some example summaries that have been preprocessed"
      ]
    },
    {
      "cell_type": "code",
      "metadata": {
        "trusted": true,
        "id": "jQJdZcAzFxee",
        "colab": {
          "base_uri": "https://localhost:8080/"
        },
        "outputId": "252a20c6-c527-46ba-e6fd-fc832b93696f"
      },
      "source": [
        "cleaned_summary[:10]"
      ],
      "execution_count": 14,
      "outputs": [
        {
          "output_type": "execute_result",
          "data": {
            "text/plain": [
              "['good quality dog food',\n",
              " 'not as advertised',\n",
              " 'delight says it all',\n",
              " 'cough medicine',\n",
              " 'great taffy',\n",
              " 'nice taffy',\n",
              " 'great just as good as the expensive brands',\n",
              " 'wonderful tasty taffy',\n",
              " 'yay barley',\n",
              " 'healthy dog food']"
            ]
          },
          "metadata": {
            "tags": []
          },
          "execution_count": 14
        }
      ]
    },
    {
      "cell_type": "code",
      "metadata": {
        "trusted": true,
        "id": "L1zLpnqsFxey"
      },
      "source": [
        "data['cleaned_text']=cleaned_text\n",
        "data['cleaned_summary']=cleaned_summary"
      ],
      "execution_count": 15,
      "outputs": []
    },
    {
      "cell_type": "markdown",
      "metadata": {
        "id": "KT_D2cLiLy77"
      },
      "source": [
        "###Drop empty rows"
      ]
    },
    {
      "cell_type": "code",
      "metadata": {
        "trusted": true,
        "id": "sYK390unFxfA"
      },
      "source": [
        "data.replace('', np.nan, inplace=True)\n",
        "data.dropna(axis=0,inplace=True)"
      ],
      "execution_count": 16,
      "outputs": []
    },
    {
      "cell_type": "markdown",
      "metadata": {
        "id": "Vm8Fk2TCL7Sp"
      },
      "source": [
        "###Understanding the distribution of the sequences\n",
        "\n",
        "Here, we will analyze the length of the reviews and the summary to get an overall idea about the distribution of length of the text. This will help us fix the maximum length of the sequence"
      ]
    },
    {
      "cell_type": "code",
      "metadata": {
        "trusted": true,
        "id": "MdF76AHHFxgw",
        "colab": {
          "base_uri": "https://localhost:8080/",
          "height": 281
        },
        "outputId": "0e473198-5b10-42f4-adca-5cad77478a74"
      },
      "source": [
        "import matplotlib.pyplot as plt\n",
        "\n",
        "text_word_count = []\n",
        "summary_word_count = []\n",
        "\n",
        "# populate the lists with sentence lengths\n",
        "for i in data['cleaned_text']:\n",
        "      text_word_count.append(len(i.split()))\n",
        "\n",
        "for i in data['cleaned_summary']:\n",
        "      summary_word_count.append(len(i.split()))\n",
        "\n",
        "length_df = pd.DataFrame({'text':text_word_count, 'summary':summary_word_count})\n",
        "\n",
        "length_df.hist(bins = 30)\n",
        "plt.show()"
      ],
      "execution_count": 17,
      "outputs": [
        {
          "output_type": "display_data",
          "data": {
            "image/png": "[encoded data removed]",
            "text/plain": [
              "<Figure size 432x288 with 2 Axes>"
            ]
          },
          "metadata": {
            "tags": [],
            "needs_background": "light"
          }
        }
      ]
    },
    {
      "cell_type": "markdown",
      "metadata": {
        "id": "QwdSGIhGMEbz"
      },
      "source": [
        "We can fix the maximum length of the summary to 8 words since that seems to be the majority summary length."
      ]
    },
    {
      "cell_type": "code",
      "metadata": {
        "trusted": true,
        "id": "7JRjwdIOFxg3",
        "colab": {
          "base_uri": "https://localhost:8080/"
        },
        "outputId": "7d469110-f6bf-41d3-a025-ef27e3226611"
      },
      "source": [
        "cnt=0\n",
        "for i in data['cleaned_summary']:\n",
        "    if(len(i.split())<=8):\n",
        "        cnt=cnt+1\n",
        "print(cnt/len(data['cleaned_summary']))"
      ],
      "execution_count": 18,
      "outputs": [
        {
          "output_type": "stream",
          "text": [
            "0.9456357955851431\n"
          ],
          "name": "stdout"
        }
      ]
    },
    {
      "cell_type": "markdown",
      "metadata": {
        "id": "yYB4Ga9KMjEu"
      },
      "source": [
        "94% of the summaries have length below 8, so we can fix maximum length of summary to 8 words and review length to 30 words."
      ]
    },
    {
      "cell_type": "code",
      "metadata": {
        "trusted": true,
        "id": "ZKD5VOWqFxhC"
      },
      "source": [
        "max_text_len=30\n",
        "max_summary_len=8"
      ],
      "execution_count": 19,
      "outputs": []
    },
    {
      "cell_type": "markdown",
      "metadata": {
        "id": "E6d48E-8M4VO"
      },
      "source": [
        "Selecting the reviews who, after preprocessing, have review and summary lengths that are withing the maximum word lengths"
      ]
    },
    {
      "cell_type": "code",
      "metadata": {
        "trusted": true,
        "id": "yY0tEJP0FxhI"
      },
      "source": [
        "cleaned_text =np.array(data['cleaned_text'])\n",
        "cleaned_summary=np.array(data['cleaned_summary'])\n",
        "\n",
        "short_text=[]\n",
        "short_summary=[]\n",
        "\n",
        "for i in range(len(cleaned_text)):\n",
        "    if(len(cleaned_summary[i].split())<=max_summary_len and len(cleaned_text[i].split())<=max_text_len):\n",
        "        short_text.append(cleaned_text[i])\n",
        "        short_summary.append(cleaned_summary[i])\n",
        "        \n",
        "df=pd.DataFrame({'text':short_text,'summary':short_summary})"
      ],
      "execution_count": 20,
      "outputs": []
    },
    {
      "cell_type": "markdown",
      "metadata": {
        "id": "tR1uh8xSNUma"
      },
      "source": [
        "\n",
        "Start and end special tokens must be added to the beggining and end of the summaries. 'sostok' will be used as the start token and 'eostok' will be used as the end token."
      ]
    },
    {
      "cell_type": "code",
      "metadata": {
        "trusted": true,
        "id": "EwLUH78CFxhg"
      },
      "source": [
        "df['summary'] = df['summary'].apply(lambda x : 'sostok '+ x + ' eostok')"
      ],
      "execution_count": 21,
      "outputs": []
    },
    {
      "cell_type": "markdown",
      "metadata": {
        "id": "1GlcX4RFOh13"
      },
      "source": [
        "The dataset is split into 2 parts, a training set and a validation set. 90% of the data will be used for training, the remaining 10% will be allocated to validation."
      ]
    },
    {
      "cell_type": "code",
      "metadata": {
        "trusted": true,
        "id": "RakakKHcFxhl"
      },
      "source": [
        "from sklearn.model_selection import train_test_split\n",
        "x_tr,x_val,y_tr,y_val=train_test_split(np.array(df['text']),np.array(df['summary']),test_size=0.1,random_state=0,shuffle=True) "
      ],
      "execution_count": 22,
      "outputs": []
    },
    {
      "cell_type": "markdown",
      "metadata": {
        "id": "Vq1mqyOHOtIl"
      },
      "source": [
        "###Preparing the Tokenizer\n",
        "\n",
        "A tokenizer builds the vocabulary and converts a word sequence to an integer sequence."
      ]
    },
    {
      "cell_type": "code",
      "metadata": {
        "trusted": true,
        "id": "oRHTgX6hFxhq"
      },
      "source": [
        "from keras.preprocessing.text import Tokenizer \n",
        "from keras.preprocessing.sequence import pad_sequences\n",
        "\n",
        "#prepare a tokenizer for reviews on training data\n",
        "x_tokenizer = Tokenizer() \n",
        "x_tokenizer.fit_on_texts(list(x_tr))"
      ],
      "execution_count": 23,
      "outputs": []
    },
    {
      "cell_type": "markdown",
      "metadata": {
        "id": "RzvLwYL_PDcx"
      },
      "source": [
        "###Review Rarewords\n",
        "Any word that appears in all reviews less than 4 times will be considered as a rare word"
      ]
    },
    {
      "cell_type": "code",
      "metadata": {
        "trusted": true,
        "id": "y8KronV2Fxhx",
        "colab": {
          "base_uri": "https://localhost:8080/"
        },
        "outputId": "9aa166ac-6036-4cff-f076-e8eff955078a"
      },
      "source": [
        "thresh=4\n",
        "\n",
        "cnt=0\n",
        "tot_cnt=0\n",
        "freq=0\n",
        "tot_freq=0\n",
        "\n",
        "for key,value in x_tokenizer.word_counts.items():\n",
        "    tot_cnt=tot_cnt+1\n",
        "    tot_freq=tot_freq+value\n",
        "    if(value<thresh):\n",
        "        cnt=cnt+1\n",
        "        freq=freq+value\n",
        "    \n",
        "print(\"% of rare words in vocabulary:\",(cnt/tot_cnt)*100)\n",
        "print(\"Total Coverage of rare words:\",(freq/tot_freq)*100)"
      ],
      "execution_count": 24,
      "outputs": [
        {
          "output_type": "stream",
          "text": [
            "% of rare words in vocabulary: 67.68920907893717\n",
            "Total Coverage of rare words: 1.5090593294873658\n"
          ],
          "name": "stdout"
        }
      ]
    },
    {
      "cell_type": "markdown",
      "metadata": {
        "id": "So-J-5kzQIeO"
      },
      "source": [
        "Define the tokenizer with top most common words for reviews."
      ]
    },
    {
      "cell_type": "code",
      "metadata": {
        "trusted": true,
        "id": "J2giEsF3Fxh3"
      },
      "source": [
        "#prepare a tokenizer for reviews on training data\n",
        "x_tokenizer = Tokenizer(num_words=tot_cnt-cnt) \n",
        "x_tokenizer.fit_on_texts(list(x_tr))\n",
        "\n",
        "#convert text sequences into integer sequences\n",
        "x_tr_seq    =   x_tokenizer.texts_to_sequences(x_tr) \n",
        "x_val_seq   =   x_tokenizer.texts_to_sequences(x_val)\n",
        "\n",
        "#padding zero upto maximum length\n",
        "x_tr    =   pad_sequences(x_tr_seq,  maxlen=max_text_len, padding='post')\n",
        "x_val   =   pad_sequences(x_val_seq, maxlen=max_text_len, padding='post')\n",
        "\n",
        "#size of vocabulary ( +1 for padding token)\n",
        "x_voc   =  x_tokenizer.num_words + 1"
      ],
      "execution_count": 25,
      "outputs": []
    },
    {
      "cell_type": "code",
      "metadata": {
        "trusted": true,
        "id": "DCbGMsm4FxiA",
        "colab": {
          "base_uri": "https://localhost:8080/"
        },
        "outputId": "91a64937-a9db-401d-dd7f-b570488e53f7"
      },
      "source": [
        "x_voc"
      ],
      "execution_count": 26,
      "outputs": [
        {
          "output_type": "execute_result",
          "data": {
            "text/plain": [
              "16685"
            ]
          },
          "metadata": {
            "tags": []
          },
          "execution_count": 26
        }
      ]
    },
    {
      "cell_type": "markdown",
      "metadata": {
        "id": "uQfKP3sqRxi9"
      },
      "source": [
        "###Summary Tokenizer"
      ]
    },
    {
      "cell_type": "code",
      "metadata": {
        "trusted": true,
        "id": "eRHqyBkBFxiJ"
      },
      "source": [
        "#prepare a tokenizer for reviews on training data\n",
        "y_tokenizer = Tokenizer()   \n",
        "y_tokenizer.fit_on_texts(list(y_tr))"
      ],
      "execution_count": 27,
      "outputs": []
    },
    {
      "cell_type": "markdown",
      "metadata": {
        "id": "KInA6O6ZSkJz"
      },
      "source": [
        "###Summary Rarewords\n",
        "Words that appear in all of the summaries less than 6 times will be considered as rare."
      ]
    },
    {
      "cell_type": "code",
      "metadata": {
        "trusted": true,
        "id": "yzE5OiRLFxiM",
        "colab": {
          "base_uri": "https://localhost:8080/"
        },
        "outputId": "7000d44b-383c-4eee-80a6-1f908be53db6"
      },
      "source": [
        "thresh=6\n",
        "\n",
        "cnt=0\n",
        "tot_cnt=0\n",
        "freq=0\n",
        "tot_freq=0\n",
        "\n",
        "for key,value in y_tokenizer.word_counts.items():\n",
        "    tot_cnt=tot_cnt+1\n",
        "    tot_freq=tot_freq+value\n",
        "    if(value<thresh):\n",
        "        cnt=cnt+1\n",
        "        freq=freq+value\n",
        "    \n",
        "print(\"% of rare words in vocabulary:\",(cnt/tot_cnt)*100)\n",
        "print(\"Total Coverage of rare words:\",(freq/tot_freq)*100)"
      ],
      "execution_count": 28,
      "outputs": [
        {
          "output_type": "stream",
          "text": [
            "% of rare words in vocabulary: 76.1792934449663\n",
            "Total Coverage of rare words: 2.735001836169195\n"
          ],
          "name": "stdout"
        }
      ]
    },
    {
      "cell_type": "markdown",
      "metadata": {
        "id": "0PBhzKuRSw_9"
      },
      "source": [
        "Define the tokenizer with top most common words for summary."
      ]
    },
    {
      "cell_type": "code",
      "metadata": {
        "trusted": true,
        "id": "-fswLvIgFxiR"
      },
      "source": [
        "#prepare a tokenizer for reviews on training data\n",
        "y_tokenizer = Tokenizer(num_words=tot_cnt-cnt) \n",
        "y_tokenizer.fit_on_texts(list(y_tr))\n",
        "\n",
        "#convert text sequences into integer sequences\n",
        "y_tr_seq    =   y_tokenizer.texts_to_sequences(y_tr) \n",
        "y_val_seq   =   y_tokenizer.texts_to_sequences(y_val) \n",
        "\n",
        "#padding zero upto maximum length\n",
        "y_tr    =   pad_sequences(y_tr_seq, maxlen=max_summary_len, padding='post')\n",
        "y_val   =   pad_sequences(y_val_seq, maxlen=max_summary_len, padding='post')\n",
        "\n",
        "#size of vocabulary\n",
        "y_voc  =   y_tokenizer.num_words +1"
      ],
      "execution_count": 29,
      "outputs": []
    },
    {
      "cell_type": "markdown",
      "metadata": {
        "id": "qqwDUT5oTFmn"
      },
      "source": [
        "Check whether word count of start token is equal to length of the training data"
      ]
    },
    {
      "cell_type": "code",
      "metadata": {
        "trusted": true,
        "id": "pR8IX9FRFxiY",
        "colab": {
          "base_uri": "https://localhost:8080/"
        },
        "outputId": "6e3644a1-d31a-4dbd-fb21-3fbb22d7af9d"
      },
      "source": [
        "y_tokenizer.word_counts['sostok'],len(y_tr)   "
      ],
      "execution_count": 30,
      "outputs": [
        {
          "output_type": "execute_result",
          "data": {
            "text/plain": [
              "(172082, 172082)"
            ]
          },
          "metadata": {
            "tags": []
          },
          "execution_count": 30
        }
      ]
    },
    {
      "cell_type": "markdown",
      "metadata": {
        "id": "LVFhFVguTTtw"
      },
      "source": [
        "Deleting reviews that only contain start and end tokens, and do not have any text between the tokens."
      ]
    },
    {
      "cell_type": "code",
      "metadata": {
        "trusted": true,
        "id": "kZ-vW82sFxih"
      },
      "source": [
        "ind=[]\n",
        "for i in range(len(y_tr)):\n",
        "    cnt=0\n",
        "    for j in y_tr[i]:\n",
        "        if j!=0:\n",
        "            cnt=cnt+1\n",
        "    if(cnt==2):\n",
        "        ind.append(i)\n",
        "\n",
        "y_tr=np.delete(y_tr,ind, axis=0)\n",
        "x_tr=np.delete(x_tr,ind, axis=0)"
      ],
      "execution_count": 31,
      "outputs": []
    },
    {
      "cell_type": "code",
      "metadata": {
        "trusted": true,
        "id": "cx5NISuMFxik"
      },
      "source": [
        "ind=[]\n",
        "for i in range(len(y_val)):\n",
        "    cnt=0\n",
        "    for j in y_val[i]:\n",
        "        if j!=0:\n",
        "            cnt=cnt+1\n",
        "    if(cnt==2):\n",
        "        ind.append(i)\n",
        "\n",
        "y_val=np.delete(y_val,ind, axis=0)\n",
        "x_val=np.delete(x_val,ind, axis=0)"
      ],
      "execution_count": 32,
      "outputs": []
    },
    {
      "cell_type": "markdown",
      "metadata": {
        "id": "wOtlDcthFxip"
      },
      "source": [
        "### Model building\n",
        "Building a model containg 3 encoder LSTM layers as input."
      ]
    },
    {
      "cell_type": "code",
      "metadata": {
        "trusted": true,
        "id": "zXef38nBFxir",
        "colab": {
          "base_uri": "https://localhost:8080/"
        },
        "outputId": "4786c89f-c968-4091-b64b-bf1fa27cf979"
      },
      "source": [
        "from keras import backend as K \n",
        "K.clear_session()\n",
        "\n",
        "latent_dim = 300\n",
        "embedding_dim=100\n",
        "\n",
        "# Encoder\n",
        "encoder_inputs = Input(shape=(max_text_len,))\n",
        "\n",
        "#embedding layer\n",
        "enc_emb =  Embedding(x_voc, embedding_dim,trainable=True)(encoder_inputs)\n",
        "\n",
        "#encoder lstm 1\n",
        "encoder_lstm1 = LSTM(latent_dim,return_sequences=True,return_state=True,dropout=0.4,recurrent_dropout=0.4)\n",
        "encoder_output1, state_h1, state_c1 = encoder_lstm1(enc_emb)\n",
        "\n",
        "#encoder lstm 2\n",
        "encoder_lstm2 = LSTM(latent_dim,return_sequences=True,return_state=True,dropout=0.4,recurrent_dropout=0.4)\n",
        "encoder_output2, state_h2, state_c2 = encoder_lstm2(encoder_output1)\n",
        "\n",
        "#encoder lstm 3\n",
        "encoder_lstm3=LSTM(latent_dim, return_state=True, return_sequences=True,dropout=0.4,recurrent_dropout=0.4)\n",
        "encoder_outputs, state_h, state_c= encoder_lstm3(encoder_output2)\n",
        "\n",
        "# Set up the decoder, using `encoder_states` as initial state.\n",
        "decoder_inputs = Input(shape=(None,))\n",
        "\n",
        "#embedding layer\n",
        "dec_emb_layer = Embedding(y_voc, embedding_dim,trainable=True)\n",
        "dec_emb = dec_emb_layer(decoder_inputs)\n",
        "\n",
        "decoder_lstm = LSTM(latent_dim, return_sequences=True, return_state=True,dropout=0.4,recurrent_dropout=0.2)\n",
        "decoder_outputs,decoder_fwd_state, decoder_back_state = decoder_lstm(dec_emb,initial_state=[state_h, state_c])\n",
        "\n",
        "# Attention layer\n",
        "attn_layer = AttentionLayer(name='attention_layer')\n",
        "attn_out, attn_states = attn_layer([encoder_outputs, decoder_outputs])\n",
        "\n",
        "# Concat attention input and decoder LSTM output\n",
        "decoder_concat_input = Concatenate(axis=-1, name='concat_layer')([decoder_outputs, attn_out])\n",
        "\n",
        "#dense layer\n",
        "decoder_dense =  TimeDistributed(Dense(y_voc, activation='softmax'))\n",
        "decoder_outputs = decoder_dense(decoder_concat_input)\n",
        "\n",
        "# Define the model \n",
        "model = Model([encoder_inputs, decoder_inputs], decoder_outputs)\n",
        "\n",
        "model.summary() "
      ],
      "execution_count": 33,
      "outputs": [
        {
          "output_type": "stream",
          "text": [
            "WARNING:tensorflow:Layer lstm will not use cuDNN kernel since it doesn't meet the cuDNN kernel criteria. It will use generic GPU kernel as fallback when running on GPU\n",
            "WARNING:tensorflow:Layer lstm_1 will not use cuDNN kernel since it doesn't meet the cuDNN kernel criteria. It will use generic GPU kernel as fallback when running on GPU\n",
            "WARNING:tensorflow:Layer lstm_2 will not use cuDNN kernel since it doesn't meet the cuDNN kernel criteria. It will use generic GPU kernel as fallback when running on GPU\n",
            "WARNING:tensorflow:Layer lstm_3 will not use cuDNN kernel since it doesn't meet the cuDNN kernel criteria. It will use generic GPU kernel as fallback when running on GPU\n",
            "Model: \"model\"\n",
            "__________________________________________________________________________________________________\n",
            "Layer (type)                    Output Shape         Param #     Connected to                     \n",
            "==================================================================================================\n",
            "input_1 (InputLayer)            [(None, 30)]         0                                            \n",
            "__________________________________________________________________________________________________\n",
            "embedding (Embedding)           (None, 30, 100)      1668500     input_1[0][0]                    \n",
            "__________________________________________________________________________________________________\n",
            "lstm (LSTM)                     [(None, 30, 300), (N 481200      embedding[0][0]                  \n",
            "__________________________________________________________________________________________________\n",
            "input_2 (InputLayer)            [(None, None)]       0                                            \n",
            "__________________________________________________________________________________________________\n",
            "lstm_1 (LSTM)                   [(None, 30, 300), (N 721200      lstm[0][0]                       \n",
            "__________________________________________________________________________________________________\n",
            "embedding_1 (Embedding)         (None, None, 100)    466700      input_2[0][0]                    \n",
            "__________________________________________________________________________________________________\n",
            "lstm_2 (LSTM)                   [(None, 30, 300), (N 721200      lstm_1[0][0]                     \n",
            "__________________________________________________________________________________________________\n",
            "lstm_3 (LSTM)                   [(None, None, 300),  481200      embedding_1[0][0]                \n",
            "                                                                 lstm_2[0][1]                     \n",
            "                                                                 lstm_2[0][2]                     \n",
            "__________________________________________________________________________________________________\n",
            "attention_layer (AttentionLayer ((None, None, 300),  180300      lstm_2[0][0]                     \n",
            "                                                                 lstm_3[0][0]                     \n",
            "__________________________________________________________________________________________________\n",
            "concat_layer (Concatenate)      (None, None, 600)    0           lstm_3[0][0]                     \n",
            "                                                                 attention_layer[0][0]            \n",
            "__________________________________________________________________________________________________\n",
            "time_distributed (TimeDistribut (None, None, 4667)   2804867     concat_layer[0][0]               \n",
            "==================================================================================================\n",
            "Total params: 7,525,167\n",
            "Trainable params: 7,525,167\n",
            "Non-trainable params: 0\n",
            "__________________________________________________________________________________________________\n"
          ],
          "name": "stdout"
        }
      ]
    },
    {
      "cell_type": "markdown",
      "metadata": {
        "id": "0ZVlfRuMUcoP"
      },
      "source": [
        "Sparse categorical cross-entropy is used as the loss function as it converts the integer sequence to a one-hot vector, overcoming any memory issues."
      ]
    },
    {
      "cell_type": "code",
      "metadata": {
        "trusted": true,
        "id": "Lwfi1Fm8Fxiz"
      },
      "source": [
        "model.compile(optimizer='rmsprop', loss='sparse_categorical_crossentropy')"
      ],
      "execution_count": 34,
      "outputs": []
    },
    {
      "cell_type": "markdown",
      "metadata": {
        "id": "p0ykDbxfUhyw"
      },
      "source": [
        "The model will stop training at an early number of epochs once the validation loss increases for 2 consecutive epochs\n"
      ]
    },
    {
      "cell_type": "code",
      "metadata": {
        "id": "s-A3J92MUljB"
      },
      "source": [
        "es = EarlyStopping(monitor='val_loss', mode='min', verbose=1,patience=2)"
      ],
      "execution_count": 35,
      "outputs": []
    },
    {
      "cell_type": "markdown",
      "metadata": {
        "id": "Mw6CVECaUq5b"
      },
      "source": [
        "The model is trained on a batch size of 512 and validated on the holdout set"
      ]
    },
    {
      "cell_type": "code",
      "metadata": {
        "trusted": true,
        "id": "ETnPzA4OFxi3",
        "colab": {
          "base_uri": "https://localhost:8080/"
        },
        "outputId": "1dbc7945-f673-4e72-bc3e-fed464d12acc"
      },
      "source": [
        "history=model.fit([x_tr,y_tr[:,:-1]], y_tr.reshape(y_tr.shape[0],y_tr.shape[1], 1)[:,1:] ,epochs=25,callbacks=[es],batch_size=512, validation_data=([x_val,y_val[:,:-1]], y_val.reshape(y_val.shape[0],y_val.shape[1], 1)[:,1:]))"
      ],
      "execution_count": 36,
      "outputs": [
        {
          "output_type": "stream",
          "text": [
            "Epoch 1/25\n",
            "331/331 [==============================] - 136s 375ms/step - loss: 3.4177 - val_loss: 2.6979\n",
            "Epoch 2/25\n",
            "331/331 [==============================] - 122s 369ms/step - loss: 2.6339 - val_loss: 2.4429\n",
            "Epoch 3/25\n",
            "331/331 [==============================] - 123s 372ms/step - loss: 2.4008 - val_loss: 2.3024\n",
            "Epoch 4/25\n",
            "331/331 [==============================] - 121s 365ms/step - loss: 2.2592 - val_loss: 2.2217\n",
            "Epoch 5/25\n",
            "331/331 [==============================] - 119s 358ms/step - loss: 2.1651 - val_loss: 2.1552\n",
            "Epoch 6/25\n",
            "331/331 [==============================] - 118s 357ms/step - loss: 2.0867 - val_loss: 2.1162\n",
            "Epoch 7/25\n",
            "331/331 [==============================] - 116s 352ms/step - loss: 2.0379 - val_loss: 2.0883\n",
            "Epoch 8/25\n",
            "331/331 [==============================] - 117s 354ms/step - loss: 1.9933 - val_loss: 2.0582\n",
            "Epoch 9/25\n",
            "331/331 [==============================] - 116s 350ms/step - loss: 1.9479 - val_loss: 2.0388\n",
            "Epoch 10/25\n",
            "331/331 [==============================] - 118s 356ms/step - loss: 1.9165 - val_loss: 2.0257\n",
            "Epoch 11/25\n",
            "331/331 [==============================] - 116s 350ms/step - loss: 1.8837 - val_loss: 2.0097\n",
            "Epoch 12/25\n",
            "331/331 [==============================] - 117s 355ms/step - loss: 1.8566 - val_loss: 2.0013\n",
            "Epoch 13/25\n",
            "331/331 [==============================] - 116s 351ms/step - loss: 1.8247 - val_loss: 1.9948\n",
            "Epoch 14/25\n",
            "331/331 [==============================] - 117s 355ms/step - loss: 1.8145 - val_loss: 1.9962\n",
            "Epoch 15/25\n",
            "331/331 [==============================] - 115s 349ms/step - loss: 1.7883 - val_loss: 1.9852\n",
            "Epoch 16/25\n",
            "331/331 [==============================] - 117s 355ms/step - loss: 1.7690 - val_loss: 1.9840\n",
            "Epoch 17/25\n",
            "331/331 [==============================] - 115s 348ms/step - loss: 1.7494 - val_loss: 1.9828\n",
            "Epoch 18/25\n",
            "331/331 [==============================] - 118s 356ms/step - loss: 1.7341 - val_loss: 1.9776\n",
            "Epoch 19/25\n",
            "331/331 [==============================] - 115s 346ms/step - loss: 1.7136 - val_loss: 1.9786\n",
            "Epoch 20/25\n",
            "331/331 [==============================] - 116s 352ms/step - loss: 1.7051 - val_loss: 1.9807\n",
            "Epoch 00020: early stopping\n"
          ],
          "name": "stdout"
        }
      ]
    },
    {
      "cell_type": "markdown",
      "metadata": {
        "id": "0ezKYOp2UxG5"
      },
      "source": [
        "###Plotting results"
      ]
    },
    {
      "cell_type": "code",
      "metadata": {
        "trusted": true,
        "id": "tDTNLAURFxjE",
        "colab": {
          "base_uri": "https://localhost:8080/",
          "height": 295
        },
        "outputId": "ad81fc22-9268-41c6-8943-7996a52a0522"
      },
      "source": [
        "from matplotlib import pyplot\n",
        "pyplot.plot(history.history['loss'], label='train')\n",
        "pyplot.plot(history.history['val_loss'], label='test')\n",
        "pyplot.title('Results')\n",
        "pyplot.xlabel('Epochs')\n",
        "pyplot.ylabel('Validation Loss')\n",
        "pyplot.legend()\n",
        "pyplot.show()"
      ],
      "execution_count": 37,
      "outputs": [
        {
          "output_type": "display_data",
          "data": {
            "image/png": "[encoded data removed]",
            "text/plain": [
              "<Figure size 432x288 with 1 Axes>"
            ]
          },
          "metadata": {
            "tags": [],
            "needs_background": "light"
          }
        }
      ]
    },
    {
      "cell_type": "markdown",
      "metadata": {
        "id": "HSyx-HvpUz2o"
      },
      "source": [
        "Building the dictionary to convert the index to word for target and source vocabulary:"
      ]
    },
    {
      "cell_type": "code",
      "metadata": {
        "trusted": true,
        "id": "sBX0zZnOFxjW"
      },
      "source": [
        "reverse_target_word_index=y_tokenizer.index_word\n",
        "reverse_source_word_index=x_tokenizer.index_word\n",
        "target_word_index=y_tokenizer.word_index"
      ],
      "execution_count": 38,
      "outputs": []
    },
    {
      "cell_type": "markdown",
      "metadata": {
        "id": "eM_nU_VvFxjq"
      },
      "source": [
        "### Inference\n",
        "Setting up the inference for the encoder and decoder"
      ]
    },
    {
      "cell_type": "code",
      "metadata": {
        "trusted": true,
        "id": "9QkrNV-4Fxjt"
      },
      "source": [
        "# Encode the input sequence to get the feature vector\n",
        "encoder_model = Model(inputs=encoder_inputs,outputs=[encoder_outputs, state_h, state_c])\n",
        "\n",
        "# Decoder setup\n",
        "# Below tensors will hold the states of the previous time step\n",
        "decoder_state_input_h = Input(shape=(latent_dim,))\n",
        "decoder_state_input_c = Input(shape=(latent_dim,))\n",
        "decoder_hidden_state_input = Input(shape=(max_text_len,latent_dim))\n",
        "\n",
        "# Get the embeddings of the decoder sequence\n",
        "dec_emb2= dec_emb_layer(decoder_inputs) \n",
        "# To predict the next word in the sequence, set the initial states to the states from the previous time step\n",
        "decoder_outputs2, state_h2, state_c2 = decoder_lstm(dec_emb2, initial_state=[decoder_state_input_h, decoder_state_input_c])\n",
        "\n",
        "#attention inference\n",
        "attn_out_inf, attn_states_inf = attn_layer([decoder_hidden_state_input, decoder_outputs2])\n",
        "decoder_inf_concat = Concatenate(axis=-1, name='concat')([decoder_outputs2, attn_out_inf])\n",
        "\n",
        "# A dense softmax layer to generate prob dist. over the target vocabulary\n",
        "decoder_outputs2 = decoder_dense(decoder_inf_concat) \n",
        "\n",
        "# Final decoder model\n",
        "decoder_model = Model(\n",
        "    [decoder_inputs] + [decoder_hidden_state_input,decoder_state_input_h, decoder_state_input_c],\n",
        "    [decoder_outputs2] + [state_h2, state_c2])"
      ],
      "execution_count": 39,
      "outputs": []
    },
    {
      "cell_type": "markdown",
      "metadata": {
        "id": "pLdFYfUo25NQ"
      },
      "source": [
        "Implementing inference"
      ]
    },
    {
      "cell_type": "code",
      "metadata": {
        "trusted": true,
        "id": "6f6TTFnBFxj6"
      },
      "source": [
        "def decode_sequence(input_seq):\n",
        "    # Encode the input as state vectors.\n",
        "    e_out, e_h, e_c = encoder_model.predict(input_seq)\n",
        "    \n",
        "    # Generate empty target sequence of length 1.\n",
        "    target_seq = np.zeros((1,1))\n",
        "    \n",
        "    # Populate the first word of target sequence with the start word.\n",
        "    target_seq[0, 0] = target_word_index['sostok']\n",
        "\n",
        "    stop_condition = False\n",
        "    decoded_sentence = ''\n",
        "    while not stop_condition:\n",
        "      \n",
        "        output_tokens, h, c = decoder_model.predict([target_seq] + [e_out, e_h, e_c])\n",
        "\n",
        "        # Sample a token\n",
        "        sampled_token_index = np.argmax(output_tokens[0, -1, :])\n",
        "        sampled_token = reverse_target_word_index[sampled_token_index]\n",
        "        \n",
        "        if(sampled_token!='eostok'):\n",
        "            decoded_sentence += ' '+sampled_token\n",
        "\n",
        "        # Exit condition: either hit max length or find stop word.\n",
        "        if (sampled_token == 'eostok'  or len(decoded_sentence.split()) >= (max_summary_len-1)):\n",
        "            stop_condition = True\n",
        "\n",
        "        # Update the target sequence (of length 1).\n",
        "        target_seq = np.zeros((1,1))\n",
        "        target_seq[0, 0] = sampled_token_index\n",
        "\n",
        "        # Update internal states\n",
        "        e_h, e_c = h, c\n",
        "\n",
        "    return decoded_sentence"
      ],
      "execution_count": 40,
      "outputs": []
    },
    {
      "cell_type": "markdown",
      "metadata": {
        "id": "6GuDf4TPWt6_"
      },
      "source": [
        "Defining the functions to convert an integer sequence to a word sequence for the summary as well as the reviews"
      ]
    },
    {
      "cell_type": "code",
      "metadata": {
        "trusted": true,
        "id": "aAUntznIFxj9"
      },
      "source": [
        "def seq2summary(input_seq):\n",
        "    newString=''\n",
        "    for i in input_seq:\n",
        "        if((i!=0 and i!=target_word_index['sostok']) and i!=target_word_index['eostok']):\n",
        "            newString=newString+reverse_target_word_index[i]+' '\n",
        "    return newString\n",
        "\n",
        "def seq2text(input_seq):\n",
        "    newString=''\n",
        "    for i in input_seq:\n",
        "        if(i!=0):\n",
        "            newString=newString+reverse_source_word_index[i]+' '\n",
        "    return newString"
      ],
      "execution_count": 41,
      "outputs": []
    },
    {
      "cell_type": "markdown",
      "metadata": {
        "id": "9gM4ALyfWwA9"
      },
      "source": [
        "Here are some summaries produced by this model"
      ]
    },
    {
      "cell_type": "code",
      "metadata": {
        "trusted": true,
        "id": "BUtQmQTmFxkI",
        "colab": {
          "base_uri": "https://localhost:8080/"
        },
        "outputId": "fa5be458-5bbb-4ac6-ea9b-081775b7e2cb"
      },
      "source": [
        "for i in range(0,100):\n",
        "    print(\"Review:\",seq2text(x_tr[i]))\n",
        "    print(\"Original summary:\",seq2summary(y_tr[i]))\n",
        "    print(\"Predicted summary:\",decode_sequence(x_tr[i].reshape(1,max_text_len)))\n",
        "    print(\"\\n\")"
      ],
      "execution_count": 42,
      "outputs": [
        {
          "output_type": "stream",
          "text": [
            "Review: always loved devil food cookies ounce boxes weight watchers one point favorite \n",
            "Original summary: have always loved these \n",
            "Predicted summary:  great cookies\n",
            "\n",
            "\n",
            "Review: grandson freinds daughter loves applesauce make mess take \n",
            "Original summary: applesauce on the go \n",
            "Predicted summary:  great\n",
            "\n",
            "\n",
            "Review: first got gulped ziplock work well dosage one two treats day like bag says gotten kind dried like much anymore also noticed real improvement stiffness \n",
            "Original summary: have not results \n",
            "Predicted summary:  not worth the price\n",
            "\n",
            "\n",
            "Review: loved candy would liked candy individually wrapped bought give children candy individually wrapped bought candy give great taste \n",
            "Original summary: sweet treat \n",
            "Predicted summary:  great candy\n",
            "\n",
            "\n",
            "Review: receive tryed great mine came sealed pcs large need fill order \n",
            "Original summary: great beef sticks \n",
            "Predicted summary:  good\n",
            "\n",
            "\n",
            "Review: technical issue occurred seller contacted apologized inconvenience full refund purchased product girlfriend thrilled bouquet stunning thanks falcon farms \n",
            "Original summary: great service and flowers \n",
            "Predicted summary:  great customer service\n",
            "\n",
            "\n",
            "Review: bought bread several others test hooked making pizza crust bread friends also become enamored little strong bread us plenty bread types use \n",
            "Original summary: perfect pizza crust \n",
            "Predicted summary:  best bread mix ever\n",
            "\n",
            "\n",
            "Review: arrived disappointed find bonus bag contains ring pops \n",
            "Original summary: very small package \n",
            "Predicted summary:  broken\n",
            "\n",
            "\n",
            "Review: um awesome tasty treat house guests addicted husband stopped smoking awhile back saved lives \n",
            "Original summary: yumm \n",
            "Predicted summary:  yummy\n",
            "\n",
            "\n",
            "Review: never fan black licorice tried perfect balance licorice flavor sweetness also like firm suck awhile chew little black cats \n",
            "Original summary: have been won over \n",
            "Predicted summary:  great licorice\n",
            "\n",
            "\n",
            "Review: fully satisfied brisket two reasons would like better fat meat pastrami fat taste like pastrami broth could make pastrami dip \n",
            "Original summary: smoked beef \n",
            "Predicted summary:  good but not great\n",
            "\n",
            "\n",
            "Review: great set better rest amazon get bunch flowering tea tea pot add hot water thanks \n",
            "Original summary: awesome gift for the price \n",
            "Predicted summary:  great tea\n",
            "\n",
            "\n",
            "Review: even finicky kitties enjoy pounce pouch added benefit ziplock freshness \n",
            "Original summary: feline favorite \n",
            "Predicted summary:  cats love it\n",
            "\n",
            "\n",
            "Review: use everything put spaghetti sauce use garlic bread made steak day great \n",
            "Original summary: use this on everything \n",
            "Predicted summary:  great sauce\n",
            "\n",
            "\n",
            "Review: ordered bags happy hips approximately change charged bag shipping approximately order shipping disappointed called store put blame amazon shipping charges sellers combined shipping product gets stars seller \n",
            "Original summary: extremely high shipping \n",
            "Predicted summary:  shipping cost\n",
            "\n",
            "\n",
            "Review: crisps good never bought pack looking try new healthy snack problem expiration date packs considering arrived leave much time consume best wonder younger product would taste better fresh \n",
            "Original summary: delicious but old product \n",
            "Predicted summary:  good but not great\n",
            "\n",
            "\n",
            "Review: bought whim store near able find area stuff fabulous good french vanilla ice cream heaven \n",
            "Original summary: this is great \n",
            "Predicted summary:  delicious\n",
            "\n",
            "\n",
            "Review: guess expecting authentic beef jerky texture flavor terrible reminds parts parts commercial used run tv bad pieces pressed together make totally unpalatable piece food disappointed never purchase \n",
            "Original summary: should be beef yucky \n",
            "Predicted summary:  not what expected\n",
            "\n",
            "\n",
            "Review: one best morning items kashi golean crunch cereal great price point beats going store \n",
            "Original summary: love this stuff \n",
            "Predicted summary:  love this cereal\n",
            "\n",
            "\n",
            "Review: first paul newman product tried taste good product nicely packaged goes downhill pretty quickly healthy licorice tasted much better product really really really disapointed \n",
            "Original summary: very nicely packaged but huge disappointment \n",
            "Predicted summary:  great product\n",
            "\n",
            "\n",
            "Review: prefer lighter blends love senseo \n",
            "Original summary: too much for my taste \n",
            "Predicted summary:  great coffee\n",
            "\n",
            "\n",
            "Review: best treat ever cat begs day long best noticed hairballs since started eating treats happy give crunchy treats tartar control absolutely favorites \n",
            "Original summary: cat cannot get enough \n",
            "Predicted summary:  cat treats\n",
            "\n",
            "\n",
            "Review: dried cherries tasty set deliver every two month first right need make deliver every month yes good \n",
            "Original summary: very nice \n",
            "Predicted summary:  great cherries\n",
            "\n",
            "\n",
            "Review: product arrived within week settled another brand since could find one local stores thrilled taste enjoy great variety fruits included satisfied purchase \n",
            "Original summary: tropical medley \n",
            "Predicted summary:  great product\n",
            "\n",
            "\n",
            "Review: got influenster voxbox awesome products inside one products inside quaker oaks soft banana nut bar thoroughly enjoyed bar great snack one enjoy eating without worry unhealthy would definitely purchase \n",
            "Original summary: quaker soft baked cereal banana nut bread \n",
            "Predicted summary:  delicious\n",
            "\n",
            "\n",
            "Review: every rust spots bad dents factory reject supply inside stamped expiration dates confidence generally care kind thing given condition fact badly damaged china makes question health codes passed fruit \n",
            "Original summary: and badly dented cans all of them \n",
            "Predicted summary:  stale\n",
            "\n",
            "\n",
            "Review: buy year old dog weighs pounds loves soft chew easy even though tends scarf fast sure even tastes like natural healthy \n",
            "Original summary: my little dog loves these \n",
            "Predicted summary:  my dog loves these\n",
            "\n",
            "\n",
            "Review: excited receive christmas present way disappointed bitter tastes like dark hot chocolate gross waste money excited tin came gonna use store christmas ornaments \n",
            "Original summary: gross \n",
            "Predicted summary:  not as good as the original\n",
            "\n",
            "\n",
            "Review: took abused mature cat shelter sick throwing almost everything vet recommended felidae years ago weighs healthy happy may cost little worth every penny \n",
            "Original summary: great food \n",
            "Predicted summary:  cats love it\n",
            "\n",
            "\n",
            "Review: love coffee flavor smooth low acidic rich flavor might much pumpkin flavor others tasted good would get bags huge last long time \n",
            "Original summary: great smooth flavor \n",
            "Predicted summary:  great coffee\n",
            "\n",
            "\n",
            "Review: cannot believe good sure beats manwich sauce husband even like sloppy joe sandwiches loved would highly recommend anyone needs make quick meal sweet side like sloppy joes used eat growing \n",
            "Original summary: great sloppy joe sauce \n",
            "Predicted summary:  great sauce\n",
            "\n",
            "\n",
            "Review: honey wonderful reminds honey mom gave kid gmos ruined crops usa honey strong need use much cheaper honeys flavor mild wonderful \n",
            "Original summary: best honey ever \n",
            "Predicted summary:  the best\n",
            "\n",
            "\n",
            "Review: got knowing like crunchy snacks happy product happen really like peeling left apple esp since organic cinnamon subtle enhances taste nicely highly recommended apple snack lovers \n",
            "Original summary: yummy \n",
            "Predicted summary:  great snack\n",
            "\n",
            "\n",
            "Review: dog loves probably bit much mind giving smell great pumpkin pie spice cinnamon improvement dog breath \n",
            "Original summary: delicious and my dog likes them too \n",
            "Predicted summary:  my dog loves these\n",
            "\n",
            "\n",
            "Review: trident white best tasting mint gum managed find fact comes multi packs nothing annoying standing drugstore counter line nothing pack gum never without one \n",
            "Original summary: gum simple and best \n",
            "Predicted summary:  great gum\n",
            "\n",
            "\n",
            "Review: stuff fantastic sure else could say like taste concord grape juice hesitate try brand \n",
            "Original summary: mm mm good \n",
            "Predicted summary:  love this stuff\n",
            "\n",
            "\n",
            "Review: looking fruit snacks nuts fits bill everything little sweet small amounts fine apples crunchy whole slices like expecting cut slices soft probably raisins fine well craisins whole slices good mix \n",
            "Original summary: great snack \n",
            "Predicted summary:  good snack\n",
            "\n",
            "\n",
            "Review: daughter celiac cannot gluten easy use mix taste great especially warm scoop ice cream top \n",
            "Original summary: great brownie mix \n",
            "Predicted summary:  great gluten free product\n",
            "\n",
            "\n",
            "Review: husband drinks tea daily happy tea recommends others \n",
            "Original summary: tea the drink \n",
            "Predicted summary:  great tea\n",
            "\n",
            "\n",
            "Review: geriatric mini poodle cannot chew biscuits rawhide textures treats soft enough still provide workout gums remaining teeth appreciate fact ingredients domestic manufactured us \n",
            "Original summary: safe easy to chew tasty \n",
            "Predicted summary:  great for training\n",
            "\n",
            "\n",
            "Review: service dog puppy really satisfied happy food life \n",
            "Original summary: the best \n",
            "Predicted summary:  great dog food\n",
            "\n",
            "\n",
            "Review: herbal tea really works increase breast milk supply hard time keeping big boy helped best still drink day may taste greatest would anything make sure baby gets best \n",
            "Original summary: really works \n",
            "Predicted summary:  great for\n",
            "\n",
            "\n",
            "Review: great dog favorite seem healthy snack easy cut half want give smaller portion \n",
            "Original summary: dog is nuts about \n",
            "Predicted summary:  great snack\n",
            "\n",
            "\n",
            "Review: use coffee home espresso machine work using regular coffee maker taste excellent product truly deserves stars rich taste time beats starbucks dunkin coffee highly recommended fair price excellent product \n",
            "Original summary: very tasty \n",
            "Predicted summary:  great coffee\n",
            "\n",
            "\n",
            "Review: looking hot spicy came green bag pictures changed formula kept name husband likes new stuff spices good luck \n",
            "Original summary: not the pictured item \n",
            "Predicted summary:  hot hot hot\n",
            "\n",
            "\n",
            "Review: children love pasta life thought stuff weird fake tasting excessively salty bought two boxes since grocery throw box pretty inedible \n",
            "Original summary: artificial and way too salty \n",
            "Predicted summary:  not good\n",
            "\n",
            "\n",
            "Review: needs bit rhubarb overall tasty really like jams company \n",
            "Original summary: good jam \n",
            "Predicted summary:  jam\n",
            "\n",
            "\n",
            "Review: cannot find maxwell house decaf french roast anywhere los angeles looked glad found shipped promptly expiration date nice months away definitely order thanks \n",
            "Original summary: it is coffee \n",
            "Predicted summary:  great coffee\n",
            "\n",
            "\n",
            "Review: one year old loves product eats one every day never gives problem trust ingredients eating something thats good \n",
            "Original summary: great product \n",
            "Predicted summary:  my baby loves these\n",
            "\n",
            "\n",
            "Review: initially purchased item dog bit nervous given food smelled walked away however heat eats reason heated preferred past wet food obviously better room temperature \n",
            "Original summary: food for my dog \n",
            "Predicted summary:  dog food\n",
            "\n",
            "\n",
            "Review: great treats fact thing use dog price seem way wrong far possibly incorrect local petsmart \n",
            "Original summary: seems expensive \n",
            "Predicted summary:  great treats\n",
            "\n",
            "\n",
            "Review: purchased health benefits unfortunately could get past taste oily grassy taste much ruined flavor anything put \n",
            "Original summary: tastes like grass \n",
            "Predicted summary:  not good\n",
            "\n",
            "\n",
            "Review: dogs eat love beneful end happy healthy happy food \n",
            "Original summary: my dogs love this food \n",
            "Predicted summary:  great food\n",
            "\n",
            "\n",
            "Review: soda refreshing overpowering sweetness sodas carbonation helped give nice little kick gripe may fruit punch sort flavor cherry flavor pronounced \n",
            "Original summary: nice refreshing light taste \n",
            "Predicted summary:  refreshing\n",
            "\n",
            "\n",
            "Review: gave gift parents past christmas holiday flavor mix spices breading sold would recommend product anyone loves home southern fish fry flavor \n",
            "Original summary: christmas gift gone great \n",
            "Predicted summary:  great gift\n",
            "\n",
            "\n",
            "Review: thank flavoring came time mother law make really nice cake christmas great tasting thanks \n",
            "Original summary: just what ordered \n",
            "Predicted summary:  great product\n",
            "\n",
            "\n",
            "Review: excellent price great item gluten free great taste one every afternoon clock blob time works great \n",
            "Original summary: kind bars variety pack \n",
            "Predicted summary:  great product\n",
            "\n",
            "\n",
            "Review: different coconut juice one taste closes real thing \n",
            "Original summary: juice that taste like the real thing \n",
            "Predicted summary:  coconut juice\n",
            "\n",
            "\n",
            "Review: use make belgium waffles mini pancakes son daughter love tried waffles even though really like waffles general tasty \n",
            "Original summary: very good \n",
            "Predicted summary:  great waffles\n",
            "\n",
            "\n",
            "Review: month old loves yogurt melts super easy dissolve taste amazing fact organic support project peanut butter africa plus \n",
            "Original summary: yummy snack \n",
            "Predicted summary:  great snack\n",
            "\n",
            "\n",
            "Review: cats love food go crazy every day also feel good feeding product \n",
            "Original summary: excellent cat food \n",
            "Predicted summary:  cats love it\n",
            "\n",
            "\n",
            "Review: disapointed flavor lack slightly burned microwave popcorn taste sometimes going without better going organic \n",
            "Original summary: none of the and even less taste \n",
            "Predicted summary:  not worth the money\n",
            "\n",
            "\n",
            "Review: sort carmelized taste milk cannot get fresh next best alternative even kids want chocolate milk \n",
            "Original summary: you cannot get fresh it is ok \n",
            "Predicted summary:  great tasting milk\n",
            "\n",
            "\n",
            "Review: product excellent cooking shipped quickly perfect condition definitely great product highly recommend \n",
            "Original summary: great product \n",
            "Predicted summary:  excellent\n",
            "\n",
            "\n",
            "Review: ranch dressing sweet salad keep throwing unless perfer sweet ranch buy product total waste money \n",
            "Original summary: yuck \n",
            "Predicted summary:  not the same as the\n",
            "\n",
            "\n",
            "Review: quick work noodles add water milk boil comparable kraft mac cheese taste anything amazing fine \n",
            "Original summary: good \n",
            "Predicted summary:  great noodles\n",
            "\n",
            "\n",
            "Review: puppy loves could previously find vet office broken pieces training well much economical purchase packages time \n",
            "Original summary: hard to find puppy treats \n",
            "Predicted summary:  puppy loves these\n",
            "\n",
            "\n",
            "Review: ordered lb bag twice receive oats quickly within days shipping cost jumped months probably purchase cheaper buy smaller bulk local health food store shipping oats per lb whereas months ago \n",
            "Original summary: good product but for shipping cost \n",
            "Predicted summary:  great product\n",
            "\n",
            "\n",
            "Review: yr old loves things special treat chocolate candy pour directly mouth arent messy wouldnt give younger child though pieces small tasted arent cup tea son sure love \n",
            "Original summary: my kid loves them \n",
            "Predicted summary:  my dog loves these\n",
            "\n",
            "\n",
            "Review: matcha awesome cannot beat price drink iced also mix vanilla protein shakes buy \n",
            "Original summary: great \n",
            "Predicted summary:  great product\n",
            "\n",
            "\n",
            "Review: cups easy use flavor amazing usually get two large cups coffee one cup far favorite flavor \n",
            "Original summary: delicious \n",
            "Predicted summary:  my favorite\n",
            "\n",
            "\n",
            "Review: received record time good order happy service white hot chocolate excellent cup product \n",
            "Original summary: white hot chocolate cups from amazon \n",
            "Predicted summary:  great service\n",
            "\n",
            "\n",
            "Review: ordered several times candy always fresh thank much \n",
            "Original summary: always fresh \n",
            "Predicted summary:  great candy\n",
            "\n",
            "\n",
            "Review: reason buy amazon price cannot find product anywhere else cheaper good job shipping service product life general \n",
            "Original summary: hartz \n",
            "Predicted summary:  great product\n",
            "\n",
            "\n",
            "Review: sorry dog would touch anything discard delivered timely manner however may product know work \n",
            "Original summary: sorry did not work \n",
            "Predicted summary:  dog did not work\n",
            "\n",
            "\n",
            "Review: like texture bread lot like spongy cardboard vendor however responsive complaint issued full credit three unopened loaves \n",
            "Original summary: california lifestyle flax soy bread oz \n",
            "Predicted summary:  not what expected\n",
            "\n",
            "\n",
            "Review: normally purchase bulk retailer find vitamin type specialty items amazon com best price prime member shipping quick cost effective like orange lemonade best grape pretty good well \n",
            "Original summary: great taste great price \n",
            "Predicted summary:  great product\n",
            "\n",
            "\n",
            "Review: absolutely delicious got banana nut bread flavor huge fan banana nut bread general pleasantly surprised tasted super fresh almonds kicked notch plus healthy complain \n",
            "Original summary: delicious \n",
            "Predicted summary:  delicious\n",
            "\n",
            "\n",
            "Review: granola great taste texture one favorite desserts bakery main granolas wonderful flavor \n",
            "Original summary: great taste \n",
            "Predicted summary:  great granola\n",
            "\n",
            "\n",
            "Review: searched site gluten free items item came selection choices celiac totally gf item always read find print cannot completely trust website \n",
            "Original summary: warning this item is not gf \n",
            "Predicted summary:  not gluten free\n",
            "\n",
            "\n",
            "Review: illy brand always one favorite beans price comparable grocery stores matter much tin smashed dented bit every beans unharmed \n",
            "Original summary: always good choice \n",
            "Predicted summary:  great product\n",
            "\n",
            "\n",
            "Review: tiny packets bought thinking regular size kids love product particular package outrageously expensive tiny packages sent back \n",
            "Original summary: mini mini is right \n",
            "Predicted summary:  do not buy\n",
            "\n",
            "\n",
            "Review: tried brought local asian store fell love thought buy whole box love spicy tastes lot better ones sold grocery store \n",
            "Original summary: spicy goodness \n",
            "Predicted summary:  love these\n",
            "\n",
            "\n",
            "Review: grew eating product always loved really creamy sweet enough think another packaged rice pudding compares \n",
            "Original summary: extremely creamy \n",
            "Predicted summary:  great\n",
            "\n",
            "\n",
            "Review: really like hemp seeds manitoba got last year repeat order use green smoothies \n",
            "Original summary: hemp seeds \n",
            "Predicted summary:  great product\n",
            "\n",
            "\n",
            "Review: bought wok products one hit bought high fructose corn syrup hydrogenated oils oyster sauce made stir fry marinades rich added bit flavor run stir fry \n",
            "Original summary: good sauce \n",
            "Predicted summary:  good stuff\n",
            "\n",
            "\n",
            "Review: grat tasting cup coffee great price also like design kcup les plastic get item subscription brings price even \n",
            "Original summary: great cup \n",
            "Predicted summary:  great coffee\n",
            "\n",
            "\n",
            "Review: family loves flavor tastes lot like buffalo chicken wings stingy size though family four need make least two packets add family dinner also keep mind mix pasta rice rice \n",
            "Original summary: knorr buffalo chicken pasta rice side \n",
            "Predicted summary:  love this stuff\n",
            "\n",
            "\n",
            "Review: formulation original version sugar sugar first ingredient chocolate version making like nestles quick using place cannot add chocolate original version sugar first ingredient still good mochas though \n",
            "Original summary: not like the regular malted milk \n",
            "Predicted summary:  sugar free\n",
            "\n",
            "\n",
            "Review: excellent taste excellent nutritional benefits turned rather picky nutritionally people onto product another aspect product seems suppress hunger maybe \n",
            "Original summary: excellent \n",
            "Predicted summary:  great product\n",
            "\n",
            "\n",
            "Review: love tea chance buy bulk good pass \n",
            "Original summary: perfect any time \n",
            "Predicted summary:  great tea\n",
            "\n",
            "\n",
            "Review: golden retriever loves food allergies work great bit hard takes time chew helped replaced rawhides highly recommend \n",
            "Original summary: great buy \n",
            "Predicted summary:  my dog loves this food\n",
            "\n",
            "\n",
            "Review: must order fresh delish ordered st bag gone yum thanks still order \n",
            "Original summary: delicious \n",
            "Predicted summary:  delicious\n",
            "\n",
            "\n",
            "Review: sensitive sugar alcohols beware product although says sweetened splenda really partially sweetened splenda regardless quite good bit softer texture quite sour full sugar ones good none less \n",
            "Original summary: contain sugar alcohol \n",
            "Predicted summary:  sugar free sugar free\n",
            "\n",
            "\n",
            "Review: cup brooklyn coffee may little taller know work keurig machine buy save money \n",
            "Original summary: wont work in keurig coffee machine \n",
            "Predicted summary:  not the best\n",
            "\n",
            "\n",
            "Review: nice mild cup coffee strong good flavor \n",
            "Original summary: nice mild brew \n",
            "Predicted summary:  nice flavor\n",
            "\n",
            "\n",
            "Review: tried whim eating jiffy brand ones time taste better quick easy make add water definitely buy \n",
            "Original summary: great taste fast and easy \n",
            "Predicted summary:  yummy\n",
            "\n",
            "\n",
            "Review: great dressing well good marinate make lite add cup water bottle adding oil hard find local stores resorted buying line \n",
            "Original summary: good seasons basil dressing made lite \n",
            "Predicted summary:  great dressing\n",
            "\n",
            "\n",
            "Review: one best products market promotes healthy gums white teeth dog loves things happy likes much keeps happy teeth sparkling \n",
            "Original summary: hextra oral hygiene chews great product \n",
            "Predicted summary:  great product\n",
            "\n",
            "\n",
            "Review: good bargain depending whether sale came packed well taste oil reviewers mentioned great snack addition salads \n",
            "Original summary: tasty \n",
            "Predicted summary:  good quality\n",
            "\n",
            "\n"
          ],
          "name": "stdout"
        }
      ]
    },
    {
      "cell_type": "markdown",
      "metadata": {
        "id": "BKX_TmLZOgYK"
      },
      "source": [
        "### Model Evaluation"
      ]
    },
    {
      "cell_type": "code",
      "metadata": {
        "colab": {
          "base_uri": "https://localhost:8080/"
        },
        "id": "EaMfkIfmMbG0",
        "outputId": "a1b08d1e-6546-4922-d7de-1f63be48ea1e"
      },
      "source": [
        "results = model.evaluate([x_val,y_val[:,:-1]], y_val.reshape(y_val.shape[0],y_val.shape[1], 1)[:,1:])\n",
        "results"
      ],
      "execution_count": 43,
      "outputs": [
        {
          "output_type": "stream",
          "text": [
            "588/588 [==============================] - 20s 33ms/step - loss: 1.9807\n"
          ],
          "name": "stdout"
        },
        {
          "output_type": "execute_result",
          "data": {
            "text/plain": [
              "1.9806702136993408"
            ]
          },
          "metadata": {
            "tags": []
          },
          "execution_count": 43
        }
      ]
    },
    {
      "cell_type": "markdown",
      "metadata": {
        "id": "wPjuZ1euUb7s"
      },
      "source": [
        "### Example Summaries"
      ]
    },
    {
      "cell_type": "code",
      "metadata": {
        "colab": {
          "base_uri": "https://localhost:8080/"
        },
        "id": "9TO1YMPHUfEI",
        "outputId": "6fa94b5d-7087-43f7-de9b-9995ea04b21f"
      },
      "source": [
        "for i in range(0,100):\n",
        "    print(\"Review:\",seq2text(x_val[i]))\n",
        "    print(\"Original summary:\",seq2summary(y_val[i]))\n",
        "    print(\"Predicted summary:\",decode_sequence(x_val[i].reshape(1,max_text_len)))\n",
        "    print(\"\\n\")"
      ],
      "execution_count": 44,
      "outputs": [
        {
          "output_type": "stream",
          "text": [
            "Review: first time ordered palm sugar amazon order arrived broken pack inside box sent email customer service handled quickly week later got replacement palm sugar awesome definitely business merchant thank \n",
            "Original summary: great product and fantastic customer service \n",
            "Predicted summary:  great product poor shipping\n",
            "\n",
            "\n",
            "Review: got month old lab puppy keep occupied leave awhile got works fantastically loves \n",
            "Original summary: new puppy loves this \n",
            "Predicted summary:  puppy loves these\n",
            "\n",
            "\n",
            "Review: love flavor davinci sugar free syrup use almost every day making morning coffee mix caramel butterscotch also great flavors \n",
            "Original summary: one of my favorites \n",
            "Predicted summary:  great syrup\n",
            "\n",
            "\n",
            "Review: use smoothies cover taste kale peppers mustard greens etc even husband drink green drink chocolate flavor \n",
            "Original summary: great flavor \n",
            "Predicted summary:  great stuff\n",
            "\n",
            "\n",
            "Review: item way overpriced compared prices nespresso com provided outstanding customer service \n",
            "Original summary: overpriced item \n",
            "Predicted summary:  overpriced\n",
            "\n",
            "\n",
            "Review: wish pack dried fruit flavors intense nd bag sitting pantry assortment pack expensive \n",
            "Original summary: no tastes like dried cherry only \n",
            "Predicted summary:  delicious\n",
            "\n",
            "\n",
            "Review: creamy feel high cocoa percentage definitely best dark chocolate \n",
            "Original summary: excellent \n",
            "Predicted summary:  best cocoa ever\n",
            "\n",
            "\n",
            "Review: product arrived stated even undamaged dog loves stuff sensitive stomach eat certain foods \n",
            "Original summary: iams food \n",
            "Predicted summary:  dog food\n",
            "\n",
            "\n",
            "Review: great tasting product terrific price cost per box stores much higher \n",
            "Original summary: great product \n",
            "Predicted summary:  great product\n",
            "\n",
            "\n",
            "Review: somewhat useful stash flu season fall near husband desk finishing \n",
            "Original summary: yum but salty \n",
            "Predicted summary:  great\n",
            "\n",
            "\n",
            "Review: good chocolate bit pricey texture consistency easy work friends raved flavor \n",
            "Original summary: good chocolate \n",
            "Predicted summary:  good chocolate\n",
            "\n",
            "\n",
            "Review: perfect coffee everyday use wife uses cup second time discard price paid along free shipping made best deal going \n",
            "Original summary: keurig cup \n",
            "Predicted summary:  great coffee\n",
            "\n",
            "\n",
            "Review: oscar cat tried many fancy feast varities picky eater finally found favorites chicken turkey beef combination amazon happy great price free shipping waiting long lines checkout yeah \n",
            "Original summary: picky eater finally satisfied \n",
            "Predicted summary:  cat loves this food\n",
            "\n",
            "\n",
            "Review: friend germany introduced husband vinegar fabulous used sauteed brussels sprouts salad dressing also make cole slaw potato salad also wonderful use marinate thinly sliced cucumbers onions refreshing salad addicted \n",
            "Original summary: delish \n",
            "Predicted summary:  salad dressing\n",
            "\n",
            "\n",
            "Review: daughter like much first day two ate without problem seem give constipation gas etc much better bland tasteless rice oatmeal etc cereals find store smells good tastes good similar nutrients \n",
            "Original summary: great tasting infant cereal \n",
            "Predicted summary:  good but not great\n",
            "\n",
            "\n",
            "Review: absolutely love stuff right amount flavor kick put everything cannot get enough \n",
            "Original summary: love this stuff \n",
            "Predicted summary:  love this stuff\n",
            "\n",
            "\n",
            "Review: loved natural flavor sweetner anything alter yummy earthy flavor ginseng also drink cold grate bikram \n",
            "Original summary: great natural flavor \n",
            "Predicted summary:  great\n",
            "\n",
            "\n",
            "Review: summer introduced crackers long island bought boxes never bought wine healthy addicting enjoy \n",
            "Original summary: great with wine \n",
            "Predicted summary:  great crackers\n",
            "\n",
            "\n",
            "Review: mix cocktail friend pinch lemon peel powder guest saying delicious attempt using item expand use dedicated product great find amazon farm taken time produce \n",
            "Original summary: what great find \n",
            "Predicted summary:  great product\n",
            "\n",
            "\n",
            "Review: try using facial rather consuming makes skin feel amazing honey naturally might even help acne pesky skin conditions \n",
            "Original summary: tastes great even better on skin \n",
            "Predicted summary:  love it\n",
            "\n",
            "\n",
            "Review: love much space saves sturdy design cups fit perfectly drawer special edition keurig brewer sits nicely platform \n",
            "Original summary: very pleased \n",
            "Predicted summary:  great idea\n",
            "\n",
            "\n",
            "Review: convenient keep diaper bag case loves snacks love organic far concerned must \n",
            "Original summary: love these \n",
            "Predicted summary:  great for travel\n",
            "\n",
            "\n",
            "Review: bought several cases brand several competitor amazon tastes better kids prefer prefer much better chocolate flavor much funny taste get type packaging love \n",
            "Original summary: kid favorite snack drink for the summer \n",
            "Predicted summary:  not so good\n",
            "\n",
            "\n",
            "Review: ordered family members delicious one person even told best jerky would ever would definitely buy make wonderful gift person everything \n",
            "Original summary: review \n",
            "Predicted summary:  delicious\n",
            "\n",
            "\n",
            "Review: good brownie mix little flavor consistency cardboard lot better mixes market would recommend one \n",
            "Original summary: not good mix \n",
            "Predicted summary:  good brownies\n",
            "\n",
            "\n",
            "Review: used sauce many dishes yes good oriental stir fry use base many sauces cooking steak pork chops richly flavored high sodium wonderful product \n",
            "Original summary: great flavor \n",
            "Predicted summary:  great sauce\n",
            "\n",
            "\n",
            "Review: hoping would ones grocery store olive bar look flavor close bit tinny flavor able use ingredient bit eat \n",
            "Original summary: little \n",
            "Predicted summary:  not what expected\n",
            "\n",
            "\n",
            "Review: bought got reading fantastic star reviews stuff terrible could take bites threw rest garbage stuck soups left donate homeless \n",
            "Original summary: this stuff is terrible \n",
            "Predicted summary:  terrible\n",
            "\n",
            "\n",
            "Review: great drink like cocoa mix probably like ever made home rich excessively sweet find make cup want sit savor rather gulping \n",
            "Original summary: yummy \n",
            "Predicted summary:  great cocoa\n",
            "\n",
            "\n",
            "Review: bag last forever use tiny scoop mix wet dog food dog doesnt seem like eat dry may like dry dog food buying amazon \n",
            "Original summary: big bag great price \n",
            "Predicted summary:  dog food\n",
            "\n",
            "\n",
            "Review: excited find cannot believe amazing taste literally cannot tell difference regular chocolate chips price willing buy eat \n",
            "Original summary: oh happy day \n",
            "Predicted summary:  best ever\n",
            "\n",
            "\n",
            "Review: passed test made dad happy pleased amount quality pistachios \n",
            "Original summary: success \n",
            "Predicted summary:  fresh and fresh\n",
            "\n",
            "\n",
            "Review: impressed line products packaging could improved adding shaker top particular seasoning could use garlic opinion \n",
            "Original summary: am \n",
            "Predicted summary:  great seasoning\n",
            "\n",
            "\n",
            "Review: always liked oberto sausage short bite sized links handy \n",
            "Original summary: oberto sausage sticks \n",
            "Predicted summary:  good stuff\n",
            "\n",
            "\n",
            "Review: blends pretty easy liquids like adding coffee yogurt lemonade girlfriend uses baking since replaces oil great product organic natural \n",
            "Original summary: delicious organic sugar with smooth flavor \n",
            "Predicted summary:  great product\n",
            "\n",
            "\n",
            "Review: love tea drink every morning suppose benefits lowering blood pressure sure put little agave enjoy coffee get heart burn upset stomach \n",
            "Original summary: love this tea \n",
            "Predicted summary:  great tea\n",
            "\n",
            "\n",
            "Review: purchased treats dog food first time unfortunately dogs touch dog food however loved treats even within one bag noticed healthy shinier coat dogs \n",
            "Original summary: dogs love these \n",
            "Predicted summary:  my dog loves these\n",
            "\n",
            "\n",
            "Review: bitter pinch salt calms nicely good full flavor would noticeable burnt \n",
            "Original summary: out of \n",
            "Predicted summary:  not the best\n",
            "\n",
            "\n",
            "Review: love coffee drink mud drink coffee drink alot best tasting light brew found \n",
            "Original summary: great light brew \n",
            "Predicted summary:  great coffee\n",
            "\n",
            "\n",
            "Review: terra amazing olive oil greece italy flavorful italian oils americans associated olive oils cook magazine ranks number one \n",
            "Original summary: terra delicious olive oil from \n",
            "Predicted summary:  amazing\n",
            "\n",
            "\n",
            "Review: quick easy snack consistently tasty good quality however require different cook times different microwaves actually healthier potato chips \n",
            "Original summary: lowrey microwave pork rinds original \n",
            "Predicted summary:  great snack\n",
            "\n",
            "\n",
            "Review: reading lot would increase milk production taking two capsules times day really made difference product arrive quickly trick would recommended \n",
            "Original summary: loved these capsules worked for me \n",
            "Predicted summary:  great product\n",
            "\n",
            "\n",
            "Review: dragonwell tea leaves brown unlike brands dragonwell tea purchased flavor good buy tea \n",
            "Original summary: disappointing \n",
            "Predicted summary:  not matcha\n",
            "\n",
            "\n",
            "Review: dog loves lamb ultramix hates formula never purchase may even switch brands food kinda likes lamb pup loves grain free ultramix formula stay may take loss get rid food \n",
            "Original summary: picky puppy \n",
            "Predicted summary:  my dog loves this\n",
            "\n",
            "\n",
            "Review: get comes snacks like dip almond butter added protein would rate five like mary products fragile end many small pieces bottom bag \n",
            "Original summary: after the first case \n",
            "Predicted summary:  good snack\n",
            "\n",
            "\n",
            "Review: excited receive chocolate caramel marshmallow mail sampled three threw trash edible \n",
            "Original summary: walden farms taste terrible \n",
            "Predicted summary:  gross\n",
            "\n",
            "\n",
            "Review: tea barely taste requires two three times typical amount loose leaves brew cup even result something barely tastes like tea certainly like earl grey \n",
            "Original summary: disappointing \n",
            "Predicted summary:  not so good\n",
            "\n",
            "\n",
            "Review: used pods several years great quality cup brewed every time pod machine best much better results senseo store brand pods \n",
            "Original summary: great coffee easy to brew pod \n",
            "Predicted summary:  senseo pods\n",
            "\n",
            "\n",
            "Review: used mustard bath well ten years wonderful aching muscles much many similar products happy amazon \n",
            "Original summary: the best bath \n",
            "Predicted summary:  mustard\n",
            "\n",
            "\n",
            "Review: everything expected product good quality two containers promised amount product package came time good condition \n",
            "Original summary: everything as expected \n",
            "Predicted summary:  good product\n",
            "\n",
            "\n",
            "Review: found tea many groceries stores northeast moved nc could find anywhere along vast amount every kind food love cinnamon taste without fruit normally see bought cases happy \n",
            "Original summary: best tea ever \n",
            "Predicted summary:  best tea ever\n",
            "\n",
            "\n",
            "Review: nothing better fresh cardamom pods make bread quality price product thank amazon quality sellers \n",
            "Original summary: great price for cardamom at amazon \n",
            "Predicted summary:  great value\n",
            "\n",
            "\n",
            "Review: agree previous reviewer welcome present older laws need stuff always energy shopping fresh fruit price reasonable especially free shipping \n",
            "Original summary: nice present for in \n",
            "Predicted summary:  great product\n",
            "\n",
            "\n",
            "Review: recently tried milk chocolate cup amazon thing drink common chocolate color items listed ingredients cocoa number chemical smell chemical taste buy junk say warned deserve stars \n",
            "Original summary: chocolate lovers beware \n",
            "Predicted summary:  not good\n",
            "\n",
            "\n",
            "Review: coffee bean direct co coffee provides good strong cup decaf coffee decaf coffee weak ones espresso roast expensive coffee reasonably priced good rich flavor \n",
            "Original summary: good brew for fair price \n",
            "Predicted summary:  good coffee\n",
            "\n",
            "\n",
            "Review: dried bananas bag suger heavy laden unhealthy junk need sugar fruit sweet already thought buying healthy snack read lines fault fool twice bag candy much cheaper \n",
            "Original summary: bag of candy is cheaper \n",
            "Predicted summary:  tasty but too sweet\n",
            "\n",
            "\n",
            "Review: bought waffle mix make waffles three breakfasts family reunion waffles delicious waffles lasted two days yummy everyone wanted one \n",
            "Original summary: family hit \n",
            "Predicted summary:  great waffles\n",
            "\n",
            "\n",
            "Review: postum brought back market available online anyone interested original recipe postum available web moment back market long live postum \n",
            "Original summary: postum is back on the market \n",
            "Predicted summary:  postum\n",
            "\n",
            "\n",
            "Review: staple house teenager takes whenever goes fit easily small purse crumbly nice flavor especially nice place lacks gluten free options filling well \n",
            "Original summary: favorite \n",
            "Predicted summary:  good but not great\n",
            "\n",
            "\n",
            "Review: sweet like eating candied meat savory item hoping would skip option go original \n",
            "Original summary: meh yucky \n",
            "Predicted summary:  not the same as the original\n",
            "\n",
            "\n",
            "Review: gluten free milk free product awesome able use almond milk instead regular milk great delicious easy breakfast make stomach hurt \n",
            "Original summary: gluten free is delicious \n",
            "Predicted summary:  great product\n",
            "\n",
            "\n",
            "Review: great morning treats filling layer thin wish bit totally recommend sweet tooth fix \n",
            "Original summary: yummy with coffee \n",
            "Predicted summary:  great snack\n",
            "\n",
            "\n",
            "Review: purchased product bad experience another flavor better selection original pralines taste like \n",
            "Original summary: better \n",
            "Predicted summary:  not as good as remembered\n",
            "\n",
            "\n",
            "Review: ordered lbs bag date expiration order expensive product get something thats almost expired disappointed would recommend buy seller anymore \n",
            "Original summary: would not recommend to buy from here \n",
            "Predicted summary:  expiration date\n",
            "\n",
            "\n",
            "Review: sparkling lemon beverage refreshing delicious tasted better bottled canned lemonade difficult find local stores happy buy case amazon \n",
            "Original summary: my favorite beverage \n",
            "Predicted summary:  delicious\n",
            "\n",
            "\n",
            "Review: dogs month old goldendoodle month old chocolate labrador retriever love toy cannot buy cheap plastic toys devour within minutes one lasted months buying another one \n",
            "Original summary: great toy \n",
            "Predicted summary:  great for dogs\n",
            "\n",
            "\n",
            "Review: delicious able try job went clearance cents since holiday item seen sense know purchase online im happy taste great even without fattening items cant wait mm \n",
            "Original summary: delicious and not missing anything \n",
            "Predicted summary:  love this stuff\n",
            "\n",
            "\n",
            "Review: orijen truly amazing like giving dogs crack love allergies longer bother taste wild year bad taste wild owned diamond past recalls dog foods \n",
            "Original summary: fish sea veg \n",
            "Predicted summary:  the best\n",
            "\n",
            "\n",
            "Review: excellent clean taste honey flavor lasting throughout pallet taste worth money delivery timely packaged product protection \n",
            "Original summary: honey \n",
            "Predicted summary:  excellent honey\n",
            "\n",
            "\n",
            "Review: received organic catnip christmas races catnip seen reaction wondering make comparable product humans \n",
            "Original summary: my cat just did not like catnip \n",
            "Predicted summary:  cat food\n",
            "\n",
            "\n",
            "Review: read reviews said bowling pin lollipop upside stick hoped fluke unfortunately mine way ball lollipops slightly cracked usable cute sure kids enjoy goody bags \n",
            "Original summary: disappointed \n",
            "Predicted summary:  not what was hoping for\n",
            "\n",
            "\n",
            "Review: pumpkin spice weak spice flavors brewed second cup used less water much better buy \n",
            "Original summary: pumpkin spice much to be \n",
            "Predicted summary:  not the best\n",
            "\n",
            "\n",
            "Review: thing mixed nuts doubt best deluxe mixed nut assortment found quality value purchased excellent prices supermarket recently paying oz container market basket raised pay plus shipping absurd \n",
            "Original summary: great nuts ridiculous price \n",
            "Predicted summary:  good value\n",
            "\n",
            "\n",
            "Review: puppy chewing bud item keeps chewer busy long periods time mess smell \n",
            "Original summary: bully sticks \n",
            "Predicted summary:  great toy\n",
            "\n",
            "\n",
            "Review: tasted product purchased price free shipping cannot beat \n",
            "Original summary: vita coco \n",
            "Predicted summary:  great price\n",
            "\n",
            "\n",
            "Review: whole family loves chips go fast great get case \n",
            "Original summary: the best chips ever \n",
            "Predicted summary:  great chips\n",
            "\n",
            "\n",
            "Review: ordered love crunch dark chocolate red berries yet received aloha blend well sweetheart likes happy received wrong item \n",
            "Original summary: wrong item \n",
            "Predicted summary:  great\n",
            "\n",
            "\n",
            "Review: like old choco lite bars favorite candy back air delights new favorite candy bar \n",
            "Original summary: just like choco lite \n",
            "Predicted summary:  love these\n",
            "\n",
            "\n",
            "Review: ordered large amount corporate contest arrived quickly separate shipments product fresh tasty however two packages cellophane broken cookies box make lots purchases amazon make food purchase \n",
            "Original summary: may not get all your cookies \n",
            "Predicted summary:  great product\n",
            "\n",
            "\n",
            "Review: good cant low fat ordered one order case next \n",
            "Original summary: amazing \n",
            "Predicted summary:  good\n",
            "\n",
            "\n",
            "Review: best decaf tea found close taste brand regular tea pleased \n",
            "Original summary: best decaf ever \n",
            "Predicted summary:  best decaf tea\n",
            "\n",
            "\n",
            "Review: kettle chip crisp crunchy good although somewhat greasy coated flavoring causing mouth burn expected chip rosemary flavoring leaves greasy gritty residue fingers two three chips \n",
            "Original summary: flavor too strong coating too messy \n",
            "Predicted summary:  not as good as the original\n",
            "\n",
            "\n",
            "Review: friend give liked much order nice pumpkin taste strong smooth good fall get togethers \n",
            "Original summary: love this coffee \n",
            "Predicted summary:  great coffee\n",
            "\n",
            "\n",
            "Review: virginia cannot find adequate onion powder everything ounces tastes exactly like onion powder exactly states label bit costly hate going back store every month traffic horrible \n",
            "Original summary: tastes like onion powder \n",
            "Predicted summary:  not as good as the original\n",
            "\n",
            "\n",
            "Review: super shocked come porch find package days early love speedy time freshness oldest daughter getting braces wants super bubble chew way home thank \n",
            "Original summary: awesome service \n",
            "Predicted summary:  great product\n",
            "\n",
            "\n",
            "Review: cat loves things fish flavored refused anything product would even tolerate food dish pulled shoved side floor \n",
            "Original summary: kitty would not touch it \n",
            "Predicted summary:  my cat hated this\n",
            "\n",
            "\n",
            "Review: bad better find moist enough rate stars moistness packaged prunes priority nice sweet average size whole dried plums must refrigerate opening tells package think got fair price got \n",
            "Original summary: newman own organics prunes ounce bags \n",
            "Predicted summary:  good but not great\n",
            "\n",
            "\n",
            "Review: ordered two bags carmel like coating little jalapeno seasoning tasted awful reorder \n",
            "Original summary: sweet jalapeno popcorn \n",
            "Predicted summary:  not what thought\n",
            "\n",
            "\n",
            "Review: years cafe francais favorite flavor powdered coffee mix never tire buying bulk price made day \n",
            "Original summary: favorite coffee \n",
            "Predicted summary:  best coffee ever\n",
            "\n",
            "\n",
            "Review: say catsup pete sake thick tomatoey run middle good burger chips also seems lower acidity organic annies brand sell amazon guess catsup equal \n",
            "Original summary: is \n",
            "Predicted summary:  great product\n",
            "\n",
            "\n",
            "Review: great long periods physical like rock climbing ultimate frisbee \n",
            "Original summary: great product \n",
            "Predicted summary:  love it\n",
            "\n",
            "\n",
            "Review: product makes great gift cookies delicious tin attractive good quality highly recommended \n",
            "Original summary: great gift \n",
            "Predicted summary:  great product\n",
            "\n",
            "\n",
            "Review: love tea like bitter betty honest tea diabetes bottle snapple white tea mango faves \n",
            "Original summary: not too sweet not too bitter \n",
            "Predicted summary:  best tea ever\n",
            "\n",
            "\n",
            "Review: one best sauce condiments world try mixing little bit catsup extend mellow taste bit \n",
            "Original summary: delicioso \n",
            "Predicted summary:  great sauce\n",
            "\n",
            "\n",
            "Review: delicious lentils keep firmness flavor enhancing recipe use cost little worth looking really good taste texture \n",
            "Original summary: perfect little lentils \n",
            "Predicted summary:  great\n",
            "\n",
            "\n",
            "Review: plant dead arrived leaves burned brown appeared subjected much heat something seller refunding money would preferred received another plant \n",
            "Original summary: plant was dead when it arrived \n",
            "Predicted summary:  not what was pictured\n",
            "\n",
            "\n",
            "Review: spring roll wrapper rice exactly looking \n",
            "Original summary: spring roll wrappers \n",
            "Predicted summary:  rice\n",
            "\n",
            "\n",
            "Review: product arrived promised described oat bran ground little finer previous packages tried makes easier mix yogurt food \n",
            "Original summary: as promised \n",
            "Predicted summary:  flaxseed\n",
            "\n",
            "\n",
            "Review: really enjoy soup salty makes good lunch homemade good \n",
            "Original summary: sicilian chicken soup \n",
            "Predicted summary:  good soup\n",
            "\n",
            "\n",
            "Review: originally purchased item town grocer could find locally found licorice scottie dogs amazon price right plus postage cannot better still enjoying purchase thanks amazon \n",
            "Original summary: excellent choice \n",
            "Predicted summary:  great product\n",
            "\n",
            "\n"
          ],
          "name": "stdout"
        }
      ]
    }
  ]
}